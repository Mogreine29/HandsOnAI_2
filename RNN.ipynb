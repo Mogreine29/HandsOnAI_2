{
  "nbformat": 4,
  "nbformat_minor": 0,
  "metadata": {
    "colab": {
      "provenance": [],
      "include_colab_link": true
    },
    "kernelspec": {
      "name": "python3",
      "display_name": "Python 3"
    },
    "language_info": {
      "name": "python"
    },
    "accelerator": "GPU",
    "gpuClass": "standard"
  },
  "cells": [
    {
      "cell_type": "markdown",
      "metadata": {
        "id": "view-in-github",
        "colab_type": "text"
      },
      "source": [
        "<a href=\"https://colab.research.google.com/github/Mogreine29/HandsOnAI_2/blob/main/RNN.ipynb\" target=\"_parent\"><img src=\"https://colab.research.google.com/assets/colab-badge.svg\" alt=\"Open In Colab\"/></a>"
      ]
    },
    {
      "cell_type": "markdown",
      "source": [
        "Importing libraries"
      ],
      "metadata": {
        "id": "eRLBMkZJ28Uz"
      }
    },
    {
      "cell_type": "code",
      "source": [
        "import pandas as pd\n",
        "import numpy as np\n",
        "import seaborn as sns\n",
        "import matplotlib.pyplot as plt\n",
        "from sklearn.model_selection import train_test_split\n",
        "from sklearn.metrics import classification_report, confusion_matrix\n",
        "import gensim\n",
        "from keras.optimizers import Adam\n",
        "from keras_preprocessing import text, sequence\n",
        "from keras.callbacks import ReduceLROnPlateau\n",
        "from keras.models import Sequential\n",
        "from keras.layers import Dense, Embedding, LSTM, Dropout\n",
        "import pickle\n",
        "import re\n",
        "import string\n",
        "import nltk\n",
        "nltk.download(\"stopwords\")\n",
        "from nltk.corpus import stopwords\n",
        "from wordcloud import WordCloud"
      ],
      "metadata": {
        "colab": {
          "base_uri": "https://localhost:8080/"
        },
        "id": "gFBjX8z-9uH3",
        "outputId": "4adaccd1-5031-43a4-f281-cec3fecfd1ab"
      },
      "execution_count": null,
      "outputs": [
        {
          "output_type": "stream",
          "name": "stderr",
          "text": [
            "[nltk_data] Downloading package stopwords to /root/nltk_data...\n",
            "[nltk_data]   Unzipping corpora/stopwords.zip.\n"
          ]
        }
      ]
    },
    {
      "cell_type": "markdown",
      "source": [
        "Mounting google drive to access data and save models"
      ],
      "metadata": {
        "id": "Ga7SNUMI2_cv"
      }
    },
    {
      "cell_type": "code",
      "source": [
        "from google.colab import drive\n",
        "drive.mount('/content/drive')\n",
        "%cd drive/My\\ Drive/Challenge2"
      ],
      "metadata": {
        "colab": {
          "base_uri": "https://localhost:8080/"
        },
        "id": "aZJfyIHd94XB",
        "outputId": "ae8b8afc-9fbf-4510-8b41-5ef95ea0fc33"
      },
      "execution_count": null,
      "outputs": [
        {
          "output_type": "stream",
          "name": "stdout",
          "text": [
            "Mounted at /content/drive\n",
            "/content/drive/.shortcut-targets-by-id/1aIAK0Qi-pofkSLi3xijkAex-JrSW_tn8/Challenge2\n"
          ]
        }
      ]
    },
    {
      "cell_type": "markdown",
      "source": [
        "Reading data "
      ],
      "metadata": {
        "id": "4ZKZXbyO3FHT"
      }
    },
    {
      "cell_type": "code",
      "source": [
        "df_train = pd.read_csv('/content/drive/MyDrive/Challenge2/fake_train.csv')\n",
        "df_test = pd.read_csv('/content/drive/MyDrive/Challenge2/fake_test.csv')"
      ],
      "metadata": {
        "id": "sKZc9ZUU-Xwc"
      },
      "execution_count": null,
      "outputs": []
    },
    {
      "cell_type": "markdown",
      "source": [
        "Removing useless columns"
      ],
      "metadata": {
        "id": "SaruKXCD3fT-"
      }
    },
    {
      "cell_type": "code",
      "source": [
        "df_train = df_train.drop(['Unnamed: 0', 'target_name'], axis = 1)\n",
        "df_test = df_test.drop(['Unnamed: 0', 'target_name'], axis = 1)"
      ],
      "metadata": {
        "id": "14BIXzRZ-u-E"
      },
      "execution_count": null,
      "outputs": []
    },
    {
      "cell_type": "markdown",
      "source": [
        "Deleting parasite data (see report for more info)"
      ],
      "metadata": {
        "id": "Vmd_S97T0Dy9"
      }
    },
    {
      "cell_type": "code",
      "source": [
        "df_train.drop([1136, 1180, 1317, 1362, 1429], inplace = True )"
      ],
      "metadata": {
        "id": "M0jY6EGZ0Dcr"
      },
      "execution_count": null,
      "outputs": []
    },
    {
      "cell_type": "markdown",
      "source": [
        "Adding new data"
      ],
      "metadata": {
        "id": "BqzXxhbjJGGU"
      }
    },
    {
      "cell_type": "code",
      "source": [
        "df_real = pd.read_csv(\"real_news.csv\")\n",
        "df_fake = pd.read_csv(\"fake_news.csv\")\n",
        "df_real = df_real.drop(['site', 'url', 'title'], axis = 1)\n",
        "df_fake = df_fake.drop(['site', 'url', 'title'], axis = 1)\n",
        "df_real['label'] = 0\n",
        "df_fake['label'] = 1\n",
        "df_real.rename(columns = {'text':'data'}, inplace = True)\n",
        "df_fake.rename(columns = {'text':'data'}, inplace = True)\n",
        "df_train = df_train.append(df_real, ignore_index = True)\n",
        "df_train = df_train.append(df_fake, ignore_index = True)\n",
        "\n",
        "df_train['data'] = df_train['data'].astype(str)\n",
        "df_test['data'] = df_test['data'].astype(str)"
      ],
      "metadata": {
        "id": "q5rqGS-nJFlz"
      },
      "execution_count": null,
      "outputs": []
    },
    {
      "cell_type": "markdown",
      "source": [
        "Removing Stopwords and other characters using RegEx"
      ],
      "metadata": {
        "id": "luf5tA8e3h-g"
      }
    },
    {
      "cell_type": "code",
      "source": [
        "STOPWORDS = set(stopwords.words('french'))\n",
        "moreStopwords = ['plus', 'comme', 'a', 'il', 'alors','au',\n",
        "'aucuns','aussi','autre','avant','avec','avoir','bon','car','ce','cela','ces','ceux','chaque','ci',\n",
        "'comme','comment','dans','des','du','dedans','dehors','depuis','devrait','doit','donc','dos','début',\n",
        "'elle','elles','en','encore','essai','est','et','eu','fait','faites','fois','font','hors','ici','il',\n",
        "'ils','je',\t'juste','la','le','les','leur','là','ma','maintenant','mais','mes','mien','moins','mon',\n",
        "'mot','même','ni','nommés','notre','nous','ou','où','par','parce','pas','peut','peu','plupart','pour',\n",
        "'pourquoi','quand','que','quel','quelle','quelles','quels','qui','sa','sans','ses','seulement','si',\n",
        "'sien','son','sont','sous','soyez',\t'sujet','sur','ta','tandis','tellement','tels','tes','ton','tous',\n",
        "'tout','trop','très','tu','voient','vont','votre','vous','vu','ça','étaient','état','étions','été','être',\n",
        "'cette','celle','dont','celui', 'adsbygoogle','window','secretnews','leurs','ainsi','toute','déjà','autres',\n",
        "'suivre','facebook','twitter','parodique', 'média','collaboratif', 'libre','notamment',\n",
        "'mercilesentreprisesgiletsjaunes',\n",
        "'entreprisesgiletsjaunes',\n",
        "'dontforgetyourmariage']\n",
        "\n",
        "STOPWORDS.update(moreStopwords)\n",
        "def cleaner(text):\n",
        "    text = text.lower()\n",
        "    text = re.sub('\\[.*?\\]', '', text)\n",
        "    text = re.sub(\"\\\\W\",\" \",text) \n",
        "    text = re.sub('https?://\\S+|www\\.\\S+', '', text)\n",
        "    text = re.sub('<.*?>+', '', text)\n",
        "    text = re.sub('[%s]' % re.escape(string.punctuation), '', text)\n",
        "    text = re.sub('\\n', '', text)\n",
        "    text = re.sub('\\w*\\d\\w*', '', text)\n",
        "\n",
        "    text = ' '.join(word for word in text.split() if word not in STOPWORDS)   \n",
        "    return text"
      ],
      "metadata": {
        "id": "x05OYt5q-2uF"
      },
      "execution_count": null,
      "outputs": []
    },
    {
      "cell_type": "code",
      "source": [
        "df_train['data'] = df_train['data'].apply(cleaner)\n",
        "df_test['data'] = df_test['data'].apply(cleaner)"
      ],
      "metadata": {
        "id": "-A22HZuf--6q"
      },
      "execution_count": null,
      "outputs": []
    },
    {
      "cell_type": "code",
      "source": [
        "df_train = df_train.append(df_test, ignore_index=True)\n",
        "shuffled = df_train.sample(frac=1).reset_index()"
      ],
      "metadata": {
        "id": "YRsC1CEvUnOl"
      },
      "execution_count": null,
      "outputs": []
    },
    {
      "cell_type": "code",
      "source": [
        "x, x_test, y, y_test = train_test_split(shuffled.data,shuffled.label,test_size=0.2,train_size=0.8)\n",
        "x_train, x_val, y_train, y_val = train_test_split(x,y,test_size = 0.25,train_size =0.75)"
      ],
      "metadata": {
        "id": "oGjIDxPl_A3u"
      },
      "execution_count": null,
      "outputs": []
    },
    {
      "cell_type": "markdown",
      "source": [
        "Text vectorization using Keras"
      ],
      "metadata": {
        "id": "_YFfSsPW7CtC"
      }
    },
    {
      "cell_type": "code",
      "source": [
        "max_features = 10000\n",
        "maxlen = 512"
      ],
      "metadata": {
        "id": "mQ_-640dpbI9"
      },
      "execution_count": null,
      "outputs": []
    },
    {
      "cell_type": "code",
      "source": [
        "tokenizer = text.Tokenizer(num_words=max_features)\n",
        "tokenizer.fit_on_texts(x_train)\n",
        "tokenized_train = tokenizer.texts_to_sequences(x_train)\n",
        "x_train = sequence.pad_sequences(tokenized_train, maxlen=maxlen)"
      ],
      "metadata": {
        "id": "HOX7DAK-pdmR"
      },
      "execution_count": null,
      "outputs": []
    },
    {
      "cell_type": "code",
      "source": [
        "tokenized_val = tokenizer.texts_to_sequences(x_val)\n",
        "X_val = sequence.pad_sequences(tokenized_val, maxlen=maxlen)\n",
        "\n",
        "tokenized_test = tokenizer.texts_to_sequences(x_test)\n",
        "X_test = sequence.pad_sequences(tokenized_test, maxlen=maxlen)"
      ],
      "metadata": {
        "id": "G5wZ_n_EkskT"
      },
      "execution_count": null,
      "outputs": []
    },
    {
      "cell_type": "markdown",
      "source": [
        "Embedding Matrix for our model"
      ],
      "metadata": {
        "id": "J3J4ziy07H6j"
      }
    },
    {
      "cell_type": "code",
      "source": [
        "#!wget https://embeddings.net/embeddings/frWac_non_lem_no_postag_no_phrase_200_cbow_cut100.bin"
      ],
      "metadata": {
        "id": "cjEiawy1iYYH"
      },
      "execution_count": null,
      "outputs": []
    },
    {
      "cell_type": "code",
      "source": [
        "word2vec_model_fr = gensim.models.KeyedVectors.load_word2vec_format(\"frWac_non_lem_no_postag_no_phrase_200_cbow_cut100.bin\",binary=True)"
      ],
      "metadata": {
        "id": "bvcGKQctiaoF"
      },
      "execution_count": null,
      "outputs": []
    },
    {
      "cell_type": "code",
      "source": [
        "embeddings_index = dict((key,word2vec_model_fr[key]) for key in word2vec_model_fr.vocab.keys())"
      ],
      "metadata": {
        "id": "HI8x3LR4qg7O"
      },
      "execution_count": null,
      "outputs": []
    },
    {
      "cell_type": "code",
      "source": [
        "all_embs = np.stack(embeddings_index.values())\n",
        "emb_mean,emb_std = all_embs.mean(), all_embs.std()\n",
        "embed_size = all_embs.shape[1]\n",
        "\n",
        "word_index = tokenizer.word_index\n",
        "nb_words = min(max_features, len(word_index))\n",
        "embedding_matrix = embedding_matrix = np.random.normal(emb_mean, emb_std, (nb_words, embed_size))\n",
        "for word, i in word_index.items():\n",
        "    if i >= max_features: continue\n",
        "    embedding_vector = embeddings_index.get(word)\n",
        "    if embedding_vector is not None: embedding_matrix[i] = embedding_vector"
      ],
      "metadata": {
        "colab": {
          "base_uri": "https://localhost:8080/"
        },
        "id": "HIv44SkZ8X3X",
        "outputId": "6476a092-d3cf-4a06-e5fd-125d5b175263"
      },
      "execution_count": null,
      "outputs": [
        {
          "output_type": "stream",
          "name": "stderr",
          "text": [
            "/usr/local/lib/python3.8/dist-packages/IPython/core/interactiveshell.py:3249: FutureWarning: arrays to stack must be passed as a \"sequence\" type such as list or tuple. Support for non-sequence iterables such as generators is deprecated as of NumPy 1.16 and will raise an error in the future.\n",
            "  if (await self.run_code(code, result,  async_=asy)):\n"
          ]
        }
      ]
    },
    {
      "cell_type": "markdown",
      "source": [
        "Parameters of the Deep learning model"
      ],
      "metadata": {
        "id": "ua6toHuF7UnK"
      }
    },
    {
      "cell_type": "code",
      "source": [
        "batch_size = 256\n",
        "epochs = 20\n",
        "embed_size = 200\n",
        "\n",
        "learning_rate_reduction = ReduceLROnPlateau(monitor='val_accuracy', patience = 2, verbose=1,factor=0.5, min_lr=0.00001)"
      ],
      "metadata": {
        "id": "hSoIJ17hw0VS"
      },
      "execution_count": null,
      "outputs": []
    },
    {
      "cell_type": "markdown",
      "source": [
        "Model architecture"
      ],
      "metadata": {
        "id": "fuCtoKwM7YPR"
      }
    },
    {
      "cell_type": "code",
      "source": [
        "#Defining Neural Network\n",
        "model = Sequential()\n",
        "\n",
        "#Non-trainable embeddidng layer \n",
        "model.add(Embedding(max_features, output_dim=embed_size, weights=[embedding_matrix], input_length=maxlen, trainable=False))\n",
        "\n",
        "#LSTM \n",
        "model.add(LSTM(units=128 , return_sequences = True , recurrent_dropout = 0.25 , dropout = 0.25))\n",
        "model.add(LSTM(units=64 , recurrent_dropout = 0.1 , dropout = 0.1))\n",
        "model.add(Dense(units = 32 , activation = 'relu'))\n",
        "model.add(Dense(1, activation='sigmoid'))\n",
        "model.compile(optimizer=Adam(learning_rate = 0.01), loss='binary_crossentropy', metrics=['accuracy'])"
      ],
      "metadata": {
        "colab": {
          "base_uri": "https://localhost:8080/"
        },
        "id": "Wd8VD-02xU4D",
        "outputId": "d5aa969b-62aa-4a52-e8cb-de72d4ddd210"
      },
      "execution_count": null,
      "outputs": [
        {
          "output_type": "stream",
          "name": "stderr",
          "text": [
            "WARNING:tensorflow:Layer lstm will not use cuDNN kernels since it doesn't meet the criteria. It will use a generic GPU kernel as fallback when running on GPU.\n",
            "WARNING:tensorflow:Layer lstm_1 will not use cuDNN kernels since it doesn't meet the criteria. It will use a generic GPU kernel as fallback when running on GPU.\n"
          ]
        }
      ]
    },
    {
      "cell_type": "code",
      "source": [
        "model.build()\n",
        "model.summary()"
      ],
      "metadata": {
        "colab": {
          "base_uri": "https://localhost:8080/"
        },
        "id": "UaH9T8eS6Mvk",
        "outputId": "d8b87968-327f-4b7b-e4dd-9318ffd60a5b"
      },
      "execution_count": null,
      "outputs": [
        {
          "output_type": "stream",
          "name": "stdout",
          "text": [
            "Model: \"sequential\"\n",
            "_________________________________________________________________\n",
            " Layer (type)                Output Shape              Param #   \n",
            "=================================================================\n",
            " embedding (Embedding)       (None, 512, 200)          2000000   \n",
            "                                                                 \n",
            " lstm (LSTM)                 (None, 512, 128)          168448    \n",
            "                                                                 \n",
            " lstm_1 (LSTM)               (None, 64)                49408     \n",
            "                                                                 \n",
            " dense (Dense)               (None, 32)                2080      \n",
            "                                                                 \n",
            " dense_1 (Dense)             (None, 1)                 33        \n",
            "                                                                 \n",
            "=================================================================\n",
            "Total params: 2,219,969\n",
            "Trainable params: 219,969\n",
            "Non-trainable params: 2,000,000\n",
            "_________________________________________________________________\n"
          ]
        }
      ]
    },
    {
      "cell_type": "markdown",
      "source": [
        "model.fit()"
      ],
      "metadata": {
        "id": "vmPa1c6Y7gL0"
      }
    },
    {
      "cell_type": "code",
      "source": [
        "history = model.fit(x_train, y_train, batch_size = batch_size , validation_data = (X_val,y_val) , epochs = epochs , callbacks = [learning_rate_reduction])"
      ],
      "metadata": {
        "id": "0MZ4-bS16PhE",
        "outputId": "b8ad441d-3306-4c91-f2a5-ab43720fb2bd",
        "colab": {
          "base_uri": "https://localhost:8080/"
        }
      },
      "execution_count": null,
      "outputs": [
        {
          "output_type": "stream",
          "name": "stdout",
          "text": [
            "Epoch 1/20\n",
            "50/50 [==============================] - 231s 4s/step - loss: 0.3866 - accuracy: 0.8133 - val_loss: 0.2585 - val_accuracy: 0.8843 - lr: 0.0100\n",
            "Epoch 2/20\n",
            "50/50 [==============================] - 225s 5s/step - loss: 0.2242 - accuracy: 0.9130 - val_loss: 0.1752 - val_accuracy: 0.9409 - lr: 0.0100\n",
            "Epoch 3/20\n",
            "50/50 [==============================] - 222s 4s/step - loss: 0.1617 - accuracy: 0.9386 - val_loss: 0.1566 - val_accuracy: 0.9435 - lr: 0.0100\n",
            "Epoch 4/20\n",
            "50/50 [==============================] - 223s 4s/step - loss: 0.1382 - accuracy: 0.9500 - val_loss: 0.1700 - val_accuracy: 0.9355 - lr: 0.0100\n",
            "Epoch 5/20\n",
            "50/50 [==============================] - ETA: 0s - loss: 0.1276 - accuracy: 0.9526\n",
            "Epoch 5: ReduceLROnPlateau reducing learning rate to 0.004999999888241291.\n",
            "50/50 [==============================] - 223s 4s/step - loss: 0.1276 - accuracy: 0.9526 - val_loss: 0.1560 - val_accuracy: 0.9431 - lr: 0.0100\n",
            "Epoch 6/20\n",
            "50/50 [==============================] - 220s 4s/step - loss: 0.0938 - accuracy: 0.9654 - val_loss: 0.1536 - val_accuracy: 0.9507 - lr: 0.0050\n",
            "Epoch 7/20\n",
            "50/50 [==============================] - 220s 4s/step - loss: 0.0836 - accuracy: 0.9685 - val_loss: 0.1597 - val_accuracy: 0.9478 - lr: 0.0050\n",
            "Epoch 8/20\n",
            "50/50 [==============================] - ETA: 0s - loss: 0.0619 - accuracy: 0.9785\n",
            "Epoch 8: ReduceLROnPlateau reducing learning rate to 0.0024999999441206455.\n",
            "50/50 [==============================] - 219s 4s/step - loss: 0.0619 - accuracy: 0.9785 - val_loss: 0.2098 - val_accuracy: 0.9421 - lr: 0.0050\n",
            "Epoch 9/20\n",
            "50/50 [==============================] - 225s 5s/step - loss: 0.0519 - accuracy: 0.9808 - val_loss: 0.1746 - val_accuracy: 0.9481 - lr: 0.0025\n",
            "Epoch 10/20\n",
            "50/50 [==============================] - ETA: 0s - loss: 0.0394 - accuracy: 0.9863\n",
            "Epoch 10: ReduceLROnPlateau reducing learning rate to 0.0012499999720603228.\n",
            "50/50 [==============================] - 226s 5s/step - loss: 0.0394 - accuracy: 0.9863 - val_loss: 0.1849 - val_accuracy: 0.9473 - lr: 0.0025\n",
            "Epoch 11/20\n",
            "50/50 [==============================] - 235s 5s/step - loss: 0.0359 - accuracy: 0.9864 - val_loss: 0.1922 - val_accuracy: 0.9495 - lr: 0.0012\n",
            "Epoch 12/20\n",
            "50/50 [==============================] - ETA: 0s - loss: 0.0326 - accuracy: 0.9889\n",
            "Epoch 12: ReduceLROnPlateau reducing learning rate to 0.0006249999860301614.\n",
            "50/50 [==============================] - 228s 5s/step - loss: 0.0326 - accuracy: 0.9889 - val_loss: 0.1948 - val_accuracy: 0.9492 - lr: 0.0012\n",
            "Epoch 13/20\n",
            "50/50 [==============================] - 229s 5s/step - loss: 0.0267 - accuracy: 0.9904 - val_loss: 0.1978 - val_accuracy: 0.9485 - lr: 6.2500e-04\n",
            "Epoch 14/20\n",
            "50/50 [==============================] - ETA: 0s - loss: 0.0238 - accuracy: 0.9914\n",
            "Epoch 14: ReduceLROnPlateau reducing learning rate to 0.0003124999930150807.\n",
            "50/50 [==============================] - 230s 5s/step - loss: 0.0238 - accuracy: 0.9914 - val_loss: 0.2131 - val_accuracy: 0.9490 - lr: 6.2500e-04\n",
            "Epoch 15/20\n",
            "50/50 [==============================] - 223s 4s/step - loss: 0.0234 - accuracy: 0.9926 - val_loss: 0.2147 - val_accuracy: 0.9481 - lr: 3.1250e-04\n",
            "Epoch 16/20\n",
            "50/50 [==============================] - ETA: 0s - loss: 0.0224 - accuracy: 0.9918\n",
            "Epoch 16: ReduceLROnPlateau reducing learning rate to 0.00015624999650754035.\n",
            "50/50 [==============================] - 224s 4s/step - loss: 0.0224 - accuracy: 0.9918 - val_loss: 0.2201 - val_accuracy: 0.9478 - lr: 3.1250e-04\n",
            "Epoch 17/20\n",
            "50/50 [==============================] - 226s 5s/step - loss: 0.0194 - accuracy: 0.9937 - val_loss: 0.2179 - val_accuracy: 0.9488 - lr: 1.5625e-04\n",
            "Epoch 18/20\n",
            "50/50 [==============================] - ETA: 0s - loss: 0.0195 - accuracy: 0.9928\n",
            "Epoch 18: ReduceLROnPlateau reducing learning rate to 7.812499825377017e-05.\n",
            "50/50 [==============================] - 225s 5s/step - loss: 0.0195 - accuracy: 0.9928 - val_loss: 0.2200 - val_accuracy: 0.9490 - lr: 1.5625e-04\n",
            "Epoch 19/20\n",
            "50/50 [==============================] - 231s 5s/step - loss: 0.0182 - accuracy: 0.9942 - val_loss: 0.2187 - val_accuracy: 0.9488 - lr: 7.8125e-05\n",
            "Epoch 20/20\n",
            "50/50 [==============================] - ETA: 0s - loss: 0.0199 - accuracy: 0.9932\n",
            "Epoch 20: ReduceLROnPlateau reducing learning rate to 3.9062499126885086e-05.\n",
            "50/50 [==============================] - 227s 5s/step - loss: 0.0199 - accuracy: 0.9932 - val_loss: 0.2203 - val_accuracy: 0.9492 - lr: 7.8125e-05\n"
          ]
        }
      ]
    },
    {
      "cell_type": "markdown",
      "source": [
        "Accuracy test after training"
      ],
      "metadata": {
        "id": "JXvcqkRZ7oCr"
      }
    },
    {
      "cell_type": "code",
      "source": [
        "print(\"Accuracy of the model on Training Data is - \" , model.evaluate(x_train,y_train)[1]*100 , \"%\")\n",
        "print(\"Accuracy of the model on Validating Data is - \" , model.evaluate(X_val,y_val)[1]*100 , \"%\")\n",
        "print(\"Accuracy of the model on Testing Data is - \" , model.evaluate(X_test,y_test)[1]*100 , \"%\")"
      ],
      "metadata": {
        "id": "6FRuhy0w6ROX",
        "outputId": "2d4b0c77-87d9-4c36-ac0d-a83081ff4c5e",
        "colab": {
          "base_uri": "https://localhost:8080/"
        }
      },
      "execution_count": null,
      "outputs": [
        {
          "output_type": "stream",
          "name": "stdout",
          "text": [
            "396/396 [==============================] - 105s 264ms/step - loss: 0.0061 - accuracy: 0.9985\n",
            "Accuracy of the model on Training Data is -  99.84977841377258 %\n",
            "132/132 [==============================] - 33s 254ms/step - loss: 0.2203 - accuracy: 0.9492\n",
            "Accuracy of the model on Validating Data is -  94.92409825325012 %\n",
            "132/132 [==============================] - 34s 254ms/step - loss: 0.2107 - accuracy: 0.9502\n",
            "Accuracy of the model on Testing Data is -  95.01897692680359 %\n"
          ]
        }
      ]
    },
    {
      "cell_type": "markdown",
      "source": [
        "Saving model to google drive for further use"
      ],
      "metadata": {
        "id": "nbU7a4wq7r2c"
      }
    },
    {
      "cell_type": "code",
      "source": [
        "path_to_save = '/content/drive/MyDrive/Challenge2/model20.h5'"
      ],
      "metadata": {
        "id": "xYWbZ0ewZzZP"
      },
      "execution_count": null,
      "outputs": []
    },
    {
      "cell_type": "code",
      "source": [
        "model.save(path_to_save)"
      ],
      "metadata": {
        "id": "w25hf1TS8K9_"
      },
      "execution_count": null,
      "outputs": []
    },
    {
      "cell_type": "code",
      "source": [
        "with open('tokenizer.pickle', 'wb') as handle:\n",
        "    pickle.dump(tokenizer, handle, protocol=pickle.HIGHEST_PROTOCOL)"
      ],
      "metadata": {
        "id": "wrvqR8cY5U6p"
      },
      "execution_count": null,
      "outputs": []
    },
    {
      "cell_type": "markdown",
      "source": [
        "Graphic of model training\n"
      ],
      "metadata": {
        "id": "E9OnCLHM7uSM"
      }
    },
    {
      "cell_type": "code",
      "source": [
        "epochs = [i for i in range(20)]\n",
        "fig , ax = plt.subplots(1,2)\n",
        "train_acc = history.history['accuracy']\n",
        "train_loss = history.history['loss']\n",
        "val_acc = history.history['val_accuracy']\n",
        "val_loss = history.history['val_loss']\n",
        "fig.set_size_inches(20,10)\n",
        "\n",
        "ax[0].plot(epochs , train_acc , 'go-' , label = 'Training Accuracy')\n",
        "ax[0].plot(epochs , val_acc , 'ro-' , label = 'Testing Accuracy')\n",
        "ax[0].set_title('Training & Testing Accuracy')\n",
        "ax[0].legend()\n",
        "ax[0].set_xlabel(\"Epochs\")\n",
        "ax[0].set_ylabel(\"Accuracy\")\n",
        "\n",
        "ax[1].plot(epochs , train_loss , 'go-' , label = 'Training Loss')\n",
        "ax[1].plot(epochs , val_loss , 'ro-' , label = 'Testing Loss')\n",
        "ax[1].set_title('Training & Testing Loss')\n",
        "ax[1].legend()\n",
        "ax[1].set_xlabel(\"Epochs\")\n",
        "ax[1].set_ylabel(\"Loss\")\n",
        "plt.show()"
      ],
      "metadata": {
        "id": "uNJQML7v6TLU",
        "outputId": "35ab97c5-800f-4589-c009-a17d4b72936d",
        "colab": {
          "base_uri": "https://localhost:8080/",
          "height": 621
        }
      },
      "execution_count": null,
      "outputs": [
        {
          "output_type": "display_data",
          "data": {
            "text/plain": [
              "<Figure size 1440x720 with 2 Axes>"
            ],
            "image/png": "[encoded data removed]"
          },
          "metadata": {
            "needs_background": "light"
          }
        }
      ]
    },
    {
      "cell_type": "markdown",
      "source": [
        "Prediction on some data"
      ],
      "metadata": {
        "id": "lTjwSYus8JpE"
      }
    },
    {
      "cell_type": "code",
      "source": [
        "pred = model.predict(X_test)"
      ],
      "metadata": {
        "id": "Cc0ct1gl6Vv4",
        "outputId": "94bde6c2-75a0-41ae-d2de-a789fe997ebc",
        "colab": {
          "base_uri": "https://localhost:8080/"
        }
      },
      "execution_count": null,
      "outputs": [
        {
          "output_type": "stream",
          "name": "stdout",
          "text": [
            "132/132 [==============================] - 34s 253ms/step\n"
          ]
        }
      ]
    },
    {
      "cell_type": "markdown",
      "source": [
        "Confusion matrix"
      ],
      "metadata": {
        "id": "YfLO2UqN8MTV"
      }
    },
    {
      "cell_type": "code",
      "source": [
        "print(classification_report(list(y_test), np.round(pred).astype(int), target_names = ['Not Fake','Fake']))"
      ],
      "metadata": {
        "id": "5K9SVmvk6X6A",
        "outputId": "c27c623e-1ceb-4117-c0e6-68f3280280fa",
        "colab": {
          "base_uri": "https://localhost:8080/"
        }
      },
      "execution_count": null,
      "outputs": [
        {
          "output_type": "stream",
          "name": "stdout",
          "text": [
            "              precision    recall  f1-score   support\n",
            "\n",
            "    Not Fake       0.96      0.95      0.96      2554\n",
            "        Fake       0.93      0.94      0.94      1662\n",
            "\n",
            "    accuracy                           0.95      4216\n",
            "   macro avg       0.95      0.95      0.95      4216\n",
            "weighted avg       0.95      0.95      0.95      4216\n",
            "\n"
          ]
        }
      ]
    },
    {
      "cell_type": "code",
      "source": [
        "cm = confusion_matrix(y_test,np.round(pred).astype(int))\n",
        "cm"
      ],
      "metadata": {
        "id": "IxaCAKih6Y4N",
        "outputId": "a379dbae-8231-4283-dcf2-5f55ea5914c5",
        "colab": {
          "base_uri": "https://localhost:8080/"
        }
      },
      "execution_count": null,
      "outputs": [
        {
          "output_type": "execute_result",
          "data": {
            "text/plain": [
              "array([[2437,  117],\n",
              "       [  93, 1569]])"
            ]
          },
          "metadata": {},
          "execution_count": 29
        }
      ]
    },
    {
      "cell_type": "code",
      "source": [
        "cm = pd.DataFrame(cm , index = ['Fake','Original'] , columns = ['Fake','Original'])"
      ],
      "metadata": {
        "id": "zbIOO-CX6Z9R"
      },
      "execution_count": null,
      "outputs": []
    },
    {
      "cell_type": "code",
      "source": [
        "plt.figure(figsize = (10,10))\n",
        "sns.heatmap(cm,cmap= \"Reds\", linecolor = 'black' , linewidth = 1 , annot = True, fmt='' , xticklabels = ['Fake','Original'] , yticklabels = ['Fake','Original'])\n",
        "plt.xlabel(\"Predicted\")\n",
        "plt.ylabel(\"Actual\")"
      ],
      "metadata": {
        "id": "r9NtosEZ6bDE",
        "outputId": "77bd782f-0f87-49ec-cb25-14d62aa91c98",
        "colab": {
          "base_uri": "https://localhost:8080/",
          "height": 623
        }
      },
      "execution_count": null,
      "outputs": [
        {
          "output_type": "execute_result",
          "data": {
            "text/plain": [
              "Text(69.0, 0.5, 'Actual')"
            ]
          },
          "metadata": {},
          "execution_count": 31
        },
        {
          "output_type": "display_data",
          "data": {
            "text/plain": [
              "<Figure size 720x720 with 2 Axes>"
            ],
            "image/png": "[encoded data removed]"
          },
          "metadata": {
            "needs_background": "light"
          }
        }
      ]
    }
  ]
}