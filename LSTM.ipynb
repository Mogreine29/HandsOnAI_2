{
  "nbformat": 4,
  "nbformat_minor": 0,
  "metadata": {
    "colab": {
      "provenance": [],
      "include_colab_link": true
    },
    "kernelspec": {
      "name": "python3",
      "display_name": "Python 3"
    },
    "language_info": {
      "name": "python"
    },
    "accelerator": "GPU",
    "gpuClass": "standard"
  },
  "cells": [
    {
      "cell_type": "markdown",
      "metadata": {
        "id": "view-in-github",
        "colab_type": "text"
      },
      "source": [
        "<a href=\"https://colab.research.google.com/github/Mogreine29/HandsOnAI_2/blob/main/RNN.ipynb\" target=\"_parent\"><img src=\"https://colab.research.google.com/assets/colab-badge.svg\" alt=\"Open In Colab\"/></a>"
      ]
    },
    {
      "cell_type": "markdown",
      "source": [
        "Importation de librairies"
      ],
      "metadata": {
        "id": "eRLBMkZJ28Uz"
      }
    },
    {
      "cell_type": "code",
      "source": [
        "import pandas as pd\n",
        "import numpy as np\n",
        "import seaborn as sns\n",
        "import matplotlib.pyplot as plt\n",
        "from sklearn.model_selection import train_test_split\n",
        "from sklearn.metrics import classification_report, confusion_matrix\n",
        "import gensim\n",
        "from keras.optimizers import Adam\n",
        "from keras_preprocessing import text, sequence\n",
        "from keras.callbacks import ReduceLROnPlateau\n",
        "from keras.models import Sequential\n",
        "from keras.layers import Dense, Embedding, LSTM, Dropout\n",
        "import pickle\n",
        "import re\n",
        "import string\n",
        "import nltk\n",
        "nltk.download(\"stopwords\")\n",
        "from nltk.corpus import stopwords\n",
        "from wordcloud import WordCloud"
      ],
      "metadata": {
        "colab": {
          "base_uri": "https://localhost:8080/"
        },
        "id": "gFBjX8z-9uH3",
        "outputId": "3564790b-0476-48a3-b6b6-8759295295dc"
      },
      "execution_count": 1,
      "outputs": [
        {
          "output_type": "stream",
          "name": "stderr",
          "text": [
            "[nltk_data] Downloading package stopwords to /root/nltk_data...\n",
            "[nltk_data]   Unzipping corpora/stopwords.zip.\n"
          ]
        }
      ]
    },
    {
      "cell_type": "markdown",
      "source": [
        "Mount le drive pour sauver les modèles"
      ],
      "metadata": {
        "id": "Ga7SNUMI2_cv"
      }
    },
    {
      "cell_type": "code",
      "source": [
        "from google.colab import drive\n",
        "drive.mount('/content/drive')\n",
        "%cd drive/My\\ Drive/Challenge2"
      ],
      "metadata": {
        "colab": {
          "base_uri": "https://localhost:8080/"
        },
        "id": "aZJfyIHd94XB",
        "outputId": "32c65b34-edff-4f73-8cf2-8634ec001f96"
      },
      "execution_count": 2,
      "outputs": [
        {
          "output_type": "stream",
          "name": "stdout",
          "text": [
            "Mounted at /content/drive\n",
            "/content/drive/.shortcut-targets-by-id/1aIAK0Qi-pofkSLi3xijkAex-JrSW_tn8/Challenge2\n"
          ]
        }
      ]
    },
    {
      "cell_type": "markdown",
      "source": [
        "Lecture de datas"
      ],
      "metadata": {
        "id": "4ZKZXbyO3FHT"
      }
    },
    {
      "cell_type": "code",
      "source": [
        "df_train = pd.read_csv('/content/drive/MyDrive/Challenge2/fake_train.csv')\n",
        "df_test = pd.read_csv('/content/drive/MyDrive/Challenge2/fake_test.csv')"
      ],
      "metadata": {
        "id": "sKZc9ZUU-Xwc"
      },
      "execution_count": 3,
      "outputs": []
    },
    {
      "cell_type": "markdown",
      "source": [
        "Retirer les colonnes intules"
      ],
      "metadata": {
        "id": "SaruKXCD3fT-"
      }
    },
    {
      "cell_type": "code",
      "source": [
        "df_train = df_train.drop(['Unnamed: 0', 'target_name'], axis = 1)\n",
        "df_test = df_test.drop(['Unnamed: 0', 'target_name'], axis = 1)"
      ],
      "metadata": {
        "id": "14BIXzRZ-u-E"
      },
      "execution_count": 4,
      "outputs": []
    },
    {
      "cell_type": "markdown",
      "source": [
        "Delete les lignes parasites\n",
        "-\t1136 : suite du mot ISLAM.\n",
        "-\t1180 : data en arabe\n",
        "-\t1317 : pas de data.\n",
        "-\t1362 : suite du mot ROUEN.\n",
        "-\t1429 : suite de 1 et 0. "
      ],
      "metadata": {
        "id": "Vmd_S97T0Dy9"
      }
    },
    {
      "cell_type": "code",
      "source": [
        "df_train.drop([1136, 1180, 1317, 1362, 1429], inplace = True )"
      ],
      "metadata": {
        "id": "M0jY6EGZ0Dcr"
      },
      "execution_count": 5,
      "outputs": []
    },
    {
      "cell_type": "markdown",
      "source": [
        "Ajouter de nouvelles datas"
      ],
      "metadata": {
        "id": "BqzXxhbjJGGU"
      }
    },
    {
      "cell_type": "code",
      "source": [
        "df_real = pd.read_csv(\"real_news.csv\")\n",
        "df_fake = pd.read_csv(\"fake_news.csv\")\n",
        "df_real = df_real.drop(['site', 'url', 'title'], axis = 1)\n",
        "df_fake = df_fake.drop(['site', 'url', 'title'], axis = 1)\n",
        "df_real['label'] = 0\n",
        "df_fake['label'] = 1\n",
        "df_real.rename(columns = {'text':'data'}, inplace = True)\n",
        "df_fake.rename(columns = {'text':'data'}, inplace = True)\n",
        "df_train = df_train.append(df_real, ignore_index = True)\n",
        "df_train = df_train.append(df_fake, ignore_index = True)\n",
        "\n",
        "df_train['data'] = df_train['data'].astype(str)\n",
        "df_test['data'] = df_test['data'].astype(str)"
      ],
      "metadata": {
        "id": "q5rqGS-nJFlz"
      },
      "execution_count": 6,
      "outputs": []
    },
    {
      "cell_type": "markdown",
      "source": [
        "Nettoyage du text"
      ],
      "metadata": {
        "id": "luf5tA8e3h-g"
      }
    },
    {
      "cell_type": "code",
      "source": [
        "STOPWORDS = set(stopwords.words('french'))\n",
        "moreStopwords = ['plus', 'comme', 'a', 'il', 'alors','au',\n",
        "'aucuns','aussi','autre','avant','avec','avoir','bon','car','ce','cela','ces','ceux','chaque','ci',\n",
        "'comme','comment','dans','des','du','dedans','dehors','depuis','devrait','doit','donc','dos','début',\n",
        "'elle','elles','en','encore','essai','est','et','eu','fait','faites','fois','font','hors','ici','il',\n",
        "'ils','je',\t'juste','la','le','les','leur','là','ma','maintenant','mais','mes','mien','moins','mon',\n",
        "'mot','même','ni','nommés','notre','nous','ou','où','par','parce','pas','peut','peu','plupart','pour',\n",
        "'pourquoi','quand','que','quel','quelle','quelles','quels','qui','sa','sans','ses','seulement','si',\n",
        "'sien','son','sont','sous','soyez',\t'sujet','sur','ta','tandis','tellement','tels','tes','ton','tous',\n",
        "'tout','trop','très','tu','voient','vont','votre','vous','vu','ça','étaient','état','étions','été','être',\n",
        "'cette','celle','dont','celui', 'adsbygoogle','window','secretnews','leurs','ainsi','toute','déjà','autres',\n",
        "'suivre','facebook','twitter','parodique', 'média','collaboratif', 'libre','notamment']\n",
        "\n",
        "STOPWORDS.update(moreStopwords)\n",
        "def cleaner(text):\n",
        "    text = text.lower()\n",
        "    text = re.sub('\\[.*?\\]', '', text)\n",
        "    text = re.sub(\"\\\\W\",\" \",text) \n",
        "    text = re.sub('https?://\\S+|www\\.\\S+', '', text)\n",
        "    text = re.sub('<.*?>+', '', text)\n",
        "    text = re.sub('[%s]' % re.escape(string.punctuation), '', text)\n",
        "    text = re.sub('\\n', '', text)\n",
        "    text = re.sub('\\w*\\d\\w*', '', text)\n",
        "\n",
        "    text = ' '.join(word for word in text.split() if word not in STOPWORDS)   \n",
        "    return text"
      ],
      "metadata": {
        "id": "x05OYt5q-2uF"
      },
      "execution_count": 7,
      "outputs": []
    },
    {
      "cell_type": "code",
      "source": [
        "df_train['data'] = df_train['data'].apply(cleaner)\n",
        "df_test['data'] = df_test['data'].apply(cleaner)"
      ],
      "metadata": {
        "id": "-A22HZuf--6q"
      },
      "execution_count": 8,
      "outputs": []
    },
    {
      "cell_type": "markdown",
      "source": [
        "On Shuffle toutes les données pour avoir un split random"
      ],
      "metadata": {
        "id": "k6Vg3puB3_fb"
      }
    },
    {
      "cell_type": "code",
      "source": [
        "#df_train = df_train.append(df_test, ignore_index=True)\n",
        "shuffled = df_train.sample(frac=1).reset_index()"
      ],
      "metadata": {
        "id": "YRsC1CEvUnOl"
      },
      "execution_count": 9,
      "outputs": []
    },
    {
      "cell_type": "code",
      "source": [
        "x, x_test, y, y_test = train_test_split(shuffled.data,shuffled.label,test_size=0.1,train_size=0.9)\n",
        "x_train, x_val, y_train, y_val = train_test_split(x,y,test_size = 0.1,train_size =0.9)\n",
        "\n",
        "x_test_prof, y_test_prof = df_test.data,df_test.label"
      ],
      "metadata": {
        "id": "oGjIDxPl_A3u"
      },
      "execution_count": 10,
      "outputs": []
    },
    {
      "cell_type": "markdown",
      "source": [
        "Vectorisation du text grâce à Keras"
      ],
      "metadata": {
        "id": "_YFfSsPW7CtC"
      }
    },
    {
      "cell_type": "code",
      "source": [
        "max_features = 20000 ### On garde ce nombre de mots les plus fréquents dans les textes\n",
        "maxlen = 512 ### Taille des séquences maximales "
      ],
      "metadata": {
        "id": "mQ_-640dpbI9"
      },
      "execution_count": 11,
      "outputs": []
    },
    {
      "cell_type": "code",
      "source": [
        "tokenizer = text.Tokenizer(num_words=max_features)\n",
        "tokenizer.fit_on_texts(x_train)\n",
        "tokenized_train = tokenizer.texts_to_sequences(x_train)\n",
        "x_train = sequence.pad_sequences(tokenized_train, maxlen=maxlen)"
      ],
      "metadata": {
        "id": "HOX7DAK-pdmR"
      },
      "execution_count": 12,
      "outputs": []
    },
    {
      "cell_type": "code",
      "source": [
        "tokenized_val = tokenizer.texts_to_sequences(x_val)\n",
        "X_val = sequence.pad_sequences(tokenized_val, maxlen=maxlen)\n",
        "\n",
        "tokenized_test = tokenizer.texts_to_sequences(x_test)\n",
        "X_test = sequence.pad_sequences(tokenized_test, maxlen=maxlen)\n",
        "\n",
        "tokenized_test_prof = tokenizer.texts_to_sequences(x_test_prof)\n",
        "X_test_prof = sequence.pad_sequences(tokenized_test_prof, maxlen=maxlen)"
      ],
      "metadata": {
        "id": "G5wZ_n_EkskT"
      },
      "execution_count": 13,
      "outputs": []
    },
    {
      "cell_type": "markdown",
      "source": [
        "Matrice d'encombrage de départ"
      ],
      "metadata": {
        "id": "J3J4ziy07H6j"
      }
    },
    {
      "cell_type": "code",
      "source": [
        "#!wget https://embeddings.net/embeddings/frWac_non_lem_no_postag_no_phrase_200_cbow_cut100.bin"
      ],
      "metadata": {
        "id": "cjEiawy1iYYH"
      },
      "execution_count": 14,
      "outputs": []
    },
    {
      "cell_type": "code",
      "source": [
        "word2vec_model_fr = gensim.models.KeyedVectors.load_word2vec_format(\"frWac_non_lem_no_postag_no_phrase_200_cbow_cut100.bin\",binary=True)"
      ],
      "metadata": {
        "id": "bvcGKQctiaoF"
      },
      "execution_count": 15,
      "outputs": []
    },
    {
      "cell_type": "code",
      "source": [
        "embeddings_index = dict((key,word2vec_model_fr[key]) for key in word2vec_model_fr.vocab.keys())"
      ],
      "metadata": {
        "id": "HI8x3LR4qg7O"
      },
      "execution_count": 16,
      "outputs": []
    },
    {
      "cell_type": "code",
      "source": [
        "all_embs = np.stack(embeddings_index.values())\n",
        "emb_mean,emb_std = all_embs.mean(), all_embs.std()\n",
        "embed_size = all_embs.shape[1]\n",
        "\n",
        "word_index = tokenizer.word_index\n",
        "nb_words = min(max_features, len(word_index))\n",
        "embedding_matrix = embedding_matrix = np.random.normal(emb_mean, emb_std, (nb_words, embed_size))\n",
        "for word, i in word_index.items():\n",
        "    if i >= max_features: continue\n",
        "    embedding_vector = embeddings_index.get(word)\n",
        "    if embedding_vector is not None: embedding_matrix[i] = embedding_vector"
      ],
      "metadata": {
        "colab": {
          "base_uri": "https://localhost:8080/"
        },
        "id": "HIv44SkZ8X3X",
        "outputId": "5554c79f-e0ab-4b39-c5c4-32ce9d5d4f14"
      },
      "execution_count": 17,
      "outputs": [
        {
          "output_type": "stream",
          "name": "stderr",
          "text": [
            "/usr/local/lib/python3.8/dist-packages/IPython/core/interactiveshell.py:3249: FutureWarning: arrays to stack must be passed as a \"sequence\" type such as list or tuple. Support for non-sequence iterables such as generators is deprecated as of NumPy 1.16 and will raise an error in the future.\n",
            "  if (await self.run_code(code, result,  async_=asy)):\n"
          ]
        }
      ]
    },
    {
      "cell_type": "markdown",
      "source": [
        "Paramètres du model"
      ],
      "metadata": {
        "id": "ua6toHuF7UnK"
      }
    },
    {
      "cell_type": "code",
      "source": [
        "batch_size = 256\n",
        "epochs = 20\n",
        "embed_size = 200\n",
        "\n",
        "learning_rate_reduction = ReduceLROnPlateau(monitor='val_accuracy', patience = 2, verbose=1,factor=0.5, min_lr=0.00001)"
      ],
      "metadata": {
        "id": "hSoIJ17hw0VS"
      },
      "execution_count": 18,
      "outputs": []
    },
    {
      "cell_type": "markdown",
      "source": [
        "Définition d'architecture"
      ],
      "metadata": {
        "id": "fuCtoKwM7YPR"
      }
    },
    {
      "cell_type": "code",
      "source": [
        "#Defining Neural Network\n",
        "model = Sequential()\n",
        "\n",
        "#Non-trainable embeddidng layer \n",
        "model.add(Embedding(max_features, output_dim=embed_size, weights=[embedding_matrix], input_length=maxlen, trainable=False))\n",
        "\n",
        "#LSTM \n",
        "model.add(LSTM(units=128 , return_sequences = True , recurrent_dropout = 0.25 , dropout = 0.25))\n",
        "model.add(Dropout(0.2, input_shape=(512,128)))\n",
        "model.add(LSTM(units=64 , recurrent_dropout = 0.2 , dropout = 0.2))\n",
        "model.add(Dense(units=64,activation='relu'))\n",
        "model.add(Dense(units = 32 , activation = 'relu'))\n",
        "model.add(Dense(1, activation='sigmoid'))\n",
        "model.compile(optimizer=Adam(learning_rate = 0.01), loss='binary_crossentropy', metrics=['accuracy'])"
      ],
      "metadata": {
        "colab": {
          "base_uri": "https://localhost:8080/"
        },
        "id": "Wd8VD-02xU4D",
        "outputId": "609fc832-a2ba-4039-ff53-28ee918ee25b"
      },
      "execution_count": 19,
      "outputs": [
        {
          "output_type": "stream",
          "name": "stderr",
          "text": [
            "WARNING:tensorflow:Layer lstm will not use cuDNN kernels since it doesn't meet the criteria. It will use a generic GPU kernel as fallback when running on GPU.\n",
            "WARNING:tensorflow:Layer lstm_1 will not use cuDNN kernels since it doesn't meet the criteria. It will use a generic GPU kernel as fallback when running on GPU.\n"
          ]
        }
      ]
    },
    {
      "cell_type": "code",
      "source": [
        "model.build()\n",
        "model.summary()"
      ],
      "metadata": {
        "colab": {
          "base_uri": "https://localhost:8080/"
        },
        "id": "UaH9T8eS6Mvk",
        "outputId": "91d33751-439b-4f22-b24d-23b14786530a"
      },
      "execution_count": 20,
      "outputs": [
        {
          "output_type": "stream",
          "name": "stdout",
          "text": [
            "Model: \"sequential\"\n",
            "_________________________________________________________________\n",
            " Layer (type)                Output Shape              Param #   \n",
            "=================================================================\n",
            " embedding (Embedding)       (None, 512, 200)          4000000   \n",
            "                                                                 \n",
            " lstm (LSTM)                 (None, 512, 128)          168448    \n",
            "                                                                 \n",
            " dropout (Dropout)           (None, 512, 128)          0         \n",
            "                                                                 \n",
            " lstm_1 (LSTM)               (None, 64)                49408     \n",
            "                                                                 \n",
            " dense (Dense)               (None, 64)                4160      \n",
            "                                                                 \n",
            " dense_1 (Dense)             (None, 32)                2080      \n",
            "                                                                 \n",
            " dense_2 (Dense)             (None, 1)                 33        \n",
            "                                                                 \n",
            "=================================================================\n",
            "Total params: 4,224,129\n",
            "Trainable params: 224,129\n",
            "Non-trainable params: 4,000,000\n",
            "_________________________________________________________________\n"
          ]
        }
      ]
    },
    {
      "cell_type": "markdown",
      "source": [
        "model.fit()"
      ],
      "metadata": {
        "id": "vmPa1c6Y7gL0"
      }
    },
    {
      "cell_type": "code",
      "source": [
        "history = model.fit(x_train, y_train, batch_size = batch_size , validation_data = (X_val,y_val) , epochs = epochs , callbacks = [learning_rate_reduction])"
      ],
      "metadata": {
        "id": "0MZ4-bS16PhE",
        "outputId": "d4640aac-696c-41da-c6a9-92d902df27bf",
        "colab": {
          "base_uri": "https://localhost:8080/"
        }
      },
      "execution_count": 21,
      "outputs": [
        {
          "output_type": "stream",
          "name": "stdout",
          "text": [
            "Epoch 1/20\n",
            "67/67 [==============================] - 319s 5s/step - loss: 0.3962 - accuracy: 0.8157 - val_loss: 0.2833 - val_accuracy: 0.8940 - lr: 0.0100\n",
            "Epoch 2/20\n",
            "67/67 [==============================] - 308s 5s/step - loss: 0.2271 - accuracy: 0.9111 - val_loss: 0.2038 - val_accuracy: 0.9299 - lr: 0.0100\n",
            "Epoch 3/20\n",
            "67/67 [==============================] - 308s 5s/step - loss: 0.1668 - accuracy: 0.9363 - val_loss: 0.1865 - val_accuracy: 0.9404 - lr: 0.0100\n",
            "Epoch 4/20\n",
            "67/67 [==============================] - 307s 5s/step - loss: 0.1217 - accuracy: 0.9553 - val_loss: 0.1653 - val_accuracy: 0.9425 - lr: 0.0100\n",
            "Epoch 5/20\n",
            "67/67 [==============================] - 306s 5s/step - loss: 0.1007 - accuracy: 0.9628 - val_loss: 0.1549 - val_accuracy: 0.9489 - lr: 0.0100\n",
            "Epoch 6/20\n",
            "67/67 [==============================] - 308s 5s/step - loss: 0.1254 - accuracy: 0.9512 - val_loss: 0.1446 - val_accuracy: 0.9462 - lr: 0.0100\n",
            "Epoch 7/20\n",
            "67/67 [==============================] - 310s 5s/step - loss: 0.0915 - accuracy: 0.9653 - val_loss: 0.1346 - val_accuracy: 0.9531 - lr: 0.0100\n",
            "Epoch 8/20\n",
            "67/67 [==============================] - 309s 5s/step - loss: 0.0808 - accuracy: 0.9691 - val_loss: 0.1252 - val_accuracy: 0.9568 - lr: 0.0100\n",
            "Epoch 9/20\n",
            "67/67 [==============================] - 304s 5s/step - loss: 0.0752 - accuracy: 0.9722 - val_loss: 0.1268 - val_accuracy: 0.9620 - lr: 0.0100\n",
            "Epoch 10/20\n",
            "67/67 [==============================] - 304s 5s/step - loss: 0.0550 - accuracy: 0.9795 - val_loss: 0.1285 - val_accuracy: 0.9605 - lr: 0.0100\n",
            "Epoch 11/20\n",
            "67/67 [==============================] - ETA: 0s - loss: 0.0532 - accuracy: 0.9801\n",
            "Epoch 11: ReduceLROnPlateau reducing learning rate to 0.004999999888241291.\n",
            "67/67 [==============================] - 306s 5s/step - loss: 0.0532 - accuracy: 0.9801 - val_loss: 0.1245 - val_accuracy: 0.9594 - lr: 0.0100\n",
            "Epoch 12/20\n",
            "67/67 [==============================] - 309s 5s/step - loss: 0.0406 - accuracy: 0.9849 - val_loss: 0.1706 - val_accuracy: 0.9578 - lr: 0.0050\n",
            "Epoch 13/20\n",
            "67/67 [==============================] - 305s 5s/step - loss: 0.0315 - accuracy: 0.9888 - val_loss: 0.1510 - val_accuracy: 0.9647 - lr: 0.0050\n",
            "Epoch 14/20\n",
            "67/67 [==============================] - 300s 4s/step - loss: 0.0317 - accuracy: 0.9890 - val_loss: 0.1705 - val_accuracy: 0.9610 - lr: 0.0050\n",
            "Epoch 15/20\n",
            "67/67 [==============================] - ETA: 0s - loss: 0.0282 - accuracy: 0.9898\n",
            "Epoch 15: ReduceLROnPlateau reducing learning rate to 0.0024999999441206455.\n",
            "67/67 [==============================] - 310s 5s/step - loss: 0.0282 - accuracy: 0.9898 - val_loss: 0.1635 - val_accuracy: 0.9599 - lr: 0.0050\n",
            "Epoch 16/20\n",
            "67/67 [==============================] - 312s 5s/step - loss: 0.0249 - accuracy: 0.9906 - val_loss: 0.1645 - val_accuracy: 0.9589 - lr: 0.0025\n",
            "Epoch 17/20\n",
            "67/67 [==============================] - ETA: 0s - loss: 0.0209 - accuracy: 0.9924\n",
            "Epoch 17: ReduceLROnPlateau reducing learning rate to 0.0012499999720603228.\n",
            "67/67 [==============================] - 316s 5s/step - loss: 0.0209 - accuracy: 0.9924 - val_loss: 0.1824 - val_accuracy: 0.9573 - lr: 0.0025\n",
            "Epoch 18/20\n",
            "67/67 [==============================] - 311s 5s/step - loss: 0.0187 - accuracy: 0.9927 - val_loss: 0.1725 - val_accuracy: 0.9610 - lr: 0.0012\n",
            "Epoch 19/20\n",
            "67/67 [==============================] - ETA: 0s - loss: 0.0181 - accuracy: 0.9943\n",
            "Epoch 19: ReduceLROnPlateau reducing learning rate to 0.0006249999860301614.\n",
            "67/67 [==============================] - 313s 5s/step - loss: 0.0181 - accuracy: 0.9943 - val_loss: 0.1857 - val_accuracy: 0.9594 - lr: 0.0012\n",
            "Epoch 20/20\n",
            "67/67 [==============================] - 313s 5s/step - loss: 0.0174 - accuracy: 0.9938 - val_loss: 0.1986 - val_accuracy: 0.9573 - lr: 6.2500e-04\n"
          ]
        }
      ]
    },
    {
      "cell_type": "markdown",
      "source": [
        "Précision du modèle"
      ],
      "metadata": {
        "id": "JXvcqkRZ7oCr"
      }
    },
    {
      "cell_type": "code",
      "source": [
        "print(\"Accuracy of the model on Training Data is - \" , model.evaluate(x_train,y_train)[1]*100 , \"%\")\n",
        "print(\"Accuracy of the model on Validating Data is - \" , model.evaluate(X_val,y_val)[1]*100 , \"%\")\n",
        "print(\"Accuracy of the model on Testing Data is - \" , model.evaluate(X_test,y_test)[1]*100 , \"%\")\n",
        "print(\"Accuracy of the model on Prof Testing Data is - \" , model.evaluate(X_test_prof,y_test_prof)[1]*100 , \"%\")"
      ],
      "metadata": {
        "id": "6FRuhy0w6ROX",
        "colab": {
          "base_uri": "https://localhost:8080/"
        },
        "outputId": "9ee0470e-f229-413d-bfa7-628f180543b5"
      },
      "execution_count": 22,
      "outputs": [
        {
          "output_type": "stream",
          "name": "stdout",
          "text": [
            "534/534 [==============================] - 134s 251ms/step - loss: 0.0056 - accuracy: 0.9980\n",
            "Accuracy of the model on Training Data is -  99.80084300041199 %\n",
            "60/60 [==============================] - 15s 246ms/step - loss: 0.1986 - accuracy: 0.9573\n",
            "Accuracy of the model on Validating Data is -  95.73010206222534 %\n",
            "66/66 [==============================] - 17s 263ms/step - loss: 0.1429 - accuracy: 0.9654\n",
            "Accuracy of the model on Testing Data is -  96.53699994087219 %\n",
            "16/16 [==============================] - 4s 244ms/step - loss: 0.0583 - accuracy: 0.9856\n",
            "Accuracy of the model on Prof Testing Data is -  98.55967164039612 %\n"
          ]
        }
      ]
    },
    {
      "cell_type": "markdown",
      "source": [
        "Save le model avec poids\n"
      ],
      "metadata": {
        "id": "nbU7a4wq7r2c"
      }
    },
    {
      "cell_type": "code",
      "source": [
        "path_to_save = '/content/drive/MyDrive/Challenge2/modelF.h5'"
      ],
      "metadata": {
        "id": "xYWbZ0ewZzZP"
      },
      "execution_count": 23,
      "outputs": []
    },
    {
      "cell_type": "code",
      "source": [
        "model.save(path_to_save)"
      ],
      "metadata": {
        "id": "w25hf1TS8K9_"
      },
      "execution_count": 24,
      "outputs": []
    },
    {
      "cell_type": "code",
      "source": [
        "with open('tokenizer.pickle', 'wb') as handle:\n",
        "    pickle.dump(tokenizer, handle, protocol=pickle.HIGHEST_PROTOCOL)"
      ],
      "metadata": {
        "id": "wrvqR8cY5U6p"
      },
      "execution_count": 25,
      "outputs": []
    },
    {
      "cell_type": "markdown",
      "source": [
        "Graphique de l'entrainement"
      ],
      "metadata": {
        "id": "E9OnCLHM7uSM"
      }
    },
    {
      "cell_type": "code",
      "source": [
        "epochs = [i for i in range(20)]\n",
        "fig , ax = plt.subplots(1,2)\n",
        "train_acc = history.history['accuracy']\n",
        "train_loss = history.history['loss']\n",
        "val_acc = history.history['val_accuracy']\n",
        "val_loss = history.history['val_loss']\n",
        "fig.set_size_inches(20,10)\n",
        "\n",
        "ax[0].plot(epochs , train_acc , 'go-' , label = 'Training Accuracy')\n",
        "ax[0].plot(epochs , val_acc , 'ro-' , label = 'Testing Accuracy')\n",
        "ax[0].set_title('Training & Testing Accuracy')\n",
        "ax[0].legend()\n",
        "ax[0].set_xlabel(\"Epochs\")\n",
        "ax[0].set_ylabel(\"Accuracy\")\n",
        "\n",
        "ax[1].plot(epochs , train_loss , 'go-' , label = 'Training Loss')\n",
        "ax[1].plot(epochs , val_loss , 'ro-' , label = 'Testing Loss')\n",
        "ax[1].set_title('Training & Testing Loss')\n",
        "ax[1].legend()\n",
        "ax[1].set_xlabel(\"Epochs\")\n",
        "ax[1].set_ylabel(\"Loss\")\n",
        "plt.show()"
      ],
      "metadata": {
        "id": "uNJQML7v6TLU",
        "colab": {
          "base_uri": "https://localhost:8080/",
          "height": 621
        },
        "outputId": "878577eb-7393-4716-a079-e191d6b680c9"
      },
      "execution_count": 26,
      "outputs": [
        {
          "output_type": "display_data",
          "data": {
            "text/plain": [
              "<Figure size 1440x720 with 2 Axes>"
            ],
            "image/png": "[encoded data removed]"
          },
          "metadata": {
            "needs_background": "light"
          }
        }
      ]
    },
    {
      "cell_type": "markdown",
      "source": [
        "Prédiction sur le test pour créer une matrice de confusion"
      ],
      "metadata": {
        "id": "lTjwSYus8JpE"
      }
    },
    {
      "cell_type": "code",
      "source": [
        "pred = model.predict(X_test)"
      ],
      "metadata": {
        "id": "Cc0ct1gl6Vv4",
        "colab": {
          "base_uri": "https://localhost:8080/"
        },
        "outputId": "2827f0de-ac4d-4aaa-bf59-a71493a5b860"
      },
      "execution_count": 27,
      "outputs": [
        {
          "output_type": "stream",
          "name": "stdout",
          "text": [
            "66/66 [==============================] - 17s 248ms/step\n"
          ]
        }
      ]
    },
    {
      "cell_type": "code",
      "source": [
        "print(classification_report(list(y_test), np.round(pred).astype(int), target_names = ['Not Fake','Fake']))"
      ],
      "metadata": {
        "id": "5K9SVmvk6X6A",
        "colab": {
          "base_uri": "https://localhost:8080/"
        },
        "outputId": "d442bbc9-6fab-4a52-b1dc-503830529b89"
      },
      "execution_count": 28,
      "outputs": [
        {
          "output_type": "stream",
          "name": "stdout",
          "text": [
            "              precision    recall  f1-score   support\n",
            "\n",
            "    Not Fake       0.98      0.96      0.97      1264\n",
            "        Fake       0.95      0.97      0.96       844\n",
            "\n",
            "    accuracy                           0.97      2108\n",
            "   macro avg       0.96      0.97      0.96      2108\n",
            "weighted avg       0.97      0.97      0.97      2108\n",
            "\n"
          ]
        }
      ]
    },
    {
      "cell_type": "code",
      "source": [
        "cm = confusion_matrix(y_test,np.round(pred).astype(int))\n",
        "cm"
      ],
      "metadata": {
        "id": "IxaCAKih6Y4N",
        "colab": {
          "base_uri": "https://localhost:8080/"
        },
        "outputId": "77da3e01-332f-4f4e-9b06-5aa139b30c62"
      },
      "execution_count": 29,
      "outputs": [
        {
          "output_type": "execute_result",
          "data": {
            "text/plain": [
              "array([[1218,   46],\n",
              "       [  27,  817]])"
            ]
          },
          "metadata": {},
          "execution_count": 29
        }
      ]
    },
    {
      "cell_type": "code",
      "source": [
        "cm = pd.DataFrame(cm , index = ['Fake','Original'] , columns = ['Fake','Original'])"
      ],
      "metadata": {
        "id": "zbIOO-CX6Z9R"
      },
      "execution_count": 30,
      "outputs": []
    },
    {
      "cell_type": "code",
      "source": [
        "plt.figure(figsize = (10,10))\n",
        "sns.heatmap(cm,cmap= \"Reds\", linecolor = 'black' , linewidth = 1 , annot = True, fmt='' , xticklabels = ['Fake','Original'] , yticklabels = ['Fake','Original'])\n",
        "plt.xlabel(\"Predicted\")\n",
        "plt.ylabel(\"Actual\")"
      ],
      "metadata": {
        "id": "r9NtosEZ6bDE",
        "colab": {
          "base_uri": "https://localhost:8080/",
          "height": 623
        },
        "outputId": "6ce2f580-16be-4d9a-ef2b-4918a3d66c1f"
      },
      "execution_count": 31,
      "outputs": [
        {
          "output_type": "execute_result",
          "data": {
            "text/plain": [
              "Text(69.0, 0.5, 'Actual')"
            ]
          },
          "metadata": {},
          "execution_count": 31
        },
        {
          "output_type": "display_data",
          "data": {
            "text/plain": [
              "<Figure size 720x720 with 2 Axes>"
            ],
            "image/png": "[encoded data removed]"
          },
          "metadata": {
            "needs_background": "light"
          }
        }
      ]
    }
  ]
}
