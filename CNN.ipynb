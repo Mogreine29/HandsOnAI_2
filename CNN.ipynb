{
  "nbformat": 4,
  "nbformat_minor": 0,
  "metadata": {
    "colab": {
      "provenance": [],
      "include_colab_link": true
    },
    "kernelspec": {
      "name": "python3",
      "display_name": "Python 3"
    },
    "language_info": {
      "name": "python"
    },
    "accelerator": "GPU",
    "gpuClass": "standard"
  },
  "cells": [
    {
      "cell_type": "markdown",
      "metadata": {
        "id": "view-in-github",
        "colab_type": "text"
      },
      "source": [
        "<a href=\"https://colab.research.google.com/github/Mogreine29/HandsOnAI_2/blob/main/CNN.ipynb\" target=\"_parent\"><img src=\"https://colab.research.google.com/assets/colab-badge.svg\" alt=\"Open In Colab\"/></a>"
      ]
    },
    {
      "cell_type": "markdown",
      "source": [
        "Importing libraries"
      ],
      "metadata": {
        "id": "eRLBMkZJ28Uz"
      }
    },
    {
      "cell_type": "code",
      "source": [
        "import pandas as pd\n",
        "import numpy as np\n",
        "import seaborn as sns\n",
        "import matplotlib.pyplot as plt\n",
        "from sklearn.metrics import classification_report, confusion_matrix\n",
        "import gensim\n",
        "from keras.optimizers import Adam\n",
        "from keras_preprocessing import text, sequence\n",
        "from keras.callbacks import ReduceLROnPlateau\n",
        "from keras.models import Sequential\n",
        "from keras.layers import Dense, Embedding, LSTM, Dropout\n",
        "import re\n",
        "import string\n",
        "import nltk\n",
        "nltk.download(\"stopwords\")\n",
        "from nltk.corpus import stopwords\n",
        "from wordcloud import WordCloud"
      ],
      "metadata": {
        "colab": {
          "base_uri": "https://localhost:8080/"
        },
        "id": "gFBjX8z-9uH3",
        "outputId": "b4fb5dfe-5620-43c9-9b05-f6b1e9da2b64"
      },
      "execution_count": 1,
      "outputs": [
        {
          "output_type": "stream",
          "name": "stderr",
          "text": [
            "[nltk_data] Downloading package stopwords to /root/nltk_data...\n",
            "[nltk_data]   Unzipping corpora/stopwords.zip.\n"
          ]
        }
      ]
    },
    {
      "cell_type": "markdown",
      "source": [
        "Mounting google drive to access data and save models"
      ],
      "metadata": {
        "id": "Ga7SNUMI2_cv"
      }
    },
    {
      "cell_type": "code",
      "source": [
        "from google.colab import drive\n",
        "drive.mount('/content/drive')\n",
        "%cd drive/My\\ Drive/Challenge2"
      ],
      "metadata": {
        "colab": {
          "base_uri": "https://localhost:8080/"
        },
        "id": "aZJfyIHd94XB",
        "outputId": "ecfb0255-92b5-4330-b280-21c74dbf4fd6"
      },
      "execution_count": 2,
      "outputs": [
        {
          "output_type": "stream",
          "name": "stdout",
          "text": [
            "Mounted at /content/drive\n",
            "/content/drive/My Drive/Challenge2\n"
          ]
        }
      ]
    },
    {
      "cell_type": "markdown",
      "source": [
        "Reading data "
      ],
      "metadata": {
        "id": "4ZKZXbyO3FHT"
      }
    },
    {
      "cell_type": "code",
      "source": [
        "df_train = pd.read_csv('/content/drive/MyDrive/Challenge2/fake_train.csv')\n",
        "df_test = pd.read_csv('/content/drive/MyDrive/Challenge2/fake_test.csv')\n"
      ],
      "metadata": {
        "id": "sKZc9ZUU-Xwc"
      },
      "execution_count": 3,
      "outputs": []
    },
    {
      "cell_type": "markdown",
      "source": [
        "Removing useless columns"
      ],
      "metadata": {
        "id": "SaruKXCD3fT-"
      }
    },
    {
      "cell_type": "code",
      "source": [
        "df_train = df_train.drop(['Unnamed: 0', 'target_name'], axis = 1)\n",
        "df_test = df_test.drop(['Unnamed: 0', 'target_name'], axis = 1)"
      ],
      "metadata": {
        "id": "14BIXzRZ-u-E"
      },
      "execution_count": 4,
      "outputs": []
    },
    {
      "cell_type": "markdown",
      "source": [
        "Deleting parasite data (see report for more info)"
      ],
      "metadata": {
        "id": "Vmd_S97T0Dy9"
      }
    },
    {
      "cell_type": "code",
      "source": [
        "df_train.drop([829,839, 1136, 1180, 1294, 1317, 1362, 1429], inplace = True )"
      ],
      "metadata": {
        "id": "M0jY6EGZ0Dcr"
      },
      "execution_count": 5,
      "outputs": []
    },
    {
      "cell_type": "markdown",
      "source": [
        "Removing Stopwords and other characters using RegEx"
      ],
      "metadata": {
        "id": "luf5tA8e3h-g"
      }
    },
    {
      "cell_type": "code",
      "source": [
        "STOPWORDS = set(stopwords.words('french'))\n",
        "\n",
        "def cleaner(text):\n",
        "    text = text.lower()\n",
        "    text = re.sub('\\[.*?\\]', '', text)\n",
        "    text = re.sub(\"\\\\W\",\" \",text) \n",
        "    text = re.sub('https?://\\S+|www\\.\\S+', '', text)\n",
        "    text = re.sub('<.*?>+', '', text)\n",
        "    text = re.sub('[%s]' % re.escape(string.punctuation), '', text)\n",
        "    text = re.sub('\\n', '', text)\n",
        "    text = re.sub('\\w*\\d\\w*', '', text)\n",
        "\n",
        "    text = ' '.join(word for word in text.split() if word not in STOPWORDS)   \n",
        "    return text"
      ],
      "metadata": {
        "id": "x05OYt5q-2uF"
      },
      "execution_count": 6,
      "outputs": []
    },
    {
      "cell_type": "code",
      "source": [
        "df_train['data'] = df_train['data'].apply(cleaner)\n",
        "df_test['data'] = df_test['data'].apply(cleaner)"
      ],
      "metadata": {
        "id": "-A22HZuf--6q"
      },
      "execution_count": 7,
      "outputs": []
    },
    {
      "cell_type": "code",
      "source": [
        "x_train = df_train[\"data\"]\n",
        "y_train = df_train[\"label\"]\n",
        "\n",
        "x_test = df_test[\"data\"]\n",
        "y_test = df_test[\"label\"]"
      ],
      "metadata": {
        "id": "oGjIDxPl_A3u"
      },
      "execution_count": 8,
      "outputs": []
    },
    {
      "cell_type": "markdown",
      "source": [
        "Text vectorization using Keras"
      ],
      "metadata": {
        "id": "_YFfSsPW7CtC"
      }
    },
    {
      "cell_type": "code",
      "source": [
        "max_features = 10000\n",
        "maxlen = 512"
      ],
      "metadata": {
        "id": "mQ_-640dpbI9"
      },
      "execution_count": 9,
      "outputs": []
    },
    {
      "cell_type": "code",
      "source": [
        "tokenizer = text.Tokenizer(num_words=max_features)\n",
        "tokenizer.fit_on_texts(x_train)\n",
        "tokenized_train = tokenizer.texts_to_sequences(x_train)\n",
        "x_train = sequence.pad_sequences(tokenized_train, maxlen=maxlen)"
      ],
      "metadata": {
        "id": "HOX7DAK-pdmR"
      },
      "execution_count": 10,
      "outputs": []
    },
    {
      "cell_type": "code",
      "source": [
        "tokenized_test = tokenizer.texts_to_sequences(x_test)\n",
        "X_test = sequence.pad_sequences(tokenized_test, maxlen=maxlen)"
      ],
      "metadata": {
        "id": "G5wZ_n_EkskT"
      },
      "execution_count": 11,
      "outputs": []
    },
    {
      "cell_type": "markdown",
      "source": [
        "Embedding Matrix for our model"
      ],
      "metadata": {
        "id": "J3J4ziy07H6j"
      }
    },
    {
      "cell_type": "code",
      "source": [
        "#!wget https://embeddings.net/embeddings/frWac_non_lem_no_postag_no_phrase_200_cbow_cut100.bin"
      ],
      "metadata": {
        "id": "cjEiawy1iYYH"
      },
      "execution_count": 12,
      "outputs": []
    },
    {
      "cell_type": "code",
      "source": [
        "word2vec_model_fr = gensim.models.KeyedVectors.load_word2vec_format(\"frWac_non_lem_no_postag_no_phrase_200_cbow_cut100.bin\",binary=True)"
      ],
      "metadata": {
        "id": "bvcGKQctiaoF"
      },
      "execution_count": 13,
      "outputs": []
    },
    {
      "cell_type": "code",
      "source": [
        "embeddings_index = dict((key,word2vec_model_fr[key]) for key in word2vec_model_fr.vocab.keys())"
      ],
      "metadata": {
        "id": "HI8x3LR4qg7O"
      },
      "execution_count": 14,
      "outputs": []
    },
    {
      "cell_type": "code",
      "source": [
        "all_embs = np.stack(embeddings_index.values())\n",
        "emb_mean,emb_std = all_embs.mean(), all_embs.std()\n",
        "embed_size = all_embs.shape[1]\n",
        "\n",
        "word_index = tokenizer.word_index\n",
        "nb_words = min(max_features, len(word_index))\n",
        "embedding_matrix = embedding_matrix = np.random.normal(emb_mean, emb_std, (nb_words, embed_size))\n",
        "for word, i in word_index.items():\n",
        "    if i >= max_features: continue\n",
        "    embedding_vector = embeddings_index.get(word)\n",
        "    if embedding_vector is not None: embedding_matrix[i] = embedding_vector"
      ],
      "metadata": {
        "colab": {
          "base_uri": "https://localhost:8080/"
        },
        "id": "HIv44SkZ8X3X",
        "outputId": "86df4eea-7a7b-48b5-e4af-e97008a00d82"
      },
      "execution_count": 15,
      "outputs": [
        {
          "output_type": "stream",
          "name": "stderr",
          "text": [
            "/usr/local/lib/python3.8/dist-packages/IPython/core/interactiveshell.py:3249: FutureWarning: arrays to stack must be passed as a \"sequence\" type such as list or tuple. Support for non-sequence iterables such as generators is deprecated as of NumPy 1.16 and will raise an error in the future.\n",
            "  if (await self.run_code(code, result,  async_=asy)):\n"
          ]
        }
      ]
    },
    {
      "cell_type": "markdown",
      "source": [
        "Parameters of the Deep learning model"
      ],
      "metadata": {
        "id": "ua6toHuF7UnK"
      }
    },
    {
      "cell_type": "code",
      "source": [
        "batch_size = 256\n",
        "epochs = 20\n",
        "embed_size = 200\n",
        "\n",
        "learning_rate_reduction = ReduceLROnPlateau(monitor='val_accuracy', patience = 2, verbose=1,factor=0.5, min_lr=0.00001)"
      ],
      "metadata": {
        "id": "hSoIJ17hw0VS"
      },
      "execution_count": 16,
      "outputs": []
    },
    {
      "cell_type": "markdown",
      "source": [
        "Model architecture"
      ],
      "metadata": {
        "id": "fuCtoKwM7YPR"
      }
    },
    {
      "cell_type": "code",
      "source": [
        "#Defining Neural Network\n",
        "model = Sequential()\n",
        "\n",
        "#Non-trainable embeddidng layer \n",
        "model.add(Embedding(max_features, output_dim=embed_size, weights=[embedding_matrix], input_length=maxlen, trainable=False))\n",
        "\n",
        "#LSTM \n",
        "model.add(LSTM(units=128 , return_sequences = True , recurrent_dropout = 0.25 , dropout = 0.25))\n",
        "model.add(LSTM(units=64 , recurrent_dropout = 0.1 , dropout = 0.1))\n",
        "model.add(Dense(units = 32 , activation = 'relu'))\n",
        "model.add(Dense(1, activation='sigmoid'))\n",
        "model.compile(optimizer=Adam(learning_rate = 0.01), loss='binary_crossentropy', metrics=['accuracy'])"
      ],
      "metadata": {
        "colab": {
          "base_uri": "https://localhost:8080/"
        },
        "id": "Wd8VD-02xU4D",
        "outputId": "5f69f7be-2f52-490f-856b-a513f63d1a9e"
      },
      "execution_count": 17,
      "outputs": [
        {
          "output_type": "stream",
          "name": "stderr",
          "text": [
            "WARNING:tensorflow:Layer lstm will not use cuDNN kernels since it doesn't meet the criteria. It will use a generic GPU kernel as fallback when running on GPU.\n",
            "WARNING:tensorflow:Layer lstm_1 will not use cuDNN kernels since it doesn't meet the criteria. It will use a generic GPU kernel as fallback when running on GPU.\n"
          ]
        }
      ]
    },
    {
      "cell_type": "code",
      "source": [
        "model.build()\n",
        "model.summary()"
      ],
      "metadata": {
        "colab": {
          "base_uri": "https://localhost:8080/"
        },
        "id": "UaH9T8eS6Mvk",
        "outputId": "14f671dc-d134-484b-b23c-229eac252d45"
      },
      "execution_count": 18,
      "outputs": [
        {
          "output_type": "stream",
          "name": "stdout",
          "text": [
            "Model: \"sequential\"\n",
            "_________________________________________________________________\n",
            " Layer (type)                Output Shape              Param #   \n",
            "=================================================================\n",
            " embedding (Embedding)       (None, 512, 200)          2000000   \n",
            "                                                                 \n",
            " lstm (LSTM)                 (None, 512, 128)          168448    \n",
            "                                                                 \n",
            " lstm_1 (LSTM)               (None, 64)                49408     \n",
            "                                                                 \n",
            " dense (Dense)               (None, 32)                2080      \n",
            "                                                                 \n",
            " dense_1 (Dense)             (None, 1)                 33        \n",
            "                                                                 \n",
            "=================================================================\n",
            "Total params: 2,219,969\n",
            "Trainable params: 219,969\n",
            "Non-trainable params: 2,000,000\n",
            "_________________________________________________________________\n"
          ]
        }
      ]
    },
    {
      "cell_type": "markdown",
      "source": [
        "model.fit()"
      ],
      "metadata": {
        "id": "vmPa1c6Y7gL0"
      }
    },
    {
      "cell_type": "code",
      "source": [
        "history = model.fit(x_train, y_train, batch_size = batch_size , validation_data = (X_test,y_test) , epochs = epochs , callbacks = [learning_rate_reduction])"
      ],
      "metadata": {
        "id": "0MZ4-bS16PhE",
        "colab": {
          "base_uri": "https://localhost:8080/"
        },
        "outputId": "f462a6a8-7d4a-40b6-f3e0-789f465ae7e9"
      },
      "execution_count": 19,
      "outputs": [
        {
          "output_type": "stream",
          "name": "stdout",
          "text": [
            "Epoch 1/20\n",
            "6/6 [==============================] - 34s 5s/step - loss: 0.6520 - accuracy: 0.6172 - val_loss: 0.5266 - val_accuracy: 0.7593 - lr: 0.0100\n",
            "Epoch 2/20\n",
            "6/6 [==============================] - 28s 5s/step - loss: 0.4949 - accuracy: 0.7821 - val_loss: 0.3811 - val_accuracy: 0.8951 - lr: 0.0100\n",
            "Epoch 3/20\n",
            "6/6 [==============================] - 24s 4s/step - loss: 0.3635 - accuracy: 0.8772 - val_loss: 0.3692 - val_accuracy: 0.8580 - lr: 0.0100\n",
            "Epoch 4/20\n",
            "6/6 [==============================] - ETA: 0s - loss: 0.3004 - accuracy: 0.8966\n",
            "Epoch 4: ReduceLROnPlateau reducing learning rate to 0.004999999888241291.\n",
            "6/6 [==============================] - 24s 4s/step - loss: 0.3004 - accuracy: 0.8966 - val_loss: 0.4211 - val_accuracy: 0.8086 - lr: 0.0100\n",
            "Epoch 5/20\n",
            "6/6 [==============================] - 24s 4s/step - loss: 0.2499 - accuracy: 0.8979 - val_loss: 0.2339 - val_accuracy: 0.9198 - lr: 0.0050\n",
            "Epoch 6/20\n",
            "6/6 [==============================] - 24s 4s/step - loss: 0.1863 - accuracy: 0.9372 - val_loss: 0.2324 - val_accuracy: 0.9012 - lr: 0.0050\n",
            "Epoch 7/20\n",
            "6/6 [==============================] - 24s 4s/step - loss: 0.1673 - accuracy: 0.9359 - val_loss: 0.1698 - val_accuracy: 0.9300 - lr: 0.0050\n",
            "Epoch 8/20\n",
            "6/6 [==============================] - 24s 4s/step - loss: 0.1343 - accuracy: 0.9476 - val_loss: 0.1851 - val_accuracy: 0.9342 - lr: 0.0050\n",
            "Epoch 9/20\n",
            "6/6 [==============================] - 24s 4s/step - loss: 0.1185 - accuracy: 0.9621 - val_loss: 0.1663 - val_accuracy: 0.9465 - lr: 0.0050\n",
            "Epoch 10/20\n",
            "6/6 [==============================] - 25s 4s/step - loss: 0.1152 - accuracy: 0.9607 - val_loss: 0.1556 - val_accuracy: 0.9527 - lr: 0.0050\n",
            "Epoch 11/20\n",
            "6/6 [==============================] - 24s 4s/step - loss: 0.0864 - accuracy: 0.9738 - val_loss: 0.1543 - val_accuracy: 0.9568 - lr: 0.0050\n",
            "Epoch 12/20\n",
            "6/6 [==============================] - 24s 4s/step - loss: 0.0857 - accuracy: 0.9772 - val_loss: 0.2916 - val_accuracy: 0.9218 - lr: 0.0050\n",
            "Epoch 13/20\n",
            "6/6 [==============================] - ETA: 0s - loss: 0.0917 - accuracy: 0.9717\n",
            "Epoch 13: ReduceLROnPlateau reducing learning rate to 0.0024999999441206455.\n",
            "6/6 [==============================] - 24s 4s/step - loss: 0.0917 - accuracy: 0.9717 - val_loss: 0.1554 - val_accuracy: 0.9465 - lr: 0.0050\n",
            "Epoch 14/20\n",
            "6/6 [==============================] - 24s 4s/step - loss: 0.0793 - accuracy: 0.9786 - val_loss: 0.1827 - val_accuracy: 0.9444 - lr: 0.0025\n",
            "Epoch 15/20\n",
            "6/6 [==============================] - ETA: 0s - loss: 0.0625 - accuracy: 0.9800\n",
            "Epoch 15: ReduceLROnPlateau reducing learning rate to 0.0012499999720603228.\n",
            "6/6 [==============================] - 24s 4s/step - loss: 0.0625 - accuracy: 0.9800 - val_loss: 0.1598 - val_accuracy: 0.9486 - lr: 0.0025\n",
            "Epoch 16/20\n",
            "6/6 [==============================] - 25s 4s/step - loss: 0.0729 - accuracy: 0.9745 - val_loss: 0.1803 - val_accuracy: 0.9527 - lr: 0.0012\n",
            "Epoch 17/20\n",
            "6/6 [==============================] - ETA: 0s - loss: 0.0565 - accuracy: 0.9841\n",
            "Epoch 17: ReduceLROnPlateau reducing learning rate to 0.0006249999860301614.\n",
            "6/6 [==============================] - 24s 4s/step - loss: 0.0565 - accuracy: 0.9841 - val_loss: 0.1820 - val_accuracy: 0.9465 - lr: 0.0012\n",
            "Epoch 18/20\n",
            "6/6 [==============================] - 25s 4s/step - loss: 0.0478 - accuracy: 0.9890 - val_loss: 0.1684 - val_accuracy: 0.9506 - lr: 6.2500e-04\n",
            "Epoch 19/20\n",
            "6/6 [==============================] - ETA: 0s - loss: 0.0496 - accuracy: 0.9883\n",
            "Epoch 19: ReduceLROnPlateau reducing learning rate to 0.0003124999930150807.\n",
            "6/6 [==============================] - 25s 4s/step - loss: 0.0496 - accuracy: 0.9883 - val_loss: 0.1632 - val_accuracy: 0.9547 - lr: 6.2500e-04\n",
            "Epoch 20/20\n",
            "6/6 [==============================] - 24s 4s/step - loss: 0.0501 - accuracy: 0.9841 - val_loss: 0.1650 - val_accuracy: 0.9527 - lr: 3.1250e-04\n"
          ]
        }
      ]
    },
    {
      "cell_type": "markdown",
      "source": [
        "Accuracy test after training"
      ],
      "metadata": {
        "id": "JXvcqkRZ7oCr"
      }
    },
    {
      "cell_type": "code",
      "source": [
        "print(\"Accuracy of the model on Training Data is - \" , model.evaluate(x_train,y_train)[1]*100 , \"%\")\n",
        "print(\"Accuracy of the model on Testing Data is - \" , model.evaluate(X_test,y_test)[1]*100 , \"%\")"
      ],
      "metadata": {
        "id": "6FRuhy0w6ROX",
        "colab": {
          "base_uri": "https://localhost:8080/"
        },
        "outputId": "da258c95-571c-4a2d-ba38-f175319bd7d4"
      },
      "execution_count": 20,
      "outputs": [
        {
          "output_type": "stream",
          "name": "stdout",
          "text": [
            "46/46 [==============================] - 11s 248ms/step - loss: 0.0402 - accuracy: 0.9910\n",
            "Accuracy of the model on Training Data is -  99.10345077514648 %\n",
            "16/16 [==============================] - 4s 258ms/step - loss: 0.1650 - accuracy: 0.9527\n",
            "Accuracy of the model on Testing Data is -  95.2674925327301 %\n"
          ]
        }
      ]
    },
    {
      "cell_type": "markdown",
      "source": [
        "Saving model to google drive for further use"
      ],
      "metadata": {
        "id": "nbU7a4wq7r2c"
      }
    },
    {
      "cell_type": "code",
      "source": [
        "path_to_save = '/content/drive/MyDrive/Challenge2/model10'"
      ],
      "metadata": {
        "id": "xYWbZ0ewZzZP"
      },
      "execution_count": 21,
      "outputs": []
    },
    {
      "cell_type": "code",
      "source": [
        "model.save(path_to_save)"
      ],
      "metadata": {
        "id": "w25hf1TS8K9_"
      },
      "execution_count": 22,
      "outputs": []
    },
    {
      "cell_type": "markdown",
      "source": [
        "Graphic of model training\n"
      ],
      "metadata": {
        "id": "E9OnCLHM7uSM"
      }
    },
    {
      "cell_type": "code",
      "source": [
        "epochs = [i for i in range(20)]\n",
        "fig , ax = plt.subplots(1,2)\n",
        "train_acc = history.history['accuracy']\n",
        "train_loss = history.history['loss']\n",
        "val_acc = history.history['val_accuracy']\n",
        "val_loss = history.history['val_loss']\n",
        "fig.set_size_inches(20,10)\n",
        "\n",
        "ax[0].plot(epochs , train_acc , 'go-' , label = 'Training Accuracy')\n",
        "ax[0].plot(epochs , val_acc , 'ro-' , label = 'Testing Accuracy')\n",
        "ax[0].set_title('Training & Testing Accuracy')\n",
        "ax[0].legend()\n",
        "ax[0].set_xlabel(\"Epochs\")\n",
        "ax[0].set_ylabel(\"Accuracy\")\n",
        "\n",
        "ax[1].plot(epochs , train_loss , 'go-' , label = 'Training Loss')\n",
        "ax[1].plot(epochs , val_loss , 'ro-' , label = 'Testing Loss')\n",
        "ax[1].set_title('Training & Testing Loss')\n",
        "ax[1].legend()\n",
        "ax[1].set_xlabel(\"Epochs\")\n",
        "ax[1].set_ylabel(\"Loss\")\n",
        "plt.show()"
      ],
      "metadata": {
        "id": "uNJQML7v6TLU",
        "colab": {
          "base_uri": "https://localhost:8080/",
          "height": 621
        },
        "outputId": "5bb0bc25-2cf2-41ab-c275-f82465ebc644"
      },
      "execution_count": 23,
      "outputs": [
        {
          "output_type": "display_data",
          "data": {
            "text/plain": [
              "<Figure size 1440x720 with 2 Axes>"
            ],
            "image/png": "[encoded data removed]"
          },
          "metadata": {
            "needs_background": "light"
          }
        }
      ]
    },
    {
      "cell_type": "markdown",
      "source": [
        "Prediction on some data"
      ],
      "metadata": {
        "id": "lTjwSYus8JpE"
      }
    },
    {
      "cell_type": "code",
      "source": [
        "pred = model.predict(X_test)"
      ],
      "metadata": {
        "id": "Cc0ct1gl6Vv4",
        "colab": {
          "base_uri": "https://localhost:8080/"
        },
        "outputId": "8152a853-563e-4cdb-9987-d87feffd84a3"
      },
      "execution_count": 24,
      "outputs": [
        {
          "output_type": "stream",
          "name": "stdout",
          "text": [
            "16/16 [==============================] - 4s 252ms/step\n"
          ]
        }
      ]
    },
    {
      "cell_type": "markdown",
      "source": [
        "Confusion matrix"
      ],
      "metadata": {
        "id": "YfLO2UqN8MTV"
      }
    },
    {
      "cell_type": "code",
      "source": [
        "print(classification_report(list(y_test), np.round(pred).astype(int), target_names = ['Not Fake','Fake']))"
      ],
      "metadata": {
        "id": "5K9SVmvk6X6A",
        "colab": {
          "base_uri": "https://localhost:8080/"
        },
        "outputId": "4a1bb634-d795-46ab-c33b-b748cc6a6176"
      },
      "execution_count": 25,
      "outputs": [
        {
          "output_type": "stream",
          "name": "stdout",
          "text": [
            "              precision    recall  f1-score   support\n",
            "\n",
            "    Not Fake       0.96      0.95      0.96       272\n",
            "        Fake       0.94      0.95      0.95       214\n",
            "\n",
            "    accuracy                           0.95       486\n",
            "   macro avg       0.95      0.95      0.95       486\n",
            "weighted avg       0.95      0.95      0.95       486\n",
            "\n"
          ]
        }
      ]
    },
    {
      "cell_type": "code",
      "source": [
        "cm = confusion_matrix(y_test,np.round(pred).astype(int))\n",
        "cm"
      ],
      "metadata": {
        "id": "IxaCAKih6Y4N",
        "colab": {
          "base_uri": "https://localhost:8080/"
        },
        "outputId": "d156edf5-5e05-409f-c0bb-2e6387e3c41d"
      },
      "execution_count": 26,
      "outputs": [
        {
          "output_type": "execute_result",
          "data": {
            "text/plain": [
              "array([[259,  13],\n",
              "       [ 10, 204]])"
            ]
          },
          "metadata": {},
          "execution_count": 26
        }
      ]
    },
    {
      "cell_type": "code",
      "source": [
        "cm = pd.DataFrame(cm , index = ['Fake','Original'] , columns = ['Fake','Original'])"
      ],
      "metadata": {
        "id": "zbIOO-CX6Z9R"
      },
      "execution_count": 27,
      "outputs": []
    },
    {
      "cell_type": "code",
      "source": [
        "plt.figure(figsize = (10,10))\n",
        "sns.heatmap(cm,cmap= \"Reds\", linecolor = 'black' , linewidth = 1 , annot = True, fmt='' , xticklabels = ['Fake','Original'] , yticklabels = ['Fake','Original'])\n",
        "plt.xlabel(\"Predicted\")\n",
        "plt.ylabel(\"Actual\")"
      ],
      "metadata": {
        "id": "r9NtosEZ6bDE",
        "colab": {
          "base_uri": "https://localhost:8080/",
          "height": 623
        },
        "outputId": "591e71a2-31d7-4451-bb97-b577f87adb0a"
      },
      "execution_count": 28,
      "outputs": [
        {
          "output_type": "execute_result",
          "data": {
            "text/plain": [
              "Text(69.0, 0.5, 'Actual')"
            ]
          },
          "metadata": {},
          "execution_count": 28
        },
        {
          "output_type": "display_data",
          "data": {
            "text/plain": [
              "<Figure size 720x720 with 2 Axes>"
            ],
            "image/png": "[encoded data removed]"
          },
          "metadata": {
            "needs_background": "light"
          }
        }
      ]
    },
    {
      "cell_type": "code",
      "source": [
        "from tensorflow import keras\n",
        "model22 = keras.models.load_model(path_to_save)"
      ],
      "metadata": {
        "id": "MUcpA8ryYf8y",
        "outputId": "9e4e9c45-0a19-43ec-d13a-8c25dd4d4728",
        "colab": {
          "base_uri": "https://localhost:8080/"
        }
      },
      "execution_count": 29,
      "outputs": [
        {
          "output_type": "stream",
          "name": "stderr",
          "text": [
            "WARNING:tensorflow:Layer lstm will not use cuDNN kernels since it doesn't meet the criteria. It will use a generic GPU kernel as fallback when running on GPU.\n",
            "WARNING:tensorflow:Layer lstm_1 will not use cuDNN kernels since it doesn't meet the criteria. It will use a generic GPU kernel as fallback when running on GPU.\n"
          ]
        }
      ]
    },
    {
      "cell_type": "code",
      "source": [
        "print(\"Accuracy of the model on Testing Data is - \" , model22.evaluate(X_test,y_test)[1]*100 , \"%\")"
      ],
      "metadata": {
        "id": "iwKrSByDYoDW",
        "outputId": "e5e0d7f8-a726-4712-a1f4-16a696280a2f",
        "colab": {
          "base_uri": "https://localhost:8080/"
        }
      },
      "execution_count": 30,
      "outputs": [
        {
          "output_type": "stream",
          "name": "stdout",
          "text": [
            "16/16 [==============================] - 5s 261ms/step - loss: 0.1650 - accuracy: 0.9527\n",
            "Accuracy of the model on Testing Data is -  95.2674925327301 %\n"
          ]
        }
      ]
    }
  ]
}