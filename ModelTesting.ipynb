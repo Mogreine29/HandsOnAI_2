{
  "nbformat": 4,
  "nbformat_minor": 0,
  "metadata": {
    "colab": {
      "provenance": [],
      "include_colab_link": true
    },
    "kernelspec": {
      "name": "python3",
      "display_name": "Python 3"
    },
    "language_info": {
      "name": "python"
    }
  },
  "cells": [
    {
      "cell_type": "markdown",
      "metadata": {
        "id": "view-in-github",
        "colab_type": "text"
      },
      "source": [
        "<a href=\"https://colab.research.google.com/github/Mogreine29/HandsOnAI_2/blob/main/ModelTesting.ipynb\" target=\"_parent\"><img src=\"https://colab.research.google.com/assets/colab-badge.svg\" alt=\"Open In Colab\"/></a>"
      ]
    },
    {
      "cell_type": "code",
      "source": [
        "from keras_preprocessing import text,sequence\n",
        "from tensorflow import keras\n",
        "import pickle\n",
        "import numpy as np\n",
        "import pandas as pd\n",
        "import re\n",
        "import string\n",
        "import nltk\n",
        "nltk.download(\"stopwords\")\n",
        "from nltk.corpus import stopwords\n"
      ],
      "metadata": {
        "colab": {
          "base_uri": "https://localhost:8080/"
        },
        "id": "fDIvZvEF91QG",
        "outputId": "a276c284-9316-4067-b2e0-6b754120c9ce"
      },
      "execution_count": 13,
      "outputs": [
        {
          "output_type": "stream",
          "name": "stderr",
          "text": [
            "[nltk_data] Downloading package stopwords to /root/nltk_data...\n",
            "[nltk_data]   Package stopwords is already up-to-date!\n"
          ]
        }
      ]
    },
    {
      "cell_type": "markdown",
      "source": [
        "Mount le drive pour accéder aux modèles enregistrés (Créer un raccourci du drive partagé dans votre propre drive google)\n",
        "\n",
        "https://drive.google.com/drive/folders/1aIAK0Qi-pofkSLi3xijkAex-JrSW_tn8?usp=sharing"
      ],
      "metadata": {
        "id": "ij2mlWll-T1E"
      }
    },
    {
      "cell_type": "code",
      "execution_count": 14,
      "metadata": {
        "colab": {
          "base_uri": "https://localhost:8080/"
        },
        "id": "9SOfBbGS88RB",
        "outputId": "4b87d6fc-e558-4814-d604-542d1413a6e9"
      },
      "outputs": [
        {
          "output_type": "stream",
          "name": "stdout",
          "text": [
            "Drive already mounted at /content/drive; to attempt to forcibly remount, call drive.mount(\"/content/drive\", force_remount=True).\n"
          ]
        }
      ],
      "source": [
        "from google.colab import drive\n",
        "drive.mount('/content/drive')"
      ]
    },
    {
      "cell_type": "markdown",
      "source": [
        "Mettre le lien du modèle et du tokenizer ici (Pour avoir plus simple, vous pouvez créer un racourci du drive partagé dans votre propre drive, vous n'aurez pas besoin de changer quoiqu'il soit dans le code alors; Pour cela, il suffit de faire clique droit sur le folder \"Challenge2\" et appuyer sur \"Ajouter un raccourci dans Drive\")"
      ],
      "metadata": {
        "id": "kVAqVc-2-PY8"
      }
    },
    {
      "cell_type": "code",
      "source": [
        "path_to_load = '/content/drive/MyDrive/Challenge2/modelF.h5'\n",
        "tokenizer_path = '/content/drive/MyDrive/Challenge2/tokenizer.pickle'"
      ],
      "metadata": {
        "id": "Km0RMQscayHy"
      },
      "execution_count": 15,
      "outputs": []
    },
    {
      "cell_type": "code",
      "source": [
        "with open(tokenizer_path, 'rb') as handle:\n",
        "    tokenizer = pickle.load(handle)"
      ],
      "metadata": {
        "id": "9BShwdp-6HQJ"
      },
      "execution_count": 16,
      "outputs": []
    },
    {
      "cell_type": "code",
      "source": [
        "model = keras.models.load_model(path_to_load)"
      ],
      "metadata": {
        "id": "ifqtVx7h9TTr"
      },
      "execution_count": 17,
      "outputs": []
    },
    {
      "cell_type": "markdown",
      "source": [
        "Lire les données à tester et retirer les colonnes inutiles\n",
        "Renommer les colonnes avec le text en \"data\" et les colonnes avec les label en \"label\""
      ],
      "metadata": {
        "id": "YoscDAlP-vI_"
      }
    },
    {
      "cell_type": "code",
      "source": [
        "df_test = pd.read_csv('/content/drive/MyDrive/Challenge2/fake_test.csv')\n",
        "df_test = df_test.drop(['Unnamed: 0', 'target_name'], axis = 1)"
      ],
      "metadata": {
        "id": "i7A6VJTE-qlE"
      },
      "execution_count": 18,
      "outputs": []
    },
    {
      "cell_type": "markdown",
      "source": [
        "Nettoyage des données"
      ],
      "metadata": {
        "id": "InjjVPYlyWs7"
      }
    },
    {
      "cell_type": "code",
      "source": [
        "STOPWORDS = set(stopwords.words('french'))\n",
        "moreStopwords = ['plus', 'comme', 'a', 'il', 'alors','au',\n",
        "'aucuns','aussi','autre','avant','avec','avoir','bon','car','ce','cela','ces','ceux','chaque','ci',\n",
        "'comme','comment','dans','des','du','dedans','dehors','depuis','devrait','doit','donc','dos','début',\n",
        "'elle','elles','en','encore','essai','est','et','eu','fait','faites','fois','font','hors','ici','il',\n",
        "'ils','je',\t'juste','la','le','les','leur','là','ma','maintenant','mais','mes','mien','moins','mon',\n",
        "'mot','même','ni','nommés','notre','nous','ou','où','par','parce','pas','peut','peu','plupart','pour',\n",
        "'pourquoi','quand','que','quel','quelle','quelles','quels','qui','sa','sans','ses','seulement','si',\n",
        "'sien','son','sont','sous','soyez',\t'sujet','sur','ta','tandis','tellement','tels','tes','ton','tous',\n",
        "'tout','trop','très','tu','voient','vont','votre','vous','vu','ça','étaient','état','étions','été','être']\n",
        "\n",
        "STOPWORDS.update(moreStopwords)\n",
        "def cleaner(text):\n",
        "    text = text.lower()\n",
        "    text = re.sub('\\[.*?\\]', '', text)\n",
        "    text = re.sub(\"\\\\W\",\" \",text) \n",
        "    text = re.sub('https?://\\S+|www\\.\\S+', '', text)\n",
        "    text = re.sub('<.*?>+', '', text)\n",
        "    text = re.sub('[%s]' % re.escape(string.punctuation), '', text)\n",
        "    text = re.sub('\\n', '', text)\n",
        "    text = re.sub('\\w*\\d\\w*', '', text)\n",
        "\n",
        "    text = ' '.join(word for word in text.split() if word not in STOPWORDS)   \n",
        "    return text\n",
        "\n",
        "df_test['data'] = df_test['data'].apply(cleaner)"
      ],
      "metadata": {
        "id": "yHWV70bYAOHy"
      },
      "execution_count": 19,
      "outputs": []
    },
    {
      "cell_type": "code",
      "source": [
        "x_test = df_test[\"data\"]\n",
        "y_test = df_test[\"label\"]"
      ],
      "metadata": {
        "id": "FWdACT1M_PST"
      },
      "execution_count": 20,
      "outputs": []
    },
    {
      "cell_type": "markdown",
      "source": [
        "Vectorisation + padding"
      ],
      "metadata": {
        "id": "POQDev9Yr4rG"
      }
    },
    {
      "cell_type": "code",
      "source": [
        "max_features = 10000\n",
        "maxlen = 512\n",
        "tokenized_test = tokenizer.texts_to_sequences(x_test)\n",
        "X_test = sequence.pad_sequences(tokenized_test, maxlen=maxlen)"
      ],
      "metadata": {
        "id": "LpwOpLJW_YAP"
      },
      "execution_count": 21,
      "outputs": []
    },
    {
      "cell_type": "markdown",
      "source": [
        "Evaluation"
      ],
      "metadata": {
        "id": "_1Me1Xg8r6TT"
      }
    },
    {
      "cell_type": "code",
      "source": [
        "print(\"Accuracy of the model on Testing Data is - \" , model.evaluate(X_test,y_test)[1]*100 , \"%\")"
      ],
      "metadata": {
        "colab": {
          "base_uri": "https://localhost:8080/"
        },
        "id": "MNxmRtzd_sGd",
        "outputId": "e3d9c789-c3ce-4b35-87c1-d6a327474534"
      },
      "execution_count": 22,
      "outputs": [
        {
          "output_type": "stream",
          "name": "stdout",
          "text": [
            "16/16 [==============================] - 4s 198ms/step - loss: 0.0583 - accuracy: 0.9856\n",
            "Accuracy of the model on Testing Data is -  98.55967164039612 %\n"
          ]
        }
      ]
    },
    {
      "cell_type": "code",
      "source": [
        "pred = model.predict(X_test)"
      ],
      "metadata": {
        "colab": {
          "base_uri": "https://localhost:8080/"
        },
        "id": "ZxchXApQBn3R",
        "outputId": "2c1696e9-2497-4997-caf4-838683a2b8cc"
      },
      "execution_count": 23,
      "outputs": [
        {
          "output_type": "stream",
          "name": "stdout",
          "text": [
            "16/16 [==============================] - 4s 194ms/step\n"
          ]
        }
      ]
    },
    {
      "cell_type": "code",
      "source": [
        "pred = np.round(pred)"
      ],
      "metadata": {
        "id": "62XuplszeCNa"
      },
      "execution_count": 24,
      "outputs": []
    },
    {
      "cell_type": "markdown",
      "source": [
        "Toutes les lignes mal prédites"
      ],
      "metadata": {
        "id": "rX8iSpcZr8Ux"
      }
    },
    {
      "cell_type": "code",
      "source": [
        "wrong = []\n",
        "for i in range(len(pred)):\n",
        "  if pred[i]!=y_test[i]:\n",
        "    wrong.append(i)\n",
        "wrong"
      ],
      "metadata": {
        "id": "yUHxSj3MdzPp",
        "outputId": "dc304fa2-1919-48f7-fd55-0113ac6ba3c0",
        "colab": {
          "base_uri": "https://localhost:8080/"
        }
      },
      "execution_count": 25,
      "outputs": [
        {
          "output_type": "execute_result",
          "data": {
            "text/plain": [
              "[12, 22, 31, 127, 128, 156, 220]"
            ]
          },
          "metadata": {},
          "execution_count": 25
        }
      ]
    },
    {
      "cell_type": "markdown",
      "source": [
        "Création de la matrice de confusion"
      ],
      "metadata": {
        "id": "4LwA9M-9sFRE"
      }
    },
    {
      "cell_type": "code",
      "source": [
        "import numpy as np\n",
        "from sklearn.metrics import classification_report, confusion_matrix"
      ],
      "metadata": {
        "id": "-fIOWThMBy-X"
      },
      "execution_count": 26,
      "outputs": []
    },
    {
      "cell_type": "code",
      "source": [
        "print(classification_report(list(y_test), np.round(pred).astype(int), target_names = ['Not Fake','Fake']))"
      ],
      "metadata": {
        "colab": {
          "base_uri": "https://localhost:8080/"
        },
        "id": "RAILxHmxBrVP",
        "outputId": "c9f2fce6-bf6e-4c32-8620-5e1676af5385"
      },
      "execution_count": 27,
      "outputs": [
        {
          "output_type": "stream",
          "name": "stdout",
          "text": [
            "              precision    recall  f1-score   support\n",
            "\n",
            "    Not Fake       1.00      0.97      0.99       272\n",
            "        Fake       0.97      1.00      0.98       214\n",
            "\n",
            "    accuracy                           0.99       486\n",
            "   macro avg       0.98      0.99      0.99       486\n",
            "weighted avg       0.99      0.99      0.99       486\n",
            "\n"
          ]
        }
      ]
    },
    {
      "cell_type": "code",
      "source": [
        "from sklearn.metrics import confusion_matrix\n",
        "\n",
        "cm = confusion_matrix(y_test,np.round(pred).astype(int))\n",
        "cm\n",
        "cm = pd.DataFrame(cm , index = ['Fake','Original'] , columns = ['Fake','Original'])"
      ],
      "metadata": {
        "id": "T-9KV6uVKLUo"
      },
      "execution_count": 28,
      "outputs": []
    },
    {
      "cell_type": "code",
      "source": [
        "import seaborn as sns\n",
        "import matplotlib.pyplot as plt\n",
        "\n",
        "plt.figure(figsize = (10,10))\n",
        "sns.heatmap(cm,cmap= \"Reds\", linecolor = 'black' , linewidth = 1 , annot = True, fmt='' , xticklabels = ['Fake','Original'] , yticklabels = ['Fake','Original'])\n",
        "plt.xlabel(\"Predicted\")\n",
        "plt.ylabel(\"Actual\")"
      ],
      "metadata": {
        "id": "GvWljtnxJ_P9",
        "outputId": "6eba8ddd-71a0-42c0-9deb-a40b6bceda16",
        "colab": {
          "base_uri": "https://localhost:8080/",
          "height": 623
        }
      },
      "execution_count": 29,
      "outputs": [
        {
          "output_type": "execute_result",
          "data": {
            "text/plain": [
              "Text(69.0, 0.5, 'Actual')"
            ]
          },
          "metadata": {},
          "execution_count": 29
        },
        {
          "output_type": "display_data",
          "data": {
            "text/plain": [
              "<Figure size 720x720 with 2 Axes>"
            ],
            "image/png": "[encoded data removed]"
          },
          "metadata": {
            "needs_background": "light"
          }
        }
      ]
    }
  ]
}