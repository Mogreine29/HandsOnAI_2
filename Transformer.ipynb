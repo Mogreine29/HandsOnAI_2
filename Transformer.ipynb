{
  "nbformat": 4,
  "nbformat_minor": 0,
  "metadata": {
    "colab": {
      "provenance": [],
      "include_colab_link": true
    },
    "kernelspec": {
      "name": "python3",
      "display_name": "Python 3"
    },
    "language_info": {
      "name": "python"
    }
  },
  "cells": [
    {
      "cell_type": "markdown",
      "metadata": {
        "id": "view-in-github",
        "colab_type": "text"
      },
      "source": [
        "<a href=\"https://colab.research.google.com/github/Mogreine29/HandsOnAI_2/blob/main/Transformer.ipynb\" target=\"_parent\"><img src=\"https://colab.research.google.com/assets/colab-badge.svg\" alt=\"Open In Colab\"/></a>"
      ]
    },
    {
      "cell_type": "markdown",
      "source": [
        "**SOLUTION 2**"
      ],
      "metadata": {
        "id": "YSDf2ebpsxyD"
      }
    },
    {
      "cell_type": "markdown",
      "source": [
        "Installation de transformers et tout ce qu'on a besoin"
      ],
      "metadata": {
        "id": "prnt5oBAs2gM"
      }
    },
    {
      "cell_type": "code",
      "source": [
        "!pip install transformers\n",
        "!pip install datasets\n",
        "!pip install sentencepiece"
      ],
      "metadata": {
        "colab": {
          "base_uri": "https://localhost:8080/"
        },
        "id": "UXkNPl3x9Qin",
        "outputId": "005b4db0-2496-4919-eaeb-46b66477c94f"
      },
      "execution_count": null,
      "outputs": [
        {
          "output_type": "stream",
          "name": "stdout",
          "text": [
            "Looking in indexes: https://pypi.org/simple, https://us-python.pkg.dev/colab-wheels/public/simple/\n",
            "Requirement already satisfied: transformers in /usr/local/lib/python3.8/dist-packages (4.25.1)\n",
            "Requirement already satisfied: requests in /usr/local/lib/python3.8/dist-packages (from transformers) (2.23.0)\n",
            "Requirement already satisfied: tokenizers!=0.11.3,<0.14,>=0.11.1 in /usr/local/lib/python3.8/dist-packages (from transformers) (0.13.2)\n",
            "Requirement already satisfied: huggingface-hub<1.0,>=0.10.0 in /usr/local/lib/python3.8/dist-packages (from transformers) (0.11.1)\n",
            "Requirement already satisfied: pyyaml>=5.1 in /usr/local/lib/python3.8/dist-packages (from transformers) (6.0)\n",
            "Requirement already satisfied: packaging>=20.0 in /usr/local/lib/python3.8/dist-packages (from transformers) (21.3)\n",
            "Requirement already satisfied: filelock in /usr/local/lib/python3.8/dist-packages (from transformers) (3.8.2)\n",
            "Requirement already satisfied: tqdm>=4.27 in /usr/local/lib/python3.8/dist-packages (from transformers) (4.64.1)\n",
            "Requirement already satisfied: regex!=2019.12.17 in /usr/local/lib/python3.8/dist-packages (from transformers) (2022.6.2)\n",
            "Requirement already satisfied: numpy>=1.17 in /usr/local/lib/python3.8/dist-packages (from transformers) (1.21.6)\n",
            "Requirement already satisfied: typing-extensions>=3.7.4.3 in /usr/local/lib/python3.8/dist-packages (from huggingface-hub<1.0,>=0.10.0->transformers) (4.4.0)\n",
            "Requirement already satisfied: pyparsing!=3.0.5,>=2.0.2 in /usr/local/lib/python3.8/dist-packages (from packaging>=20.0->transformers) (3.0.9)\n",
            "Requirement already satisfied: urllib3!=1.25.0,!=1.25.1,<1.26,>=1.21.1 in /usr/local/lib/python3.8/dist-packages (from requests->transformers) (1.25.11)\n",
            "Requirement already satisfied: chardet<4,>=3.0.2 in /usr/local/lib/python3.8/dist-packages (from requests->transformers) (3.0.4)\n",
            "Requirement already satisfied: idna<3,>=2.5 in /usr/local/lib/python3.8/dist-packages (from requests->transformers) (2.10)\n",
            "Requirement already satisfied: certifi>=2017.4.17 in /usr/local/lib/python3.8/dist-packages (from requests->transformers) (2022.12.7)\n",
            "Looking in indexes: https://pypi.org/simple, https://us-python.pkg.dev/colab-wheels/public/simple/\n",
            "Requirement already satisfied: datasets in /usr/local/lib/python3.8/dist-packages (2.8.0)\n",
            "Requirement already satisfied: pyyaml>=5.1 in /usr/local/lib/python3.8/dist-packages (from datasets) (6.0)\n",
            "Requirement already satisfied: pyarrow>=6.0.0 in /usr/local/lib/python3.8/dist-packages (from datasets) (9.0.0)\n",
            "Requirement already satisfied: packaging in /usr/local/lib/python3.8/dist-packages (from datasets) (21.3)\n",
            "Requirement already satisfied: responses<0.19 in /usr/local/lib/python3.8/dist-packages (from datasets) (0.18.0)\n",
            "Requirement already satisfied: aiohttp in /usr/local/lib/python3.8/dist-packages (from datasets) (3.8.3)\n",
            "Requirement already satisfied: requests>=2.19.0 in /usr/local/lib/python3.8/dist-packages (from datasets) (2.23.0)\n",
            "Requirement already satisfied: dill<0.3.7 in /usr/local/lib/python3.8/dist-packages (from datasets) (0.3.6)\n",
            "Requirement already satisfied: pandas in /usr/local/lib/python3.8/dist-packages (from datasets) (1.3.5)\n",
            "Requirement already satisfied: xxhash in /usr/local/lib/python3.8/dist-packages (from datasets) (3.2.0)\n",
            "Requirement already satisfied: tqdm>=4.62.1 in /usr/local/lib/python3.8/dist-packages (from datasets) (4.64.1)\n",
            "Requirement already satisfied: multiprocess in /usr/local/lib/python3.8/dist-packages (from datasets) (0.70.14)\n",
            "Requirement already satisfied: huggingface-hub<1.0.0,>=0.2.0 in /usr/local/lib/python3.8/dist-packages (from datasets) (0.11.1)\n",
            "Requirement already satisfied: fsspec[http]>=2021.11.1 in /usr/local/lib/python3.8/dist-packages (from datasets) (2022.11.0)\n",
            "Requirement already satisfied: numpy>=1.17 in /usr/local/lib/python3.8/dist-packages (from datasets) (1.21.6)\n",
            "Requirement already satisfied: async-timeout<5.0,>=4.0.0a3 in /usr/local/lib/python3.8/dist-packages (from aiohttp->datasets) (4.0.2)\n",
            "Requirement already satisfied: aiosignal>=1.1.2 in /usr/local/lib/python3.8/dist-packages (from aiohttp->datasets) (1.3.1)\n",
            "Requirement already satisfied: frozenlist>=1.1.1 in /usr/local/lib/python3.8/dist-packages (from aiohttp->datasets) (1.3.3)\n",
            "Requirement already satisfied: multidict<7.0,>=4.5 in /usr/local/lib/python3.8/dist-packages (from aiohttp->datasets) (6.0.3)\n",
            "Requirement already satisfied: yarl<2.0,>=1.0 in /usr/local/lib/python3.8/dist-packages (from aiohttp->datasets) (1.8.2)\n",
            "Requirement already satisfied: attrs>=17.3.0 in /usr/local/lib/python3.8/dist-packages (from aiohttp->datasets) (22.1.0)\n",
            "Requirement already satisfied: charset-normalizer<3.0,>=2.0 in /usr/local/lib/python3.8/dist-packages (from aiohttp->datasets) (2.1.1)\n",
            "Requirement already satisfied: typing-extensions>=3.7.4.3 in /usr/local/lib/python3.8/dist-packages (from huggingface-hub<1.0.0,>=0.2.0->datasets) (4.4.0)\n",
            "Requirement already satisfied: filelock in /usr/local/lib/python3.8/dist-packages (from huggingface-hub<1.0.0,>=0.2.0->datasets) (3.8.2)\n",
            "Requirement already satisfied: pyparsing!=3.0.5,>=2.0.2 in /usr/local/lib/python3.8/dist-packages (from packaging->datasets) (3.0.9)\n",
            "Requirement already satisfied: certifi>=2017.4.17 in /usr/local/lib/python3.8/dist-packages (from requests>=2.19.0->datasets) (2022.12.7)\n",
            "Requirement already satisfied: urllib3!=1.25.0,!=1.25.1,<1.26,>=1.21.1 in /usr/local/lib/python3.8/dist-packages (from requests>=2.19.0->datasets) (1.25.11)\n",
            "Requirement already satisfied: chardet<4,>=3.0.2 in /usr/local/lib/python3.8/dist-packages (from requests>=2.19.0->datasets) (3.0.4)\n",
            "Requirement already satisfied: idna<3,>=2.5 in /usr/local/lib/python3.8/dist-packages (from requests>=2.19.0->datasets) (2.10)\n",
            "Requirement already satisfied: pytz>=2017.3 in /usr/local/lib/python3.8/dist-packages (from pandas->datasets) (2022.6)\n",
            "Requirement already satisfied: python-dateutil>=2.7.3 in /usr/local/lib/python3.8/dist-packages (from pandas->datasets) (2.8.2)\n",
            "Requirement already satisfied: six>=1.5 in /usr/local/lib/python3.8/dist-packages (from python-dateutil>=2.7.3->pandas->datasets) (1.15.0)\n",
            "Looking in indexes: https://pypi.org/simple, https://us-python.pkg.dev/colab-wheels/public/simple/\n",
            "Requirement already satisfied: sentencepiece in /usr/local/lib/python3.8/dist-packages (0.1.97)\n"
          ]
        }
      ]
    },
    {
      "cell_type": "markdown",
      "source": [
        "Librairies"
      ],
      "metadata": {
        "id": "0l--JJZIs7gG"
      }
    },
    {
      "cell_type": "code",
      "execution_count": null,
      "metadata": {
        "colab": {
          "base_uri": "https://localhost:8080/"
        },
        "id": "Hx1JPtr7lPoC",
        "outputId": "38cd0b88-a214-4c39-c194-a499c49a73c6"
      },
      "outputs": [
        {
          "output_type": "stream",
          "name": "stderr",
          "text": [
            "[nltk_data] Downloading package stopwords to /root/nltk_data...\n",
            "[nltk_data]   Package stopwords is already up-to-date!\n"
          ]
        }
      ],
      "source": [
        "import tensorflow as tf\n",
        "from tensorflow import keras\n",
        "from tensorflow.keras import layers\n",
        "from transformers import AutoTokenizer\n",
        "from keras.callbacks import ReduceLROnPlateau\n",
        "import numpy as np\n",
        "import pandas as pd\n",
        "import seaborn as sns\n",
        "import matplotlib.pyplot as plt\n",
        "from sklearn.model_selection import train_test_split\n",
        "from sklearn.metrics import classification_report, confusion_matrix\n",
        "import re\n",
        "import string\n",
        "import nltk\n",
        "nltk.download(\"stopwords\")\n",
        "from nltk.corpus import stopwords\n",
        "from wordcloud import WordCloud"
      ]
    },
    {
      "cell_type": "markdown",
      "source": [
        "Mount du drive"
      ],
      "metadata": {
        "id": "65evWZf6s8kt"
      }
    },
    {
      "cell_type": "code",
      "source": [
        "from google.colab import drive\n",
        "drive.mount('/content/drive')\n",
        "%cd drive/My\\ Drive/Challenge2"
      ],
      "metadata": {
        "colab": {
          "base_uri": "https://localhost:8080/"
        },
        "id": "QVePfxMFmGqf",
        "outputId": "6c3c512a-1174-4167-b307-4f2b7d478050"
      },
      "execution_count": null,
      "outputs": [
        {
          "output_type": "stream",
          "name": "stdout",
          "text": [
            "Drive already mounted at /content/drive; to attempt to forcibly remount, call drive.mount(\"/content/drive\", force_remount=True).\n",
            "[Errno 2] No such file or directory: 'drive/My Drive/Challenge2'\n",
            "/content/drive/.shortcut-targets-by-id/1aIAK0Qi-pofkSLi3xijkAex-JrSW_tn8/Challenge2\n"
          ]
        }
      ]
    },
    {
      "cell_type": "markdown",
      "source": [
        "Lecture de données"
      ],
      "metadata": {
        "id": "QslZov-Us-Mz"
      }
    },
    {
      "cell_type": "code",
      "source": [
        "df_train = pd.read_csv('/content/drive/MyDrive/Challenge2/fake_train.csv')\n",
        "df_test = pd.read_csv('/content/drive/MyDrive/Challenge2/fake_test.csv')"
      ],
      "metadata": {
        "id": "yKqiOExzmgU0"
      },
      "execution_count": null,
      "outputs": []
    },
    {
      "cell_type": "markdown",
      "source": [
        "Supprimer les colonnes inutiles"
      ],
      "metadata": {
        "id": "NlotgmbmtAWp"
      }
    },
    {
      "cell_type": "code",
      "source": [
        "df_train = df_train.drop(['Unnamed: 0', 'target_name'], axis = 1)\n",
        "df_test = df_test.drop(['Unnamed: 0', 'target_name'], axis = 1)"
      ],
      "metadata": {
        "id": "YQJroRCsmqYm"
      },
      "execution_count": null,
      "outputs": []
    },
    {
      "cell_type": "markdown",
      "source": [
        "Delete les lignes parasites\n",
        "-\t1136 : suite du mot ISLAM.\n",
        "-\t1180 : data en arabe\n",
        "-\t1317 : pas de data.\n",
        "-\t1362 : suite du mot ROUEN.\n",
        "-\t1429 : suite de 1 et 0. "
      ],
      "metadata": {
        "id": "Uvj_530PtDFQ"
      }
    },
    {
      "cell_type": "code",
      "source": [
        "df_train.drop([1136, 1180, 1317, 1362, 1429], inplace = True )"
      ],
      "metadata": {
        "id": "MLzyy--7mr9d"
      },
      "execution_count": null,
      "outputs": []
    },
    {
      "cell_type": "markdown",
      "source": [
        "Ajout de données additionnelles"
      ],
      "metadata": {
        "id": "NsWeP3zktKKw"
      }
    },
    {
      "cell_type": "code",
      "source": [
        "df_real = pd.read_csv(\"real_news.csv\")\n",
        "df_fake = pd.read_csv(\"fake_news.csv\")\n",
        "df_real = df_real.drop(['site', 'url', 'title'], axis = 1)\n",
        "df_fake = df_fake.drop(['site', 'url', 'title'], axis = 1)\n",
        "df_real['label'] = 0\n",
        "df_fake['label'] = 1\n",
        "df_real.rename(columns = {'text':'data'}, inplace = True)\n",
        "df_fake.rename(columns = {'text':'data'}, inplace = True)\n",
        "df_train = df_train.append(df_real, ignore_index = True)\n",
        "df_train = df_train.append(df_fake, ignore_index = True)\n",
        "\n",
        "df_train['data'] = df_train['data'].astype(str)\n",
        "df_test['data'] = df_test['data'].astype(str)"
      ],
      "metadata": {
        "id": "IAd8TQQsmubU"
      },
      "execution_count": null,
      "outputs": []
    },
    {
      "cell_type": "markdown",
      "source": [
        "Nettoyage de données"
      ],
      "metadata": {
        "id": "TbzYchiNtHri"
      }
    },
    {
      "cell_type": "code",
      "source": [
        "STOPWORDS = set(stopwords.words('french'))\n",
        "moreStopwords = ['plus', 'comme', 'a', 'il', 'alors','au',\n",
        "'aucuns','aussi','autre','avant','avec','avoir','bon','car','ce','cela','ces','ceux','chaque','ci',\n",
        "'comme','comment','dans','des','du','dedans','dehors','depuis','devrait','doit','donc','dos','début',\n",
        "'elle','elles','en','encore','essai','est','et','eu','fait','faites','fois','font','hors','ici','il',\n",
        "'ils','je',\t'juste','la','le','les','leur','là','ma','maintenant','mais','mes','mien','moins','mon',\n",
        "'mot','même','ni','nommés','notre','nous','ou','où','par','parce','pas','peut','peu','plupart','pour',\n",
        "'pourquoi','quand','que','quel','quelle','quelles','quels','qui','sa','sans','ses','seulement','si',\n",
        "'sien','son','sont','sous','soyez',\t'sujet','sur','ta','tandis','tellement','tels','tes','ton','tous',\n",
        "'tout','trop','très','tu','voient','vont','votre','vous','vu','ça','étaient','état','étions','été','être',\n",
        "'cette','celle','dont','celui', 'adsbygoogle','window','secretnews','leurs','ainsi','toute','déjà','autres',\n",
        "'suivre','facebook','twitter','parodique', 'média','collaboratif', 'libre','notamment']\n",
        "\n",
        "STOPWORDS.update(moreStopwords)\n",
        "def cleaner(text):\n",
        "    text = text.lower()\n",
        "    text = re.sub('\\[.*?\\]', '', text)\n",
        "    text = re.sub(\"\\\\W\",\" \",text) \n",
        "    text = re.sub('https?://\\S+|www\\.\\S+', '', text)\n",
        "    text = re.sub('<.*?>+', '', text)\n",
        "    text = re.sub('[%s]' % re.escape(string.punctuation), '', text)\n",
        "    text = re.sub('\\n', '', text)\n",
        "    text = re.sub('\\w*\\d\\w*', '', text)\n",
        "\n",
        "    text = ' '.join(word for word in text.split() if word not in STOPWORDS)   \n",
        "    return text"
      ],
      "metadata": {
        "id": "31mK39vamwCt"
      },
      "execution_count": null,
      "outputs": []
    },
    {
      "cell_type": "code",
      "source": [
        "df_train['data'] = df_train['data'].apply(cleaner)\n",
        "df_test['data'] = df_test['data'].apply(cleaner)"
      ],
      "metadata": {
        "id": "zE1nXiMTm2Iy"
      },
      "execution_count": null,
      "outputs": []
    },
    {
      "cell_type": "markdown",
      "source": [
        "Shuffle le dataset"
      ],
      "metadata": {
        "id": "3Sikr6EatNUD"
      }
    },
    {
      "cell_type": "code",
      "source": [
        "df_train = df_train.append(df_test, ignore_index=True)\n",
        "shuffled = df_train.sample(frac=1).reset_index()\n",
        "shuffled = shuffled.drop(['index'], axis = 1)"
      ],
      "metadata": {
        "id": "GXHR-zp_nBHo"
      },
      "execution_count": null,
      "outputs": []
    },
    {
      "cell_type": "markdown",
      "source": [
        "Définition du bloque transformer"
      ],
      "metadata": {
        "id": "5bxLZDpotOyo"
      }
    },
    {
      "cell_type": "code",
      "source": [
        "class TransformerBlock(layers.Layer):\n",
        "    def __init__(self, embed_dim, num_heads, ff_dim, rate=0.1):\n",
        "        super(TransformerBlock, self).__init__()\n",
        "        self.att = layers.MultiHeadAttention(num_heads=num_heads, key_dim=embed_dim)\n",
        "        self.ffn = keras.Sequential(\n",
        "            [layers.Dense(ff_dim, activation=\"relu\"), layers.Dense(embed_dim),]\n",
        "        )\n",
        "        self.layernorm1 = layers.LayerNormalization(epsilon=1e-6)\n",
        "        self.layernorm2 = layers.LayerNormalization(epsilon=1e-6)\n",
        "        self.dropout1 = layers.Dropout(rate)\n",
        "        self.dropout2 = layers.Dropout(rate)\n",
        "\n",
        "    def call(self, inputs, training):\n",
        "        attn_output = self.att(inputs, inputs)\n",
        "        attn_output = self.dropout1(attn_output, training=training)\n",
        "        out1 = self.layernorm1(inputs + attn_output)\n",
        "        ffn_output = self.ffn(out1)\n",
        "        ffn_output = self.dropout2(ffn_output, training=training)\n",
        "        return self.layernorm2(out1 + ffn_output)"
      ],
      "metadata": {
        "id": "Doj6blR3tujV"
      },
      "execution_count": null,
      "outputs": []
    },
    {
      "cell_type": "markdown",
      "source": [
        "Définition de la couche d'embedding"
      ],
      "metadata": {
        "id": "yGmnQF1wtQ2j"
      }
    },
    {
      "cell_type": "code",
      "source": [
        "class TokenAndPositionEmbedding(layers.Layer):\n",
        "    def __init__(self, maxlen, vocab_size, embed_dim):\n",
        "        super(TokenAndPositionEmbedding, self).__init__()\n",
        "        self.token_emb = layers.Embedding(input_dim=vocab_size, output_dim=embed_dim)\n",
        "        self.pos_emb = layers.Embedding(input_dim=maxlen, output_dim=embed_dim)\n",
        "\n",
        "    def call(self, x):\n",
        "        maxlen = tf.shape(x)[-1]\n",
        "        positions = tf.range(start=0, limit=maxlen, delta=1)\n",
        "        positions = self.pos_emb(positions)\n",
        "        x = self.token_emb(x)\n",
        "        return x + positions"
      ],
      "metadata": {
        "id": "YPkNBzcg6uUv"
      },
      "execution_count": null,
      "outputs": []
    },
    {
      "cell_type": "markdown",
      "source": [
        "Choix de tokenizer"
      ],
      "metadata": {
        "id": "hbiQ5u-RtUjz"
      }
    },
    {
      "cell_type": "code",
      "source": [
        "tokenizer = AutoTokenizer.from_pretrained(\"Jean-Baptiste/camembert-ner\")\n",
        "def preprocess_function(text):\n",
        "    return tokenizer(text, truncation=True, padding=True)"
      ],
      "metadata": {
        "id": "nQGxgSEm9IPY"
      },
      "execution_count": null,
      "outputs": []
    },
    {
      "cell_type": "markdown",
      "source": [
        "Traitement de data pour mettre sous la bonne forme pour l'entrainement"
      ],
      "metadata": {
        "id": "TnNQtilVtX_L"
      }
    },
    {
      "cell_type": "code",
      "source": [
        "label = shuffled.pop('label')\n",
        "text = shuffled.pop('data')"
      ],
      "metadata": {
        "id": "Tb4veGBC-QbH"
      },
      "execution_count": null,
      "outputs": []
    },
    {
      "cell_type": "code",
      "source": [
        "label_arr = label.to_numpy()\n",
        "text_arr = text.to_numpy()"
      ],
      "metadata": {
        "id": "yagRzjSSAqQ7"
      },
      "execution_count": null,
      "outputs": []
    },
    {
      "cell_type": "code",
      "source": [
        "for i in range(len(text_arr)):\n",
        "  text_arr[i] = preprocess_function(text_arr[i]).input_ids"
      ],
      "metadata": {
        "id": "o5DAj5ZsQnPo"
      },
      "execution_count": null,
      "outputs": []
    },
    {
      "cell_type": "markdown",
      "source": [
        "Split en train, test, val"
      ],
      "metadata": {
        "id": "bdoLSfIqykKZ"
      }
    },
    {
      "cell_type": "code",
      "source": [
        "def split_list(a_list, p):\n",
        "    split = int(len(a_list)//(1/(1-p)))\n",
        "    return a_list[:split], a_list[split:]\n",
        "x_train, x_test = split_list(text_arr, 0.25)\n",
        "y_train, y_test = split_list(label_arr, 0.25)\n",
        "x_train, x_val = split_list(x_train, 0.30)\n",
        "y_train, y_val = split_list(y_train, 0.30)"
      ],
      "metadata": {
        "id": "_S8JrvS6EOO1"
      },
      "execution_count": null,
      "outputs": []
    },
    {
      "cell_type": "markdown",
      "source": [
        "Padding"
      ],
      "metadata": {
        "id": "3zK43souyjNs"
      }
    },
    {
      "cell_type": "code",
      "source": [
        "maxlen = 200  # Only consider the first 200 words of each movie review\n",
        "print(len(x_train), \"Training sequences\")\n",
        "print(len(x_val), \"Validation sequences\")\n",
        "x_train = keras.preprocessing.sequence.pad_sequences(x_train, maxlen=maxlen)\n",
        "x_val = keras.preprocessing.sequence.pad_sequences(x_val, maxlen=maxlen)\n",
        "x_test = keras.preprocessing.sequence.pad_sequences(x_test, maxlen=maxlen)"
      ],
      "metadata": {
        "colab": {
          "base_uri": "https://localhost:8080/"
        },
        "id": "1BzfKOxS6zxA",
        "outputId": "7daabbf2-e6e8-4420-fa63-07c306c031ac"
      },
      "execution_count": null,
      "outputs": [
        {
          "output_type": "stream",
          "name": "stdout",
          "text": [
            "11066 Training sequences\n",
            "4743 Validation sequences\n"
          ]
        }
      ]
    },
    {
      "cell_type": "markdown",
      "source": [
        "Définition du modèle et choix de paramètres"
      ],
      "metadata": {
        "id": "6uoIuNo8td4Q"
      }
    },
    {
      "cell_type": "code",
      "source": [
        "embed_dim = 32  # Embedding size for each token\n",
        "num_heads = 2  # Number of attention heads\n",
        "ff_dim = 32  # Hidden layer size in feed forward network inside transformer\n",
        "vocab_size = 210000\n",
        "learning_rate_reduction = ReduceLROnPlateau(monitor='val_accuracy', patience = 2, verbose=1,factor=0.5, min_lr=0.00001)\n",
        "\n",
        "inputs = layers.Input(shape=(maxlen,))\n",
        "embedding_layer = TokenAndPositionEmbedding(maxlen, vocab_size, embed_dim)\n",
        "x = embedding_layer(inputs)\n",
        "transformer_block = TransformerBlock(embed_dim, num_heads, ff_dim)\n",
        "x = transformer_block(x)\n",
        "x = layers.GlobalAveragePooling1D()(x)\n",
        "x = layers.Dropout(0.6)(x)\n",
        "x = layers.Dense(20, activation=\"relu\")(x)\n",
        "x = layers.Dropout(0.3)(x)\n",
        "outputs = layers.Dense(2, activation=\"softmax\")(x)\n",
        "\n",
        "model = keras.Model(inputs=inputs, outputs=outputs)"
      ],
      "metadata": {
        "id": "vg-zM3dB66Bx"
      },
      "execution_count": null,
      "outputs": []
    },
    {
      "cell_type": "code",
      "source": [
        "model.summary()"
      ],
      "metadata": {
        "id": "2g1pJSBmrk1n",
        "outputId": "fb8147c0-0ade-4717-86e4-4c7023beda8a",
        "colab": {
          "base_uri": "https://localhost:8080/"
        }
      },
      "execution_count": null,
      "outputs": [
        {
          "output_type": "stream",
          "name": "stdout",
          "text": [
            "Model: \"model_1\"\n",
            "_________________________________________________________________\n",
            " Layer (type)                Output Shape              Param #   \n",
            "=================================================================\n",
            " input_2 (InputLayer)        [(None, 200)]             0         \n",
            "                                                                 \n",
            " token_and_position_embeddin  (None, 200, 32)          6726400   \n",
            " g_1 (TokenAndPositionEmbedd                                     \n",
            " ing)                                                            \n",
            "                                                                 \n",
            " transformer_block_1 (Transf  (None, 200, 32)          10656     \n",
            " ormerBlock)                                                     \n",
            "                                                                 \n",
            " global_average_pooling1d_1   (None, 32)               0         \n",
            " (GlobalAveragePooling1D)                                        \n",
            "                                                                 \n",
            " dropout_6 (Dropout)         (None, 32)                0         \n",
            "                                                                 \n",
            " dense_6 (Dense)             (None, 20)                660       \n",
            "                                                                 \n",
            " dropout_7 (Dropout)         (None, 20)                0         \n",
            "                                                                 \n",
            " dense_7 (Dense)             (None, 2)                 42        \n",
            "                                                                 \n",
            "=================================================================\n",
            "Total params: 6,737,758\n",
            "Trainable params: 6,737,758\n",
            "Non-trainable params: 0\n",
            "_________________________________________________________________\n"
          ]
        }
      ]
    },
    {
      "cell_type": "markdown",
      "source": [
        "le model.fit()"
      ],
      "metadata": {
        "id": "7_95eREgth4o"
      }
    },
    {
      "cell_type": "code",
      "source": [
        "model.compile(optimizer=\"adam\", loss=\"sparse_categorical_crossentropy\", metrics=[\"accuracy\"])\n",
        "history = model.fit(\n",
        "    x_train, y_train, batch_size=32, epochs=20, validation_data=(x_val, y_val),callbacks = [learning_rate_reduction]\n",
        ")"
      ],
      "metadata": {
        "colab": {
          "base_uri": "https://localhost:8080/"
        },
        "id": "QRwn6SOW7DMX",
        "outputId": "69c568be-3f95-4e9a-8913-f62c2c397313"
      },
      "execution_count": null,
      "outputs": [
        {
          "output_type": "stream",
          "name": "stdout",
          "text": [
            "Epoch 1/20\n",
            "346/346 [==============================] - 48s 135ms/step - loss: 0.4337 - accuracy: 0.7856 - val_loss: 0.2132 - val_accuracy: 0.9013 - lr: 0.0010\n",
            "Epoch 2/20\n",
            "346/346 [==============================] - 45s 131ms/step - loss: 0.1234 - accuracy: 0.9620 - val_loss: 0.1989 - val_accuracy: 0.9361 - lr: 0.0010\n",
            "Epoch 3/20\n",
            "346/346 [==============================] - 47s 137ms/step - loss: 0.0446 - accuracy: 0.9878 - val_loss: 0.2891 - val_accuracy: 0.9315 - lr: 0.0010\n",
            "Epoch 4/20\n",
            "346/346 [==============================] - ETA: 0s - loss: 0.0235 - accuracy: 0.9939\n",
            "Epoch 4: ReduceLROnPlateau reducing learning rate to 0.0005000000237487257.\n",
            "346/346 [==============================] - 45s 130ms/step - loss: 0.0235 - accuracy: 0.9939 - val_loss: 0.3086 - val_accuracy: 0.9353 - lr: 0.0010\n",
            "Epoch 5/20\n",
            "346/346 [==============================] - 45s 130ms/step - loss: 0.0077 - accuracy: 0.9988 - val_loss: 0.3811 - val_accuracy: 0.9338 - lr: 5.0000e-04\n",
            "Epoch 6/20\n",
            "346/346 [==============================] - ETA: 0s - loss: 0.0056 - accuracy: 0.9996\n",
            "Epoch 6: ReduceLROnPlateau reducing learning rate to 0.0002500000118743628.\n",
            "346/346 [==============================] - 45s 130ms/step - loss: 0.0056 - accuracy: 0.9996 - val_loss: 0.3958 - val_accuracy: 0.9359 - lr: 5.0000e-04\n",
            "Epoch 7/20\n",
            "346/346 [==============================] - 47s 137ms/step - loss: 0.0030 - accuracy: 0.9998 - val_loss: 0.4084 - val_accuracy: 0.9355 - lr: 2.5000e-04\n",
            "Epoch 8/20\n",
            "346/346 [==============================] - ETA: 0s - loss: 0.0040 - accuracy: 0.9998\n",
            "Epoch 8: ReduceLROnPlateau reducing learning rate to 0.0001250000059371814.\n",
            "346/346 [==============================] - 45s 130ms/step - loss: 0.0040 - accuracy: 0.9998 - val_loss: 0.4284 - val_accuracy: 0.9346 - lr: 2.5000e-04\n",
            "Epoch 9/20\n",
            "346/346 [==============================] - 45s 130ms/step - loss: 0.0029 - accuracy: 0.9997 - val_loss: 0.4286 - val_accuracy: 0.9357 - lr: 1.2500e-04\n",
            "Epoch 10/20\n",
            "346/346 [==============================] - ETA: 0s - loss: 0.0031 - accuracy: 0.9998\n",
            "Epoch 10: ReduceLROnPlateau reducing learning rate to 6.25000029685907e-05.\n",
            "346/346 [==============================] - 45s 129ms/step - loss: 0.0031 - accuracy: 0.9998 - val_loss: 0.4390 - val_accuracy: 0.9359 - lr: 1.2500e-04\n",
            "Epoch 11/20\n",
            "346/346 [==============================] - 47s 135ms/step - loss: 0.0027 - accuracy: 0.9998 - val_loss: 0.4449 - val_accuracy: 0.9363 - lr: 6.2500e-05\n",
            "Epoch 12/20\n",
            "346/346 [==============================] - 44s 128ms/step - loss: 0.0031 - accuracy: 0.9998 - val_loss: 0.4467 - val_accuracy: 0.9361 - lr: 6.2500e-05\n",
            "Epoch 13/20\n",
            "346/346 [==============================] - ETA: 0s - loss: 0.0028 - accuracy: 0.9997\n",
            "Epoch 13: ReduceLROnPlateau reducing learning rate to 3.125000148429535e-05.\n",
            "346/346 [==============================] - 44s 127ms/step - loss: 0.0028 - accuracy: 0.9997 - val_loss: 0.4520 - val_accuracy: 0.9357 - lr: 6.2500e-05\n",
            "Epoch 14/20\n",
            "346/346 [==============================] - 44s 127ms/step - loss: 0.0031 - accuracy: 0.9998 - val_loss: 0.4519 - val_accuracy: 0.9361 - lr: 3.1250e-05\n",
            "Epoch 15/20\n",
            "346/346 [==============================] - ETA: 0s - loss: 0.0025 - accuracy: 0.9998\n",
            "Epoch 15: ReduceLROnPlateau reducing learning rate to 1.5625000742147677e-05.\n",
            "346/346 [==============================] - 47s 135ms/step - loss: 0.0025 - accuracy: 0.9998 - val_loss: 0.4562 - val_accuracy: 0.9361 - lr: 3.1250e-05\n",
            "Epoch 16/20\n",
            "346/346 [==============================] - 44s 128ms/step - loss: 0.0031 - accuracy: 0.9998 - val_loss: 0.4564 - val_accuracy: 0.9359 - lr: 1.5625e-05\n",
            "Epoch 17/20\n",
            "346/346 [==============================] - ETA: 0s - loss: 0.0022 - accuracy: 0.9998\n",
            "Epoch 17: ReduceLROnPlateau reducing learning rate to 1e-05.\n",
            "346/346 [==============================] - 44s 129ms/step - loss: 0.0022 - accuracy: 0.9998 - val_loss: 0.4591 - val_accuracy: 0.9359 - lr: 1.5625e-05\n",
            "Epoch 18/20\n",
            "346/346 [==============================] - 44s 128ms/step - loss: 0.0013 - accuracy: 0.9998 - val_loss: 0.4592 - val_accuracy: 0.9359 - lr: 1.0000e-05\n",
            "Epoch 19/20\n",
            "346/346 [==============================] - 45s 130ms/step - loss: 0.0030 - accuracy: 0.9998 - val_loss: 0.4604 - val_accuracy: 0.9361 - lr: 1.0000e-05\n",
            "Epoch 20/20\n",
            "346/346 [==============================] - 46s 133ms/step - loss: 0.0027 - accuracy: 0.9998 - val_loss: 0.4652 - val_accuracy: 0.9351 - lr: 1.0000e-05\n"
          ]
        }
      ]
    },
    {
      "cell_type": "markdown",
      "source": [
        "Save le model"
      ],
      "metadata": {
        "id": "ftnTiNyEtj3j"
      }
    },
    {
      "cell_type": "code",
      "source": [
        "savepath = '/content/drive/MyDrive/Challenge2/transformer1.h5'"
      ],
      "metadata": {
        "id": "-mxBf5NuMVho"
      },
      "execution_count": null,
      "outputs": []
    },
    {
      "cell_type": "code",
      "source": [
        "model.save(savepath)"
      ],
      "metadata": {
        "id": "cThDcdhtMizB"
      },
      "execution_count": null,
      "outputs": []
    },
    {
      "cell_type": "markdown",
      "source": [
        "Evaluation du model"
      ],
      "metadata": {
        "id": "Wa0tUcrytnnK"
      }
    },
    {
      "cell_type": "code",
      "source": [
        "print(\"Accuracy of the model on Training Data is - \" , model.evaluate(x_train,y_train)[1]*100 , \"%\")\n",
        "print(\"Accuracy of the model on Validating Data is - \" , model.evaluate(x_val,y_val)[1]*100 , \"%\")\n",
        "print(\"Accuracy of the model on Testing Data is - \" , model.evaluate(x_test,y_test)[1]*100 , \"%\")"
      ],
      "metadata": {
        "id": "3Kpm2O6XMone",
        "outputId": "8cd9f5da-a36f-4651-c02a-915bb5ba1b7a",
        "colab": {
          "base_uri": "https://localhost:8080/"
        }
      },
      "execution_count": null,
      "outputs": [
        {
          "output_type": "stream",
          "name": "stdout",
          "text": [
            "346/346 [==============================] - 12s 34ms/step - loss: 0.0020 - accuracy: 0.9998\n",
            "Accuracy of the model on Training Data is -  99.9819278717041 %\n",
            "149/149 [==============================] - 5s 33ms/step - loss: 0.4652 - accuracy: 0.9351\n",
            "Accuracy of the model on Validating Data is -  93.50621700286865 %\n",
            "165/165 [==============================] - 5s 33ms/step - loss: 0.4335 - accuracy: 0.9387\n",
            "Accuracy of the model on Testing Data is -  93.87096762657166 %\n"
          ]
        }
      ]
    },
    {
      "cell_type": "markdown",
      "source": [
        "Graphique de l'entrainement\n",
        "A chaque entrainement nous avons constaté des graphiques plus ou moins similaires. Ce type de graphique est typique lors d'un overfitting. Et c'est le cas. Nous avons une très bonne accuracy et loss sur training data et on plafonne sur le validation. Nous avons essayé plusieurs changements: \n",
        "\n",
        "-Ajouter un dropout et le faire varier\n",
        "\n",
        "-Augmenter la taille des données de validation\n",
        "\n",
        "-Diminuer le learning rate lorsqu'on n'améliore plus la val_loss\n",
        "\n",
        "-L'ajout des nouvelles data n'a pas changé le résultat non plus"
      ],
      "metadata": {
        "id": "gyY3sv_Pto2A"
      }
    },
    {
      "cell_type": "code",
      "source": [
        "epochs = [i for i in range(20)]\n",
        "fig , ax = plt.subplots(1,2)\n",
        "train_acc = history.history['accuracy']\n",
        "train_loss = history.history['loss']\n",
        "val_acc = history.history['val_accuracy']\n",
        "val_loss = history.history['val_loss']\n",
        "fig.set_size_inches(20,10)\n",
        "\n",
        "ax[0].plot(epochs , train_acc , 'go-' , label = 'Training Accuracy')\n",
        "ax[0].plot(epochs , val_acc , 'ro-' , label = 'Testing Accuracy')\n",
        "ax[0].set_title('Training & Testing Accuracy')\n",
        "ax[0].legend()\n",
        "ax[0].set_xlabel(\"Epochs\")\n",
        "ax[0].set_ylabel(\"Accuracy\")\n",
        "\n",
        "ax[1].plot(epochs , train_loss , 'go-' , label = 'Training Loss')\n",
        "ax[1].plot(epochs , val_loss , 'ro-' , label = 'Testing Loss')\n",
        "ax[1].set_title('Training & Testing Loss')\n",
        "ax[1].legend()\n",
        "ax[1].set_xlabel(\"Epochs\")\n",
        "ax[1].set_ylabel(\"Loss\")\n",
        "plt.show()"
      ],
      "metadata": {
        "id": "8GVICGnHMpFE",
        "outputId": "da629949-e56d-4970-d591-1cf820e53ff3",
        "colab": {
          "base_uri": "https://localhost:8080/",
          "height": 621
        }
      },
      "execution_count": null,
      "outputs": [
        {
          "output_type": "display_data",
          "data": {
            "text/plain": [
              "<Figure size 1440x720 with 2 Axes>"
            ],
            "image/png": "[encoded data removed]"
          },
          "metadata": {
            "needs_background": "light"
          }
        }
      ]
    }
  ]
}