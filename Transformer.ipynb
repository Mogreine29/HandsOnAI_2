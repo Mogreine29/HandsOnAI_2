{
  "nbformat": 4,
  "nbformat_minor": 0,
  "metadata": {
    "colab": {
      "provenance": [],
      "authorship_tag": "ABX9TyNdY/tvGKe8jNcNEg6zzaB2",
      "include_colab_link": true
    },
    "kernelspec": {
      "name": "python3",
      "display_name": "Python 3"
    },
    "language_info": {
      "name": "python"
    }
  },
  "cells": [
    {
      "cell_type": "markdown",
      "metadata": {
        "id": "view-in-github",
        "colab_type": "text"
      },
      "source": [
        "<a href=\"https://colab.research.google.com/github/Mogreine29/HandsOnAI_2/blob/main/Transformer.ipynb\" target=\"_parent\"><img src=\"https://colab.research.google.com/assets/colab-badge.svg\" alt=\"Open In Colab\"/></a>"
      ]
    },
    {
      "cell_type": "code",
      "source": [
        "!pip install transformers\n",
        "!pip install datasets\n",
        "!pip install sentencepiece"
      ],
      "metadata": {
        "colab": {
          "base_uri": "https://localhost:8080/"
        },
        "id": "UXkNPl3x9Qin",
        "outputId": "e8ad6ff0-dd03-44fc-934a-c23c117c1d9e"
      },
      "execution_count": 1,
      "outputs": [
        {
          "output_type": "stream",
          "name": "stdout",
          "text": [
            "Looking in indexes: https://pypi.org/simple, https://us-python.pkg.dev/colab-wheels/public/simple/\n",
            "Requirement already satisfied: transformers in /usr/local/lib/python3.8/dist-packages (4.25.1)\n",
            "Requirement already satisfied: pyyaml>=5.1 in /usr/local/lib/python3.8/dist-packages (from transformers) (6.0)\n",
            "Requirement already satisfied: huggingface-hub<1.0,>=0.10.0 in /usr/local/lib/python3.8/dist-packages (from transformers) (0.11.1)\n",
            "Requirement already satisfied: requests in /usr/local/lib/python3.8/dist-packages (from transformers) (2.23.0)\n",
            "Requirement already satisfied: tokenizers!=0.11.3,<0.14,>=0.11.1 in /usr/local/lib/python3.8/dist-packages (from transformers) (0.13.2)\n",
            "Requirement already satisfied: regex!=2019.12.17 in /usr/local/lib/python3.8/dist-packages (from transformers) (2022.6.2)\n",
            "Requirement already satisfied: filelock in /usr/local/lib/python3.8/dist-packages (from transformers) (3.8.2)\n",
            "Requirement already satisfied: numpy>=1.17 in /usr/local/lib/python3.8/dist-packages (from transformers) (1.21.6)\n",
            "Requirement already satisfied: packaging>=20.0 in /usr/local/lib/python3.8/dist-packages (from transformers) (21.3)\n",
            "Requirement already satisfied: tqdm>=4.27 in /usr/local/lib/python3.8/dist-packages (from transformers) (4.64.1)\n",
            "Requirement already satisfied: typing-extensions>=3.7.4.3 in /usr/local/lib/python3.8/dist-packages (from huggingface-hub<1.0,>=0.10.0->transformers) (4.4.0)\n",
            "Requirement already satisfied: pyparsing!=3.0.5,>=2.0.2 in /usr/local/lib/python3.8/dist-packages (from packaging>=20.0->transformers) (3.0.9)\n",
            "Requirement already satisfied: urllib3!=1.25.0,!=1.25.1,<1.26,>=1.21.1 in /usr/local/lib/python3.8/dist-packages (from requests->transformers) (1.25.11)\n",
            "Requirement already satisfied: idna<3,>=2.5 in /usr/local/lib/python3.8/dist-packages (from requests->transformers) (2.10)\n",
            "Requirement already satisfied: chardet<4,>=3.0.2 in /usr/local/lib/python3.8/dist-packages (from requests->transformers) (3.0.4)\n",
            "Requirement already satisfied: certifi>=2017.4.17 in /usr/local/lib/python3.8/dist-packages (from requests->transformers) (2022.12.7)\n",
            "Looking in indexes: https://pypi.org/simple, https://us-python.pkg.dev/colab-wheels/public/simple/\n",
            "Requirement already satisfied: datasets in /usr/local/lib/python3.8/dist-packages (2.8.0)\n",
            "Requirement already satisfied: fsspec[http]>=2021.11.1 in /usr/local/lib/python3.8/dist-packages (from datasets) (2022.11.0)\n",
            "Requirement already satisfied: xxhash in /usr/local/lib/python3.8/dist-packages (from datasets) (3.1.0)\n",
            "Requirement already satisfied: numpy>=1.17 in /usr/local/lib/python3.8/dist-packages (from datasets) (1.21.6)\n",
            "Requirement already satisfied: dill<0.3.7 in /usr/local/lib/python3.8/dist-packages (from datasets) (0.3.6)\n",
            "Requirement already satisfied: aiohttp in /usr/local/lib/python3.8/dist-packages (from datasets) (3.8.3)\n",
            "Requirement already satisfied: pandas in /usr/local/lib/python3.8/dist-packages (from datasets) (1.3.5)\n",
            "Requirement already satisfied: packaging in /usr/local/lib/python3.8/dist-packages (from datasets) (21.3)\n",
            "Requirement already satisfied: pyarrow>=6.0.0 in /usr/local/lib/python3.8/dist-packages (from datasets) (9.0.0)\n",
            "Requirement already satisfied: requests>=2.19.0 in /usr/local/lib/python3.8/dist-packages (from datasets) (2.23.0)\n",
            "Requirement already satisfied: pyyaml>=5.1 in /usr/local/lib/python3.8/dist-packages (from datasets) (6.0)\n",
            "Requirement already satisfied: responses<0.19 in /usr/local/lib/python3.8/dist-packages (from datasets) (0.18.0)\n",
            "Requirement already satisfied: multiprocess in /usr/local/lib/python3.8/dist-packages (from datasets) (0.70.14)\n",
            "Requirement already satisfied: huggingface-hub<1.0.0,>=0.2.0 in /usr/local/lib/python3.8/dist-packages (from datasets) (0.11.1)\n",
            "Requirement already satisfied: tqdm>=4.62.1 in /usr/local/lib/python3.8/dist-packages (from datasets) (4.64.1)\n",
            "Requirement already satisfied: multidict<7.0,>=4.5 in /usr/local/lib/python3.8/dist-packages (from aiohttp->datasets) (6.0.3)\n",
            "Requirement already satisfied: attrs>=17.3.0 in /usr/local/lib/python3.8/dist-packages (from aiohttp->datasets) (22.1.0)\n",
            "Requirement already satisfied: aiosignal>=1.1.2 in /usr/local/lib/python3.8/dist-packages (from aiohttp->datasets) (1.3.1)\n",
            "Requirement already satisfied: yarl<2.0,>=1.0 in /usr/local/lib/python3.8/dist-packages (from aiohttp->datasets) (1.8.2)\n",
            "Requirement already satisfied: async-timeout<5.0,>=4.0.0a3 in /usr/local/lib/python3.8/dist-packages (from aiohttp->datasets) (4.0.2)\n",
            "Requirement already satisfied: frozenlist>=1.1.1 in /usr/local/lib/python3.8/dist-packages (from aiohttp->datasets) (1.3.3)\n",
            "Requirement already satisfied: charset-normalizer<3.0,>=2.0 in /usr/local/lib/python3.8/dist-packages (from aiohttp->datasets) (2.1.1)\n",
            "Requirement already satisfied: filelock in /usr/local/lib/python3.8/dist-packages (from huggingface-hub<1.0.0,>=0.2.0->datasets) (3.8.2)\n",
            "Requirement already satisfied: typing-extensions>=3.7.4.3 in /usr/local/lib/python3.8/dist-packages (from huggingface-hub<1.0.0,>=0.2.0->datasets) (4.4.0)\n",
            "Requirement already satisfied: pyparsing!=3.0.5,>=2.0.2 in /usr/local/lib/python3.8/dist-packages (from packaging->datasets) (3.0.9)\n",
            "Requirement already satisfied: certifi>=2017.4.17 in /usr/local/lib/python3.8/dist-packages (from requests>=2.19.0->datasets) (2022.12.7)\n",
            "Requirement already satisfied: idna<3,>=2.5 in /usr/local/lib/python3.8/dist-packages (from requests>=2.19.0->datasets) (2.10)\n",
            "Requirement already satisfied: urllib3!=1.25.0,!=1.25.1,<1.26,>=1.21.1 in /usr/local/lib/python3.8/dist-packages (from requests>=2.19.0->datasets) (1.25.11)\n",
            "Requirement already satisfied: chardet<4,>=3.0.2 in /usr/local/lib/python3.8/dist-packages (from requests>=2.19.0->datasets) (3.0.4)\n",
            "Requirement already satisfied: pytz>=2017.3 in /usr/local/lib/python3.8/dist-packages (from pandas->datasets) (2022.6)\n",
            "Requirement already satisfied: python-dateutil>=2.7.3 in /usr/local/lib/python3.8/dist-packages (from pandas->datasets) (2.8.2)\n",
            "Requirement already satisfied: six>=1.5 in /usr/local/lib/python3.8/dist-packages (from python-dateutil>=2.7.3->pandas->datasets) (1.15.0)\n",
            "Looking in indexes: https://pypi.org/simple, https://us-python.pkg.dev/colab-wheels/public/simple/\n",
            "Requirement already satisfied: sentencepiece in /usr/local/lib/python3.8/dist-packages (0.1.97)\n"
          ]
        }
      ]
    },
    {
      "cell_type": "code",
      "execution_count": 2,
      "metadata": {
        "colab": {
          "base_uri": "https://localhost:8080/"
        },
        "id": "Hx1JPtr7lPoC",
        "outputId": "de5969e2-e56b-4c8e-de88-067ac12a2f6c"
      },
      "outputs": [
        {
          "output_type": "stream",
          "name": "stderr",
          "text": [
            "[nltk_data] Downloading package stopwords to /root/nltk_data...\n",
            "[nltk_data]   Package stopwords is already up-to-date!\n"
          ]
        }
      ],
      "source": [
        "import tensorflow as tf\n",
        "from tensorflow import keras\n",
        "from tensorflow.keras import layers\n",
        "from transformers import AutoTokenizer\n",
        "import numpy as np\n",
        "import pandas as pd\n",
        "import re\n",
        "import string\n",
        "import nltk\n",
        "nltk.download(\"stopwords\")\n",
        "from nltk.corpus import stopwords\n",
        "from wordcloud import WordCloud"
      ]
    },
    {
      "cell_type": "code",
      "source": [
        "from google.colab import drive\n",
        "drive.mount('/content/drive')\n",
        "%cd drive/My\\ Drive/Challenge2"
      ],
      "metadata": {
        "colab": {
          "base_uri": "https://localhost:8080/"
        },
        "id": "QVePfxMFmGqf",
        "outputId": "6fb8c2fa-f70a-4a7a-bdd7-f73ecea84860"
      },
      "execution_count": 3,
      "outputs": [
        {
          "output_type": "stream",
          "name": "stdout",
          "text": [
            "Drive already mounted at /content/drive; to attempt to forcibly remount, call drive.mount(\"/content/drive\", force_remount=True).\n",
            "/content/drive/.shortcut-targets-by-id/1aIAK0Qi-pofkSLi3xijkAex-JrSW_tn8/Challenge2\n"
          ]
        }
      ]
    },
    {
      "cell_type": "code",
      "source": [
        "df_train = pd.read_csv('/content/drive/MyDrive/Challenge2/fake_train.csv')\n",
        "df_test = pd.read_csv('/content/drive/MyDrive/Challenge2/fake_test.csv')"
      ],
      "metadata": {
        "id": "yKqiOExzmgU0"
      },
      "execution_count": 4,
      "outputs": []
    },
    {
      "cell_type": "code",
      "source": [
        "df_train = df_train.drop(['Unnamed: 0', 'target_name'], axis = 1)\n",
        "df_test = df_test.drop(['Unnamed: 0', 'target_name'], axis = 1)"
      ],
      "metadata": {
        "id": "YQJroRCsmqYm"
      },
      "execution_count": 5,
      "outputs": []
    },
    {
      "cell_type": "code",
      "source": [
        "df_train.drop([1136, 1180, 1294, 1317, 1362, 1429], inplace = True )"
      ],
      "metadata": {
        "id": "MLzyy--7mr9d"
      },
      "execution_count": 6,
      "outputs": []
    },
    {
      "cell_type": "code",
      "source": [
        "df_real = pd.read_csv(\"real_news.csv\")\n",
        "df_fake = pd.read_csv(\"fake_news.csv\")\n",
        "df_real = df_real.drop(['site', 'url', 'title'], axis = 1)\n",
        "df_fake = df_fake.drop(['site', 'url', 'title'], axis = 1)\n",
        "df_real['label'] = 0\n",
        "df_fake['label'] = 1\n",
        "df_real.rename(columns = {'text':'data'}, inplace = True)\n",
        "df_fake.rename(columns = {'text':'data'}, inplace = True)\n",
        "df_train = df_train.append(df_real, ignore_index = True)\n",
        "df_train = df_train.append(df_fake, ignore_index = True)"
      ],
      "metadata": {
        "id": "IAd8TQQsmubU"
      },
      "execution_count": 7,
      "outputs": []
    },
    {
      "cell_type": "code",
      "source": [
        "STOPWORDS = set(stopwords.words('french'))\n",
        "\n",
        "def cleaner(text):\n",
        "    text = text.lower()\n",
        "    text = re.sub('\\[.*?\\]', '', text)\n",
        "    text = re.sub(\"\\\\W\",\" \",text) \n",
        "    text = re.sub('https?://\\S+|www\\.\\S+', '', text)\n",
        "    text = re.sub('<.*?>+', '', text)\n",
        "    text = re.sub('[%s]' % re.escape(string.punctuation), '', text)\n",
        "    text = re.sub('\\n', '', text)\n",
        "    text = re.sub('\\w*\\d\\w*', '', text)\n",
        "\n",
        "    text = ' '.join(word for word in text.split() if word not in STOPWORDS)   \n",
        "    return text"
      ],
      "metadata": {
        "id": "31mK39vamwCt"
      },
      "execution_count": 8,
      "outputs": []
    },
    {
      "cell_type": "code",
      "source": [
        "df_train['data'] = df_train['data'].apply(cleaner)\n",
        "df_test['data'] = df_test['data'].apply(cleaner)"
      ],
      "metadata": {
        "id": "zE1nXiMTm2Iy"
      },
      "execution_count": 9,
      "outputs": []
    },
    {
      "cell_type": "code",
      "source": [
        "df_train = df_train.append(df_test, ignore_index=True)\n",
        "shuffled = df_train.sample(frac=1).reset_index()\n",
        "shuffled = shuffled.drop(['index'], axis = 1)"
      ],
      "metadata": {
        "id": "GXHR-zp_nBHo"
      },
      "execution_count": 49,
      "outputs": []
    },
    {
      "cell_type": "code",
      "source": [
        "class TransformerBlock(layers.Layer):\n",
        "    def __init__(self, embed_dim, num_heads, ff_dim, rate=0.1):\n",
        "        super(TransformerBlock, self).__init__()\n",
        "        self.att = layers.MultiHeadAttention(num_heads=num_heads, key_dim=embed_dim)\n",
        "        self.ffn = keras.Sequential(\n",
        "            [layers.Dense(ff_dim, activation=\"relu\"), layers.Dense(embed_dim),]\n",
        "        )\n",
        "        self.layernorm1 = layers.LayerNormalization(epsilon=1e-6)\n",
        "        self.layernorm2 = layers.LayerNormalization(epsilon=1e-6)\n",
        "        self.dropout1 = layers.Dropout(rate)\n",
        "        self.dropout2 = layers.Dropout(rate)\n",
        "\n",
        "    def call(self, inputs, training):\n",
        "        attn_output = self.att(inputs, inputs)\n",
        "        attn_output = self.dropout1(attn_output, training=training)\n",
        "        out1 = self.layernorm1(inputs + attn_output)\n",
        "        ffn_output = self.ffn(out1)\n",
        "        ffn_output = self.dropout2(ffn_output, training=training)\n",
        "        return self.layernorm2(out1 + ffn_output)"
      ],
      "metadata": {
        "id": "Doj6blR3tujV"
      },
      "execution_count": 12,
      "outputs": []
    },
    {
      "cell_type": "code",
      "source": [
        "class TokenAndPositionEmbedding(layers.Layer):\n",
        "    def __init__(self, maxlen, vocab_size, embed_dim):\n",
        "        super(TokenAndPositionEmbedding, self).__init__()\n",
        "        self.token_emb = layers.Embedding(input_dim=vocab_size, output_dim=embed_dim)\n",
        "        self.pos_emb = layers.Embedding(input_dim=maxlen, output_dim=embed_dim)\n",
        "\n",
        "    def call(self, x):\n",
        "        maxlen = tf.shape(x)[-1]\n",
        "        positions = tf.range(start=0, limit=maxlen, delta=1)\n",
        "        positions = self.pos_emb(positions)\n",
        "        x = self.token_emb(x)\n",
        "        return x + positions"
      ],
      "metadata": {
        "id": "YPkNBzcg6uUv"
      },
      "execution_count": 13,
      "outputs": []
    },
    {
      "cell_type": "code",
      "source": [
        "tokenizer = AutoTokenizer.from_pretrained(\"Jean-Baptiste/camembert-ner\")\n",
        "def preprocess_function(text):\n",
        "    return tokenizer(text, truncation=True, padding=True)"
      ],
      "metadata": {
        "id": "nQGxgSEm9IPY"
      },
      "execution_count": 14,
      "outputs": []
    },
    {
      "cell_type": "code",
      "source": [
        "label = shuffled.pop('label')\n",
        "text = shuffled.pop('data')"
      ],
      "metadata": {
        "id": "Tb4veGBC-QbH"
      },
      "execution_count": 50,
      "outputs": []
    },
    {
      "cell_type": "code",
      "source": [
        "label_arr = label.to_numpy()\n",
        "text_arr = text.to_numpy()"
      ],
      "metadata": {
        "id": "yagRzjSSAqQ7"
      },
      "execution_count": 51,
      "outputs": []
    },
    {
      "cell_type": "code",
      "source": [
        "for i in range(len(text_arr)):\n",
        "  text_arr[i] = preprocess_function(text_arr[i]).input_ids\n",
        "text_arr"
      ],
      "metadata": {
        "colab": {
          "base_uri": "https://localhost:8080/"
        },
        "id": "gb4QCufS9mPs",
        "outputId": "5e78fad2-c316-4c3f-d2b0-eec0ac017737"
      },
      "execution_count": 52,
      "outputs": [
        {
          "output_type": "execute_result",
          "data": {
            "text/plain": [
              "array([list([5, 79, 21, 21104, 10, 1952, 6120, 190, 12885, 7637, 794, 22631, 2309, 700, 2877, 6705, 405, 21, 265, 5874, 262, 724, 7145, 6700, 290, 3089, 112, 7833, 1484, 7453, 104, 179, 6254, 1952, 1819, 313, 78, 1263, 1883, 5696, 12984, 17384, 1890, 2322, 3881, 1653, 208, 1194, 12984, 151, 209, 1241, 250, 5665, 3708, 25887, 1713, 6551, 20394, 10, 3173, 1729, 6551, 22944, 1033, 254, 838, 33, 1263, 1708, 5744, 90, 651, 1205, 3720, 35, 1691, 3650, 10, 55, 1352, 6165, 21, 5738, 375, 284, 132, 3885, 3650, 10, 55, 724, 12038, 15928, 7756, 3832, 343, 321, 7898, 11041, 35, 28278, 3754, 1187, 1358, 199, 7082, 5814, 2329, 1018, 589, 5814, 174, 209, 947, 771, 9307, 1248, 472, 3376, 11667, 15928, 1189, 18014, 12266, 13726, 17966, 3832, 343, 321, 7898, 11041, 35, 3754, 1187, 1358, 488, 281, 1352, 4520, 199, 5814, 589, 1018, 183, 3832, 599, 236, 7873, 5096, 2449, 1380, 5305, 14141, 771, 2254, 3896, 3650, 10, 55, 771, 7883, 1203, 2142, 5430, 2254, 2353, 1883, 771, 9157, 570, 10812, 472, 1535, 1352, 6165, 2370, 771, 1842, 16535, 9399, 589, 5814, 2329, 1018, 771, 3904, 1556, 98, 1656, 1729, 584, 3904, 2254, 6700, 290, 3089, 9336, 1842, 112, 2463, 359, 23073, 104, 98, 28746, 16410, 281, 2244, 1729, 913, 1713, 1691, 7637, 794, 3865, 3002, 33, 104, 98, 82, 759, 11153, 225, 1178, 446, 7145, 6700, 290, 3089, 66, 2296, 815, 3245, 174, 247, 235, 82, 1263, 6453, 724, 2246, 192, 235, 1169, 1203, 30214, 6365, 178, 868, 16410, 584, 2025, 55, 4347, 724, 223, 642, 3148, 21, 21104, 5192, 13062, 4711, 255, 1617, 2087, 10966, 6449, 14838, 72, 1182, 1437, 30790, 1327, 9367, 33, 3858, 1691, 46, 10530, 1693, 3710, 1665, 8142, 1248, 22, 8170, 3867, 7874, 7690, 10, 7756, 6215, 390, 539, 2966, 2514, 26131, 10, 1507, 2254, 584, 1782, 5437, 7637, 794, 575, 98, 4517, 3832, 23, 9967, 700, 1983, 235, 8973, 1327, 78, 646, 21, 21104, 5192, 13062, 4711, 255, 921, 14230, 23, 9967, 10, 1207, 3400, 430, 424, 4878, 3479, 21111, 875, 684, 991, 161, 2710, 1709, 3248, 183, 5909, 3479, 666, 21, 18623, 991, 21111, 264, 161, 2710, 743, 10519, 3666, 5889, 430, 1617, 2087, 10966, 178, 15779, 8778, 19283, 1536, 317, 1167, 639, 384, 1691, 206, 143, 922, 724, 7145, 6700, 290, 3089, 663, 639, 384, 5880, 21, 24410, 564, 10552, 7145, 2818, 2595, 269, 1533, 104, 610, 343, 3965, 108, 671, 7568, 206, 5874, 724, 8777, 5320, 247, 3245, 95, 1883, 95, 21379, 411, 16590, 3268, 90, 21, 31695, 402, 820, 3376, 368, 693, 21, 21104, 10, 145, 235, 82, 221, 365, 7833, 10, 79, 203, 2111, 10, 726, 15193, 10, 17, 133, 216, 989, 17, 11002, 9863, 1172, 203, 689, 3376, 283, 13463, 80, 17860, 815, 3245, 174, 247, 1952, 21, 21104, 10, 21452, 82, 956, 724, 1178, 21, 9200, 10, 11923, 16, 3152, 1691, 15841, 1005, 1327, 4867, 913, 10255, 290, 18537, 5195, 35, 5718, 1274, 2350, 4927, 2446, 17196, 6236, 255, 21, 14478, 1944, 7594, 80, 1208, 7389, 176, 299, 708, 350, 621, 255, 669, 18290, 298, 4427, 6]),\n",
              "       list([5, 17, 8504, 10, 534, 5251, 85, 426, 8383, 79, 18, 4653, 285, 25757, 21, 11583, 35, 40, 2235, 1133, 7675, 134, 339, 78, 534, 5251, 835, 8383, 8515, 18, 4653, 441, 208, 5032, 825, 739, 818, 85, 426, 395, 1318, 1492, 78, 433, 8879, 14898, 14994, 8906, 1178, 2620, 33, 981, 7448, 35, 18, 4653, 3116, 504, 1345, 8, 290, 3664, 728, 8383, 298, 78, 534, 5251, 1946, 2837, 508, 4606, 938, 1892, 2201, 561, 34, 9171, 557, 10706, 3442, 14, 622, 242, 6083, 2244, 534, 5251, 1704, 823, 78, 4517, 947, 176, 134, 11222, 1649, 1133, 6940, 7154, 405, 21, 265, 5874, 85, 426, 248, 1940, 1421, 1197, 1027, 242, 6083, 2135, 7865, 98, 818, 214, 5680, 1562, 157, 1039, 747, 6496, 131, 9467, 21, 3533, 9958, 21, 5420, 11868, 21418, 35, 25008, 534, 5251, 18, 4653, 928, 21, 11583, 35, 3116, 588, 2608, 3686, 2521, 343, 9936, 20838, 2046, 10, 12045, 504, 1345, 8, 290, 3664, 728, 6863, 314, 423, 104, 509, 1338, 8586, 1587, 21, 3533, 9958, 21, 5420, 11868, 17219, 21, 13571, 21, 29880, 435, 825, 7496, 2201, 5993, 50, 8452, 86, 1967, 21418, 18, 1094, 13630, 10, 33, 72, 827, 157, 33, 10355, 825, 213, 85, 5979, 2778, 4224, 7007, 31967, 3649, 19825, 29, 35, 18, 4653, 8383, 414, 257, 1273, 405, 21, 265, 40, 134, 4222, 1133, 12715, 235, 426, 435, 52, 62, 1400, 599, 26009, 394, 1908, 40, 72, 10, 2646, 21, 20657, 6259, 8481, 16456, 880, 456, 13006, 341, 88, 25008, 534, 5251, 4517, 99, 1739, 11857, 221, 525, 9445, 2192, 242, 6083, 6]),\n",
              "       list([5, 439, 4336, 4364, 3423, 3936, 17644, 19, 35, 3621, 10, 1178, 1620, 732, 7299, 4016, 175, 175, 4016, 5029, 21, 10438, 2093, 4832, 3714, 582, 21, 30867, 916, 18990, 80, 11829, 35, 861, 4683, 6514, 3653, 1482, 286, 14883, 13897, 2576, 5495, 219, 5230, 1857, 15799, 14618, 21, 2509, 10, 24941, 4364, 763, 5214, 10, 12877, 10, 433, 40, 3482, 176, 10516, 128, 4016, 6173, 14788, 700, 2697, 16960, 1602, 165, 14788, 203, 21, 15054, 10, 3503, 1393, 4573, 7712, 10, 112, 2553, 814, 429, 24355, 14288, 20524, 7974, 4434, 562, 6]),\n",
              "       ...,\n",
              "       list([5, 665, 2119, 2489, 4575, 6381, 4666, 6038, 525, 23577, 668, 10419, 7077, 824, 3974, 11543, 255, 2371, 1468, 823, 1651, 40, 13364, 375, 218, 1546, 2558, 351, 2753, 4457, 5655, 172, 6182, 462, 4098, 11011, 17052, 971, 11369, 404, 172, 1098, 246, 938, 599, 3079, 834, 21, 24463, 7319, 599, 3621, 10, 15104, 10, 199, 4922, 7077, 824, 3974, 11543, 255, 6523, 10292, 35, 79, 110, 4922, 2291, 381, 206, 10292, 35, 2553, 256, 95, 2403, 8246, 182, 190, 1422, 365, 10625, 378, 28703, 1800, 355, 9550, 190, 237, 82, 237, 715, 6797, 9550, 4328, 668, 10419, 6705, 2185, 116, 4922, 500, 4789, 3348, 12394, 10256, 3837, 5475, 20568, 217, 295, 213, 85, 334, 40, 40, 1084, 430, 7385, 832, 3343, 174, 1406, 273, 117, 1717, 827, 1316, 44, 2306, 601, 82, 190, 2154, 237, 18447, 237, 11755, 10, 237, 1054, 1546, 351, 2753, 29973, 1079, 208, 1546, 13012, 351, 2753, 125, 17563, 595, 5779, 2761, 16541, 136, 827, 539, 745, 760, 1546, 11024, 3358, 11599, 81, 3828, 11838, 66, 85, 392, 1587, 6]),\n",
              "       list([5, 2434, 6189, 18, 4653, 82, 1020, 115, 276, 4936, 13550, 276, 6450, 461, 16965, 10, 23943, 10, 339, 478, 1507, 21, 11583, 26652, 376, 72, 295, 665, 17075, 14120, 18283, 193, 2203, 10, 18, 1094, 13630, 10, 21, 22819, 1693, 6076, 21, 11583, 20621, 2356, 3081, 2830, 2623, 5119, 2014, 5124, 116, 6242, 23324, 10, 392, 392, 126, 178, 1507, 357, 1093, 665, 1194, 609, 33, 456, 9591, 2599, 10589, 326, 1212, 14631, 3250, 1060, 13453, 5065, 23928, 3710, 104, 6874, 193, 7310, 10, 182, 6296, 1575, 2741, 14468, 10, 8602, 4260, 16001, 10, 14942, 10, 259, 1136, 237, 737, 8400, 15639, 1986, 2008, 14489, 10331, 353, 684, 2434, 52, 6527, 483, 21, 1907, 3732, 17442, 20621, 173, 1022, 25200, 2899, 326, 480, 774, 14054, 8074, 7476, 80, 1299, 782, 24153, 326, 1552, 8483, 654, 16713, 218, 15424, 5718, 20647, 10, 4555, 8483, 2899, 326, 480, 3874, 28067, 81, 1299, 218, 4391, 81, 8739, 20621, 10, 49, 848, 9574, 576, 3417, 2602, 23662, 77, 2065, 1094, 5119, 276, 4297, 9601, 33, 5263, 2988, 9563, 11011, 129, 2745, 4297, 480, 2310, 631, 24656, 1923, 8481, 2024, 22820, 4857, 8179, 13596, 66, 1136, 6]),\n",
              "       list([5, 18539, 7437, 35, 77, 215, 1665, 284, 203, 4597, 15346, 82, 22, 2505, 10, 35, 10651, 298, 576, 1703, 1136, 30775, 1132, 348, 182, 1814, 5458, 10651, 6562, 21, 13221, 2299, 31474, 29789, 3206, 15204, 1273, 5484, 29038, 175, 250, 2185, 8002, 18539, 7437, 35, 21, 297, 14093, 1823, 5235, 1345, 10274, 3324, 4351, 287, 1897, 11740, 284, 6])],\n",
              "      dtype=object)"
            ]
          },
          "metadata": {},
          "execution_count": 52
        }
      ]
    },
    {
      "cell_type": "code",
      "source": [
        "def split_list(a_list, p):\n",
        "    split = int(len(a_list)//(1/(1-p)))\n",
        "    return a_list[:split], a_list[split:]\n",
        "x_train, x_test = split_list(text_arr, 0.2)\n",
        "y_train, y_test = split_list(label_arr, 0.2)\n",
        "x_train, x_val = split_list(x_train, 0.25)\n",
        "y_train, y_val = split_list(y_train, 0.25)"
      ],
      "metadata": {
        "id": "_S8JrvS6EOO1"
      },
      "execution_count": 57,
      "outputs": []
    },
    {
      "cell_type": "code",
      "source": [
        "maxlen = 200  # Only consider the first 200 words of each movie review\n",
        "print(len(x_train), \"Training sequences\")\n",
        "print(len(x_val), \"Validation sequences\")\n",
        "x_train = keras.preprocessing.sequence.pad_sequences(x_train, maxlen=maxlen)\n",
        "x_val = keras.preprocessing.sequence.pad_sequences(x_val, maxlen=maxlen)"
      ],
      "metadata": {
        "colab": {
          "base_uri": "https://localhost:8080/"
        },
        "id": "1BzfKOxS6zxA",
        "outputId": "bd75c788-5f05-495b-f4c2-e70a18bab88d"
      },
      "execution_count": 58,
      "outputs": [
        {
          "output_type": "stream",
          "name": "stdout",
          "text": [
            "13247 Training sequences\n",
            "4416 Validation sequences\n"
          ]
        }
      ]
    },
    {
      "cell_type": "code",
      "source": [
        "embed_dim = 32  # Embedding size for each token\n",
        "num_heads = 2  # Number of attention heads\n",
        "ff_dim = 32  # Hidden layer size in feed forward network inside transformer\n",
        "vocab_size = 210000\n",
        "\n",
        "inputs = layers.Input(shape=(maxlen,))\n",
        "embedding_layer = TokenAndPositionEmbedding(maxlen, vocab_size, embed_dim)\n",
        "x = embedding_layer(inputs)\n",
        "transformer_block = TransformerBlock(embed_dim, num_heads, ff_dim)\n",
        "x = transformer_block(x)\n",
        "x = layers.GlobalAveragePooling1D()(x)\n",
        "x = layers.Dropout(0.1)(x)\n",
        "x = layers.Dense(20, activation=\"relu\")(x)\n",
        "x = layers.Dropout(0.1)(x)\n",
        "outputs = layers.Dense(2, activation=\"softmax\")(x)\n",
        "\n",
        "model = keras.Model(inputs=inputs, outputs=outputs)"
      ],
      "metadata": {
        "id": "vg-zM3dB66Bx"
      },
      "execution_count": 62,
      "outputs": []
    },
    {
      "cell_type": "code",
      "source": [
        "model.compile(optimizer=\"adam\", loss=\"sparse_categorical_crossentropy\", metrics=[\"accuracy\"])\n",
        "history = model.fit(\n",
        "    x_train, y_train, batch_size=32, epochs=2, validation_data=(x_val, y_val)\n",
        ")"
      ],
      "metadata": {
        "colab": {
          "base_uri": "https://localhost:8080/"
        },
        "id": "QRwn6SOW7DMX",
        "outputId": "4293e544-b78d-4eca-f20a-795c61da73d6"
      },
      "execution_count": 63,
      "outputs": [
        {
          "output_type": "stream",
          "name": "stdout",
          "text": [
            "Epoch 1/2\n",
            "414/414 [==============================] - 44s 102ms/step - loss: 0.2940 - accuracy: 0.8649 - val_loss: 0.1583 - val_accuracy: 0.9411\n",
            "Epoch 2/2\n",
            "414/414 [==============================] - 42s 100ms/step - loss: 0.0701 - accuracy: 0.9774 - val_loss: 0.1884 - val_accuracy: 0.9391\n"
          ]
        }
      ]
    }
  ]
}