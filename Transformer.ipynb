{
  "nbformat": 4,
  "nbformat_minor": 0,
  "metadata": {
    "colab": {
      "provenance": [],
      "include_colab_link": true
    },
    "kernelspec": {
      "name": "python3",
      "display_name": "Python 3"
    },
    "language_info": {
      "name": "python"
    }
  },
  "cells": [
    {
      "cell_type": "markdown",
      "metadata": {
        "id": "view-in-github",
        "colab_type": "text"
      },
      "source": [
        "<a href=\"https://colab.research.google.com/github/Mogreine29/HandsOnAI_2/blob/main/Transformer.ipynb\" target=\"_parent\"><img src=\"https://colab.research.google.com/assets/colab-badge.svg\" alt=\"Open In Colab\"/></a>"
      ]
    },
    {
      "cell_type": "code",
      "source": [
        "!pip install transformers\n",
        "!pip install datasets\n",
        "!pip install sentencepiece"
      ],
      "metadata": {
        "colab": {
          "base_uri": "https://localhost:8080/"
        },
        "id": "UXkNPl3x9Qin",
        "outputId": "957f1c3e-3105-47ef-b869-b922993002c1"
      },
      "execution_count": 103,
      "outputs": [
        {
          "output_type": "stream",
          "name": "stdout",
          "text": [
            "Looking in indexes: https://pypi.org/simple, https://us-python.pkg.dev/colab-wheels/public/simple/\n",
            "Requirement already satisfied: transformers in /usr/local/lib/python3.8/dist-packages (4.25.1)\n",
            "Requirement already satisfied: pyyaml>=5.1 in /usr/local/lib/python3.8/dist-packages (from transformers) (6.0)\n",
            "Requirement already satisfied: tqdm>=4.27 in /usr/local/lib/python3.8/dist-packages (from transformers) (4.64.1)\n",
            "Requirement already satisfied: tokenizers!=0.11.3,<0.14,>=0.11.1 in /usr/local/lib/python3.8/dist-packages (from transformers) (0.13.2)\n",
            "Requirement already satisfied: requests in /usr/local/lib/python3.8/dist-packages (from transformers) (2.23.0)\n",
            "Requirement already satisfied: filelock in /usr/local/lib/python3.8/dist-packages (from transformers) (3.8.2)\n",
            "Requirement already satisfied: packaging>=20.0 in /usr/local/lib/python3.8/dist-packages (from transformers) (21.3)\n",
            "Requirement already satisfied: huggingface-hub<1.0,>=0.10.0 in /usr/local/lib/python3.8/dist-packages (from transformers) (0.11.1)\n",
            "Requirement already satisfied: numpy>=1.17 in /usr/local/lib/python3.8/dist-packages (from transformers) (1.21.6)\n",
            "Requirement already satisfied: regex!=2019.12.17 in /usr/local/lib/python3.8/dist-packages (from transformers) (2022.6.2)\n",
            "Requirement already satisfied: typing-extensions>=3.7.4.3 in /usr/local/lib/python3.8/dist-packages (from huggingface-hub<1.0,>=0.10.0->transformers) (4.4.0)\n",
            "Requirement already satisfied: pyparsing!=3.0.5,>=2.0.2 in /usr/local/lib/python3.8/dist-packages (from packaging>=20.0->transformers) (3.0.9)\n",
            "Requirement already satisfied: urllib3!=1.25.0,!=1.25.1,<1.26,>=1.21.1 in /usr/local/lib/python3.8/dist-packages (from requests->transformers) (1.25.11)\n",
            "Requirement already satisfied: chardet<4,>=3.0.2 in /usr/local/lib/python3.8/dist-packages (from requests->transformers) (3.0.4)\n",
            "Requirement already satisfied: idna<3,>=2.5 in /usr/local/lib/python3.8/dist-packages (from requests->transformers) (2.10)\n",
            "Requirement already satisfied: certifi>=2017.4.17 in /usr/local/lib/python3.8/dist-packages (from requests->transformers) (2022.12.7)\n",
            "Looking in indexes: https://pypi.org/simple, https://us-python.pkg.dev/colab-wheels/public/simple/\n",
            "Requirement already satisfied: datasets in /usr/local/lib/python3.8/dist-packages (2.8.0)\n",
            "Requirement already satisfied: packaging in /usr/local/lib/python3.8/dist-packages (from datasets) (21.3)\n",
            "Requirement already satisfied: fsspec[http]>=2021.11.1 in /usr/local/lib/python3.8/dist-packages (from datasets) (2022.11.0)\n",
            "Requirement already satisfied: pandas in /usr/local/lib/python3.8/dist-packages (from datasets) (1.3.5)\n",
            "Requirement already satisfied: aiohttp in /usr/local/lib/python3.8/dist-packages (from datasets) (3.8.3)\n",
            "Requirement already satisfied: requests>=2.19.0 in /usr/local/lib/python3.8/dist-packages (from datasets) (2.23.0)\n",
            "Requirement already satisfied: numpy>=1.17 in /usr/local/lib/python3.8/dist-packages (from datasets) (1.21.6)\n",
            "Requirement already satisfied: responses<0.19 in /usr/local/lib/python3.8/dist-packages (from datasets) (0.18.0)\n",
            "Requirement already satisfied: dill<0.3.7 in /usr/local/lib/python3.8/dist-packages (from datasets) (0.3.6)\n",
            "Requirement already satisfied: tqdm>=4.62.1 in /usr/local/lib/python3.8/dist-packages (from datasets) (4.64.1)\n",
            "Requirement already satisfied: pyyaml>=5.1 in /usr/local/lib/python3.8/dist-packages (from datasets) (6.0)\n",
            "Requirement already satisfied: xxhash in /usr/local/lib/python3.8/dist-packages (from datasets) (3.1.0)\n",
            "Requirement already satisfied: multiprocess in /usr/local/lib/python3.8/dist-packages (from datasets) (0.70.14)\n",
            "Requirement already satisfied: huggingface-hub<1.0.0,>=0.2.0 in /usr/local/lib/python3.8/dist-packages (from datasets) (0.11.1)\n",
            "Requirement already satisfied: pyarrow>=6.0.0 in /usr/local/lib/python3.8/dist-packages (from datasets) (9.0.0)\n",
            "Requirement already satisfied: multidict<7.0,>=4.5 in /usr/local/lib/python3.8/dist-packages (from aiohttp->datasets) (6.0.3)\n",
            "Requirement already satisfied: frozenlist>=1.1.1 in /usr/local/lib/python3.8/dist-packages (from aiohttp->datasets) (1.3.3)\n",
            "Requirement already satisfied: aiosignal>=1.1.2 in /usr/local/lib/python3.8/dist-packages (from aiohttp->datasets) (1.3.1)\n",
            "Requirement already satisfied: async-timeout<5.0,>=4.0.0a3 in /usr/local/lib/python3.8/dist-packages (from aiohttp->datasets) (4.0.2)\n",
            "Requirement already satisfied: charset-normalizer<3.0,>=2.0 in /usr/local/lib/python3.8/dist-packages (from aiohttp->datasets) (2.1.1)\n",
            "Requirement already satisfied: attrs>=17.3.0 in /usr/local/lib/python3.8/dist-packages (from aiohttp->datasets) (22.1.0)\n",
            "Requirement already satisfied: yarl<2.0,>=1.0 in /usr/local/lib/python3.8/dist-packages (from aiohttp->datasets) (1.8.2)\n",
            "Requirement already satisfied: typing-extensions>=3.7.4.3 in /usr/local/lib/python3.8/dist-packages (from huggingface-hub<1.0.0,>=0.2.0->datasets) (4.4.0)\n",
            "Requirement already satisfied: filelock in /usr/local/lib/python3.8/dist-packages (from huggingface-hub<1.0.0,>=0.2.0->datasets) (3.8.2)\n",
            "Requirement already satisfied: pyparsing!=3.0.5,>=2.0.2 in /usr/local/lib/python3.8/dist-packages (from packaging->datasets) (3.0.9)\n",
            "Requirement already satisfied: chardet<4,>=3.0.2 in /usr/local/lib/python3.8/dist-packages (from requests>=2.19.0->datasets) (3.0.4)\n",
            "Requirement already satisfied: urllib3!=1.25.0,!=1.25.1,<1.26,>=1.21.1 in /usr/local/lib/python3.8/dist-packages (from requests>=2.19.0->datasets) (1.25.11)\n",
            "Requirement already satisfied: certifi>=2017.4.17 in /usr/local/lib/python3.8/dist-packages (from requests>=2.19.0->datasets) (2022.12.7)\n",
            "Requirement already satisfied: idna<3,>=2.5 in /usr/local/lib/python3.8/dist-packages (from requests>=2.19.0->datasets) (2.10)\n",
            "Requirement already satisfied: pytz>=2017.3 in /usr/local/lib/python3.8/dist-packages (from pandas->datasets) (2022.6)\n",
            "Requirement already satisfied: python-dateutil>=2.7.3 in /usr/local/lib/python3.8/dist-packages (from pandas->datasets) (2.8.2)\n",
            "Requirement already satisfied: six>=1.5 in /usr/local/lib/python3.8/dist-packages (from python-dateutil>=2.7.3->pandas->datasets) (1.15.0)\n",
            "Looking in indexes: https://pypi.org/simple, https://us-python.pkg.dev/colab-wheels/public/simple/\n",
            "Requirement already satisfied: sentencepiece in /usr/local/lib/python3.8/dist-packages (0.1.97)\n"
          ]
        }
      ]
    },
    {
      "cell_type": "code",
      "execution_count": 104,
      "metadata": {
        "colab": {
          "base_uri": "https://localhost:8080/"
        },
        "id": "Hx1JPtr7lPoC",
        "outputId": "d7abdb2a-460c-4dbf-f57e-c3e17e6ab457"
      },
      "outputs": [
        {
          "output_type": "stream",
          "name": "stderr",
          "text": [
            "[nltk_data] Downloading package stopwords to /root/nltk_data...\n",
            "[nltk_data]   Package stopwords is already up-to-date!\n"
          ]
        }
      ],
      "source": [
        "import tensorflow as tf\n",
        "from tensorflow import keras\n",
        "from tensorflow.keras import layers\n",
        "from transformers import AutoTokenizer\n",
        "import numpy as np\n",
        "import pandas as pd\n",
        "import seaborn as sns\n",
        "import matplotlib.pyplot as plt\n",
        "from sklearn.model_selection import train_test_split\n",
        "from sklearn.metrics import classification_report, confusion_matrix\n",
        "import re\n",
        "import string\n",
        "import nltk\n",
        "nltk.download(\"stopwords\")\n",
        "from nltk.corpus import stopwords\n",
        "from wordcloud import WordCloud"
      ]
    },
    {
      "cell_type": "code",
      "source": [
        "from google.colab import drive\n",
        "drive.mount('/content/drive')\n",
        "%cd drive/My\\ Drive/Challenge2"
      ],
      "metadata": {
        "colab": {
          "base_uri": "https://localhost:8080/"
        },
        "id": "QVePfxMFmGqf",
        "outputId": "19297755-91a0-478d-c9f2-ca04116767c2"
      },
      "execution_count": 105,
      "outputs": [
        {
          "output_type": "stream",
          "name": "stdout",
          "text": [
            "Drive already mounted at /content/drive; to attempt to forcibly remount, call drive.mount(\"/content/drive\", force_remount=True).\n",
            "[Errno 2] No such file or directory: 'drive/My Drive/Challenge2'\n",
            "/content/drive/My Drive/Challenge2\n"
          ]
        }
      ]
    },
    {
      "cell_type": "code",
      "source": [
        "df_train = pd.read_csv('/content/drive/MyDrive/Challenge2/fake_train.csv')\n",
        "df_test = pd.read_csv('/content/drive/MyDrive/Challenge2/fake_test.csv')"
      ],
      "metadata": {
        "id": "yKqiOExzmgU0"
      },
      "execution_count": 106,
      "outputs": []
    },
    {
      "cell_type": "code",
      "source": [
        "df_train = df_train.drop(['Unnamed: 0', 'target_name'], axis = 1)\n",
        "df_test = df_test.drop(['Unnamed: 0', 'target_name'], axis = 1)"
      ],
      "metadata": {
        "id": "YQJroRCsmqYm"
      },
      "execution_count": 107,
      "outputs": []
    },
    {
      "cell_type": "code",
      "source": [
        "df_train.drop([1136, 1180, 1294, 1317, 1362, 1429], inplace = True )"
      ],
      "metadata": {
        "id": "MLzyy--7mr9d"
      },
      "execution_count": 108,
      "outputs": []
    },
    {
      "cell_type": "code",
      "source": [
        "df_real = pd.read_csv(\"real_news.csv\")\n",
        "df_fake = pd.read_csv(\"fake_news.csv\")\n",
        "df_real = df_real.drop(['site', 'url', 'title'], axis = 1)\n",
        "df_fake = df_fake.drop(['site', 'url', 'title'], axis = 1)\n",
        "df_real['label'] = 0\n",
        "df_fake['label'] = 1\n",
        "df_real.rename(columns = {'text':'data'}, inplace = True)\n",
        "df_fake.rename(columns = {'text':'data'}, inplace = True)\n",
        "df_train = df_train.append(df_real, ignore_index = True)\n",
        "df_train = df_train.append(df_fake, ignore_index = True)"
      ],
      "metadata": {
        "id": "IAd8TQQsmubU"
      },
      "execution_count": 109,
      "outputs": []
    },
    {
      "cell_type": "code",
      "source": [
        "STOPWORDS = set(stopwords.words('french'))\n",
        "moreStopwords = ['plus', 'comme', 'a', 'il', 'alors','au',\n",
        "'aucuns','aussi','autre','avant','avec','avoir','bon','car','ce','cela','ces','ceux','chaque','ci',\n",
        "'comme','comment','dans','des','du','dedans','dehors','depuis','devrait','doit','donc','dos','début',\n",
        "'elle','elles','en','encore','essai','est','et','eu','fait','faites','fois','font','hors','ici','il',\n",
        "'ils','je',\t'juste','la','le','les','leur','là','ma','maintenant','mais','mes','mien','moins','mon',\n",
        "'mot','même','ni','nommés','notre','nous','ou','où','par','parce','pas','peut','peu','plupart','pour',\n",
        "'pourquoi','quand','que','quel','quelle','quelles','quels','qui','sa','sans','ses','seulement','si',\n",
        "'sien','son','sont','sous','soyez',\t'sujet','sur','ta','tandis','tellement','tels','tes','ton','tous',\n",
        "'tout','trop','très','tu','voient','vont','votre','vous','vu','ça','étaient','état','étions','été','être']\n",
        "\n",
        "STOPWORDS.update(moreStopwords)\n",
        "def cleaner(text):\n",
        "    text = text.lower()\n",
        "    text = re.sub('\\[.*?\\]', '', text)\n",
        "    text = re.sub(\"\\\\W\",\" \",text) \n",
        "    text = re.sub('https?://\\S+|www\\.\\S+', '', text)\n",
        "    text = re.sub('<.*?>+', '', text)\n",
        "    text = re.sub('[%s]' % re.escape(string.punctuation), '', text)\n",
        "    text = re.sub('\\n', '', text)\n",
        "    text = re.sub('\\w*\\d\\w*', '', text)\n",
        "\n",
        "    text = ' '.join(word for word in text.split() if word not in STOPWORDS)   \n",
        "    return text"
      ],
      "metadata": {
        "id": "31mK39vamwCt"
      },
      "execution_count": 112,
      "outputs": []
    },
    {
      "cell_type": "code",
      "source": [
        "df_train['data'] = df_train['data'].apply(cleaner)\n",
        "df_test['data'] = df_test['data'].apply(cleaner)"
      ],
      "metadata": {
        "id": "zE1nXiMTm2Iy"
      },
      "execution_count": 113,
      "outputs": []
    },
    {
      "cell_type": "code",
      "source": [
        "df_train = df_train.append(df_test, ignore_index=True)\n",
        "shuffled = df_train.sample(frac=1).reset_index()\n",
        "shuffled = shuffled.drop(['index'], axis = 1)"
      ],
      "metadata": {
        "id": "GXHR-zp_nBHo"
      },
      "execution_count": 114,
      "outputs": []
    },
    {
      "cell_type": "code",
      "source": [
        "class TransformerBlock(layers.Layer):\n",
        "    def __init__(self, embed_dim, num_heads, ff_dim, rate=0.1):\n",
        "        super(TransformerBlock, self).__init__()\n",
        "        self.att = layers.MultiHeadAttention(num_heads=num_heads, key_dim=embed_dim)\n",
        "        self.ffn = keras.Sequential(\n",
        "            [layers.Dense(ff_dim, activation=\"relu\"), layers.Dense(embed_dim),]\n",
        "        )\n",
        "        self.layernorm1 = layers.LayerNormalization(epsilon=1e-6)\n",
        "        self.layernorm2 = layers.LayerNormalization(epsilon=1e-6)\n",
        "        self.dropout1 = layers.Dropout(rate)\n",
        "        self.dropout2 = layers.Dropout(rate)\n",
        "\n",
        "    def call(self, inputs, training):\n",
        "        attn_output = self.att(inputs, inputs)\n",
        "        attn_output = self.dropout1(attn_output, training=training)\n",
        "        out1 = self.layernorm1(inputs + attn_output)\n",
        "        ffn_output = self.ffn(out1)\n",
        "        ffn_output = self.dropout2(ffn_output, training=training)\n",
        "        return self.layernorm2(out1 + ffn_output)"
      ],
      "metadata": {
        "id": "Doj6blR3tujV"
      },
      "execution_count": 115,
      "outputs": []
    },
    {
      "cell_type": "code",
      "source": [
        "class TokenAndPositionEmbedding(layers.Layer):\n",
        "    def __init__(self, maxlen, vocab_size, embed_dim):\n",
        "        super(TokenAndPositionEmbedding, self).__init__()\n",
        "        self.token_emb = layers.Embedding(input_dim=vocab_size, output_dim=embed_dim)\n",
        "        self.pos_emb = layers.Embedding(input_dim=maxlen, output_dim=embed_dim)\n",
        "\n",
        "    def call(self, x):\n",
        "        maxlen = tf.shape(x)[-1]\n",
        "        positions = tf.range(start=0, limit=maxlen, delta=1)\n",
        "        positions = self.pos_emb(positions)\n",
        "        x = self.token_emb(x)\n",
        "        return x + positions"
      ],
      "metadata": {
        "id": "YPkNBzcg6uUv"
      },
      "execution_count": 116,
      "outputs": []
    },
    {
      "cell_type": "code",
      "source": [
        "tokenizer = AutoTokenizer.from_pretrained(\"Jean-Baptiste/camembert-ner\")\n",
        "def preprocess_function(text):\n",
        "    return tokenizer(text, truncation=True, padding=True)"
      ],
      "metadata": {
        "id": "nQGxgSEm9IPY"
      },
      "execution_count": 117,
      "outputs": []
    },
    {
      "cell_type": "code",
      "source": [
        "label = shuffled.pop('label')\n",
        "text = shuffled.pop('data')"
      ],
      "metadata": {
        "id": "Tb4veGBC-QbH"
      },
      "execution_count": 118,
      "outputs": []
    },
    {
      "cell_type": "code",
      "source": [
        "label_arr = label.to_numpy()\n",
        "text_arr = text.to_numpy()"
      ],
      "metadata": {
        "id": "yagRzjSSAqQ7"
      },
      "execution_count": 119,
      "outputs": []
    },
    {
      "cell_type": "code",
      "source": [
        "for i in range(len(text_arr)):\n",
        "  text_arr[i] = preprocess_function(text_arr[i]).input_ids\n",
        "text_arr"
      ],
      "metadata": {
        "colab": {
          "base_uri": "https://localhost:8080/"
        },
        "id": "gb4QCufS9mPs",
        "outputId": "1e819124-d0c0-43a0-cb94-6e2820c05f79"
      },
      "execution_count": 120,
      "outputs": [
        {
          "output_type": "execute_result",
          "data": {
            "text/plain": [
              "array([list([5, 3444, 21, 17622, 704, 6436, 1482, 4594, 5455, 621, 732, 20517, 1482, 4594, 5455, 18822, 298, 28243, 20468, 108, 33, 362, 286, 874, 1676, 1178, 3444, 21, 17622, 6436, 1482, 4594, 5455, 20103, 704, 529, 586, 4110, 282, 3498, 526, 1359, 12949, 28243, 26516, 6783, 274, 285, 533, 256, 182, 5972, 274, 10691, 285, 1456, 529, 11604, 665, 3602, 1482, 4594, 5455, 9395, 3574, 7658, 704, 9215, 1694, 8999, 10, 20517, 18822, 298, 28243, 732, 209, 10691, 15334, 539, 421, 285, 1208, 23255, 3597, 1133, 538, 44, 12723, 15705, 4169, 1983, 2981, 410, 24299, 141, 298, 21, 22937, 16413, 5930, 2036, 85, 1910, 2294, 6436, 548, 8085, 8779, 1099, 72, 25454, 285, 1384, 5874, 12510, 2511, 3224, 6897, 3498, 526, 1359, 4328, 298, 3236, 704, 6436, 11493, 581, 2371, 1642, 15, 177, 17330, 15, 3801, 30040, 10, 1144, 6613, 10, 330, 193, 250, 10266, 2330, 11117, 6878, 10, 1343, 4996, 259, 21, 26317, 1983, 2981, 3001, 6102, 1482, 4594, 5455, 1995, 6]),\n",
              "       list([5, 2542, 14091, 3972, 155, 1060, 1790, 2620, 29556, 35, 6269, 5070, 980, 8041, 14193, 8557, 13, 14818, 3558, 1102, 2542, 14091, 3972, 155, 1060, 1790, 606, 5070, 980, 1085, 6269, 103, 836, 1103, 1654, 128, 738, 2920, 6269, 5070, 980, 4076, 471, 735, 8367, 80, 435, 2554, 103, 531, 1972, 2620, 29556, 35, 13, 14818, 3558, 1102, 2542, 14091, 3972, 155, 1060, 1790, 8784, 81, 834, 1234, 2667, 5886, 6441, 35, 103, 836, 373, 2724, 2126, 1424, 103, 836, 6509, 7112, 5070, 980, 354, 536, 8073, 606, 1901, 4232, 29556, 35, 10576, 7604, 108, 1419, 8078, 23901, 4118, 2542, 14091, 3972, 155, 1060, 1790, 2620, 29556, 35, 8073, 606, 5070, 980, 4944, 6441, 35, 103, 836, 456, 7060, 356, 2419, 200, 85, 1267, 18296, 2554, 7995, 103, 531, 6881, 162, 9711, 35, 1438, 18684, 81, 327, 6269, 5070, 980, 1299, 162, 9711, 35, 182, 23559, 327, 6509, 7112, 5070, 980, 580, 2554, 2895, 1478, 3784, 18307, 1084, 165, 198, 1488, 28414, 6269, 381, 6356, 272, 844, 2280, 2244, 12065, 405, 21, 265, 396, 6269, 5070, 980, 103, 836, 6269, 1522, 8716, 444, 1817, 22776, 356, 420, 21, 11101, 10, 4696, 2287, 72, 5808, 738, 6269, 5070, 980, 2357, 9291, 4074, 561, 30776, 35, 10639, 11126, 14193, 6]),\n",
              "       list([5, 930, 86, 6938, 308, 77, 1469, 576, 3859, 2590, 430, 1492, 1770, 1533, 1454, 1495, 4971, 1211, 890, 994, 5687, 1774, 599, 1060, 18928, 11677, 35, 4026, 17, 16100, 2177, 15364, 3139, 1770, 1533, 890, 658, 18772, 340, 13098, 17148, 6541, 187, 10552, 10, 2098, 1533, 8316, 3066, 1085, 688, 2254, 187, 4978, 85, 1218, 738, 33, 383, 19947, 22599, 17, 4419, 2817, 182, 1252, 10, 7263, 141, 247, 4496, 10089, 510, 497, 1941, 17, 5571, 3710, 1934, 113, 1935, 4082, 224, 596, 1770, 2254, 10384, 12649, 1452, 5004, 8106, 258, 5687, 431, 11677, 10, 23289, 1143, 5880, 21, 24410, 10, 5117, 132, 410, 625, 258, 303, 1075, 737, 18990, 9884, 1584, 1212, 14631, 13, 8516, 1044, 256, 2824, 873, 510, 245, 4978, 1770, 7444, 10, 6422, 704, 2590, 22542, 113, 187, 10552, 10, 15116, 1774, 890, 6805, 525, 72, 12344, 726, 882, 5991, 113, 187, 14636, 1641, 4978, 18006, 8522, 2171, 15465, 410, 21, 18897, 1517, 1148, 293, 245, 4978, 1770, 7444, 10, 6422, 693, 5232, 1144, 6040, 892, 1587, 18, 55, 13700, 2435, 1248, 1478, 599, 1060, 18928, 890, 288, 85, 21, 17593, 303, 1075, 430, 26770, 1088, 7444, 10, 21, 22160, 2004, 1770, 1533, 9679, 628, 890, 4971, 1758, 445, 811, 924, 1587, 18, 55, 13700, 2435, 1248, 1049, 2071, 599, 1060, 18928, 2576, 8, 4628, 33, 9220, 113, 22831, 11517, 80, 1320, 85, 21, 17593, 222, 1373, 5365, 10552, 132, 890, 269, 2783, 20609, 973, 1075, 10552, 3811, 599, 1060, 18928, 6950, 1231, 2874, 10552, 10, 12280, 10, 235, 13594, 604, 85, 8779, 18, 55, 13700, 2435, 1248, 1533, 1584, 213, 2066, 1969, 250, 223, 510, 1178, 192, 303, 1075, 890, 223, 16590, 3268, 90, 21, 4873, 13745, 1495, 395, 9285, 12192, 9392, 5425, 1178, 2098, 1533, 20634, 488, 10552, 10, 674, 428, 4978, 1178, 10089, 4142, 997, 2590, 7453, 1085, 2559, 1109, 510, 3558, 29255, 2587, 1892, 713, 982, 947, 416, 10501, 281, 926, 1495, 1715, 977, 2587, 1892, 5253, 1533, 395, 8259, 1128, 1533, 599, 1060, 18928, 11989, 478, 2590, 1320, 3954, 663, 8037, 19635, 880, 5495, 7535, 834, 6681, 4930, 3678, 17789, 222, 11677, 35, 4026, 11989, 2590, 5687, 431, 1726, 3811, 10, 11677, 35, 4026, 835, 1903, 1158, 2590, 1573, 1054, 2267, 1952, 375, 284, 187, 1726, 2305, 2695, 6879, 5305, 510, 1770, 1533, 414, 1297, 8876, 3247, 11732, 209, 209, 13714, 510, 1969, 250, 193, 511, 1360, 4083, 2894, 424, 125, 7216, 247, 4373, 511, 1630, 213, 217, 1587, 21, 4940, 3428, 3710, 12317, 393, 2814, 35, 1726, 1770, 7444, 10, 4226, 2228, 24509, 292, 15116, 1774, 13984, 21, 4940, 3428, 3710, 12317, 1178, 4344, 674, 891, 612, 222, 599, 1060, 18928, 8779, 771, 15723, 22209, 930, 254, 6450, 788, 2695, 565, 2814, 4596, 397, 18839, 1297, 2839, 1417, 78, 1297, 258, 258, 335, 125, 157, 21, 4940, 3428, 3710, 12317, 2136, 35, 2260, 10147, 6726, 2576, 4129, 2872, 21006, 15186, 1155, 893, 7236, 598, 12862, 10, 22020, 10, 4451, 708, 132, 890, 5979, 1562, 11102, 510, 9563, 7764, 1044, 393, 2814, 35, 20637, 982, 2695, 132, 890, 510, 1178, 222, 6]),\n",
              "       ...,\n",
              "       list([5, 16756, 10, 5770, 12009, 2644, 2240, 863, 293, 14825, 1192, 934, 9863, 105, 2392, 3509, 3394, 599, 25200, 1463, 1406, 1981, 2452, 1758, 5488, 674, 4195, 2295, 2553, 1279, 21, 19857, 10, 13827, 1192, 285, 2926, 4069, 157, 13827, 1192, 4604, 1567, 2071, 15957, 387, 1721, 793, 17973, 49, 12153, 81, 1567, 489, 6330, 636, 18991, 3957, 488, 580, 368, 4341, 1770, 4930, 3204, 20753, 285, 17, 5924, 19815, 2473, 5179, 247, 128, 21, 28461, 3109, 3242, 16919, 10, 6145, 7548, 1406, 1981, 3869, 14189, 4144, 219, 373, 16053, 11794, 4205, 12921, 2539, 544, 9673, 10, 1192, 934, 14890, 23540, 838, 179, 389, 11496, 2850, 4324, 6155, 10, 21, 19857, 10, 730, 9376, 6572, 355, 8521, 235, 16919, 10090, 134, 227, 1099, 12949, 18177, 396, 2071, 15957, 6050, 489, 12991, 10190, 8628, 290, 264, 21, 19857, 10, 17320, 942, 2558, 17657, 14625, 2963, 78, 1121, 548, 13814, 4737, 10, 286, 1087, 18406, 478, 1993, 1133, 1682, 6677, 6672, 507, 1096, 2765, 3784, 8285, 3007, 3170, 29401, 35, 116, 134, 182, 22822, 78, 21, 30269, 134, 22278, 1085, 1867, 14815, 1150, 179, 247, 1436, 8269, 864, 14362, 298, 20624, 351, 12228, 203, 304, 4205, 259, 7548, 17344, 10, 6145, 19054, 10652, 2525, 1638, 250, 1940, 6437, 9958, 16254, 2627, 21, 5172, 9863, 105, 2392, 3509, 3394, 871, 9568, 6920, 18693, 982, 14723, 4531, 646, 22374, 598, 4205, 14189, 2454, 10180, 3368, 1730, 4109, 1192, 934, 2501, 12554, 6076, 1194, 22604, 1212, 652, 864, 5718, 2789, 1132, 348, 4531, 3869, 14189, 8764, 35, 17841, 1338, 26776, 5974, 15987, 3144, 864, 5718, 2789, 264, 31769, 35, 11884, 3936, 2314, 3196, 898, 13842, 12466, 1507, 2819, 605, 490, 1807, 10, 21, 19857, 10, 7191, 10, 4207, 27929, 81, 1249, 4482, 235, 11884, 3936, 2314, 3196, 7806, 1522, 8894, 4531, 10163, 4157, 1436, 1515, 29525, 32, 6027, 247, 250, 2766, 8271, 9754, 10, 13328, 8781, 1739, 1856, 1539, 6071, 4887, 17798, 3910, 958, 321, 3960, 21938, 12263, 6183, 200, 17223, 1882, 1594, 222, 1449, 14189, 395, 16254, 775, 1279, 646, 9555, 187, 3893, 10, 564, 570, 6799, 5620, 829, 29091, 5104, 8548, 6142, 173, 12623, 3442, 10711, 8259, 6436, 7219, 394, 13881, 4673, 6838, 19380, 1931, 599, 25200, 3783, 4531, 14302, 35, 15637, 1643, 5906, 2627, 397, 24572, 10, 14218, 113, 198, 8649, 1228, 10180, 3368, 1037, 583, 213, 5051, 14189, 213, 17088, 194, 14822, 1372, 1293, 1721, 4237, 646, 26532, 760, 12554, 11952, 10, 298, 1701, 2207, 2410, 790, 362, 3132, 599, 25200, 10274, 10, 9090, 13961, 7037, 1052, 1704, 928, 6]),\n",
              "       list([5, 11311, 1062, 5934, 9881, 13760, 14349, 10, 9429, 15230, 10285, 24232, 1619, 1107, 5916, 3874, 10, 3200, 29446, 20392, 22055, 3874, 10, 3200, 29446, 456, 4264, 2154, 14349, 10, 9429, 12019, 9473, 15230, 759, 125, 85, 489, 179, 13943, 562, 2131, 2731, 17, 308, 172, 10285, 946, 6471, 1811, 15230, 715, 1376, 9881, 16149, 1619, 1107, 5916, 1095, 5934, 493, 4931, 5589, 531, 172, 1024, 21, 21849, 125, 10285, 1298, 8251, 444, 26972, 753, 1486, 6424, 3090, 880, 155, 3420, 18100, 2245, 14349, 10, 9429, 2739, 113, 1024, 9232, 4710, 10285, 946, 1347, 661, 14349, 10, 9429, 467, 1330, 187, 17218, 259, 433, 2158, 76, 286, 362, 6583, 3331, 4580, 368, 2381, 19473, 2381, 19473, 2381, 19473, 7428, 37, 15429, 18621, 1038, 4596, 18675, 247, 13152, 4010, 6038, 1031, 4933, 12574, 2748, 3798, 14060, 4580, 816, 1488, 724, 368, 2381, 19473, 6]),\n",
              "       list([5, 20277, 10, 222, 21, 402, 2899, 408, 1212, 14631, 162, 7045, 5959, 1204, 20277, 222, 21, 402, 13, 16486, 2549, 8888, 20042, 10771, 2346, 1616, 3904, 6152, 5959, 1204, 737, 141, 5639, 1396, 108, 1468, 823, 182, 1263, 20277, 293, 18541, 222, 21, 402, 246, 938, 2899, 408, 1212, 14631, 21, 6896, 235, 1823, 2207, 7045, 7427, 668, 10, 14459, 21, 30324, 80, 1468, 246, 1144, 920, 11533, 1980, 1345, 21, 402, 2522, 1516, 1366, 13000, 7217, 2249, 85, 8649, 365, 8821, 10, 86, 216, 1823, 1622, 85, 1055, 2522, 16141, 7217, 6734, 3516, 1516, 322, 506, 6659, 384, 21, 6896, 235, 17079, 918, 12621, 5856, 1447, 21, 7895, 442, 362, 1237, 3516, 21, 402, 2522, 2613, 13000, 208, 7217, 162, 7045, 280, 182, 3013, 2899, 408, 1212, 14631, 2899, 408, 2087, 14631, 8215, 3925, 108, 8898, 72, 18355, 85, 3708, 18665, 10, 4327, 25662, 7368, 108, 6729, 1114, 395, 966, 2522, 21, 402, 19629, 6062, 521, 625, 24703, 4632, 467, 1284, 1468, 938, 668, 20335, 21, 18591, 23451, 1606, 2363, 16868, 451, 4927, 1828, 13897, 5734, 17, 308, 14197, 4191, 7566, 9077, 9765, 25488, 1387, 1714, 2792, 1204, 379, 697, 18269, 754, 20335, 343, 958, 4913, 12403, 4632, 5578, 18370, 24703, 4632, 2601, 1278, 78, 3635, 28276, 2238, 4041, 23451, 1606, 11354, 299, 2346, 1616, 605, 3635, 7417, 245, 9875, 1141, 21, 402, 72, 705, 20277, 4141, 926, 440, 24703, 2750, 2238, 213, 3622, 4901, 440, 548, 498, 8898, 72, 18355, 85, 3708, 18665, 10, 21, 402, 4430, 20112, 141, 478, 2085, 1885, 982, 224, 256, 684, 1487, 1194, 318, 44, 189, 22845, 193, 1075, 3708, 6016, 5140, 9861, 1173, 3665, 570, 25716, 1457, 157, 1330, 3448, 23451, 1606, 387, 10, 2668, 3398, 2957, 589, 29725, 11598, 10, 24206, 10, 7264, 26684, 343, 29142, 4632, 20335, 324, 435, 499, 387, 573, 461, 3663, 4854, 2966, 21, 21169, 1955, 3422, 926, 4336, 395, 23451, 1606, 4016, 24623, 10, 10172, 16013, 10, 18271, 85, 444, 1144, 33, 6264, 394, 508, 437, 1717, 4155, 1536, 918, 12621, 20335, 2668, 304, 3519, 6573, 11598, 10, 9592, 386, 589, 343, 22493, 289, 3427, 873, 3516, 461, 21659, 668, 1100, 7264, 599, 7624, 2549, 6358, 1604, 2371, 29725, 11598, 10, 24206, 10, 182, 730, 809, 286, 62, 5481, 182, 33, 290, 55, 281, 814, 2243, 424, 395, 12350, 19629, 6062, 521, 307, 1194, 318, 21, 402, 10172, 13476, 1885, 18665, 10, 269, 907, 13158, 35, 387, 10, 2668, 3398, 2957, 589, 11304, 12503, 16164, 13, 55, 308, 35, 603, 116, 134, 29725, 11598, 10, 24206, 10, 227, 3122, 125, 6849, 3362, 24625, 4632, 5436, 754, 5856, 7892, 10447, 847, 214, 927, 2105, 12812, 1031, 411, 730, 809, 286, 62, 5481, 21, 402, 16580, 599, 14162, 3122, 125, 6849, 3362, 24625, 4632, 5436, 386, 26432, 4311, 7472, 2761, 203, 11598, 31397, 6664, 19453, 10, 11291, 72, 1110, 1899, 2159, 12875, 5856, 2238, 926, 4336, 12574, 4430, 3732, 6509, 234, 3816, 640, 5788, 5856, 438, 2171, 21, 3328, 442, 5569, 1237, 3516, 21, 402, 187, 1641, 395, 254, 1649, 24703, 18121, 35, 2238, 1237, 3516, 21, 402, 6])],\n",
              "      dtype=object)"
            ]
          },
          "metadata": {},
          "execution_count": 120
        }
      ]
    },
    {
      "cell_type": "code",
      "source": [
        "def split_list(a_list, p):\n",
        "    split = int(len(a_list)//(1/(1-p)))\n",
        "    return a_list[:split], a_list[split:]\n",
        "x_train, x_test = split_list(text_arr, 0.25)\n",
        "y_train, y_test = split_list(label_arr, 0.25)\n",
        "x_train, x_val = split_list(x_train, 0.30)\n",
        "y_train, y_val = split_list(y_train, 0.30)"
      ],
      "metadata": {
        "id": "_S8JrvS6EOO1"
      },
      "execution_count": 121,
      "outputs": []
    },
    {
      "cell_type": "code",
      "source": [
        "maxlen = 200  # Only consider the first 200 words of each movie review\n",
        "print(len(x_train), \"Training sequences\")\n",
        "print(len(x_val), \"Validation sequences\")\n",
        "x_train = keras.preprocessing.sequence.pad_sequences(x_train, maxlen=maxlen)\n",
        "x_val = keras.preprocessing.sequence.pad_sequences(x_val, maxlen=maxlen)\n",
        "x_test = keras.preprocessing.sequence.pad_sequences(x_test, maxlen=maxlen)"
      ],
      "metadata": {
        "colab": {
          "base_uri": "https://localhost:8080/"
        },
        "id": "1BzfKOxS6zxA",
        "outputId": "4f271c0d-ad45-4a20-c9b9-6e6a5dcf04ec"
      },
      "execution_count": 122,
      "outputs": [
        {
          "output_type": "stream",
          "name": "stdout",
          "text": [
            "11080 Training sequences\n",
            "4750 Validation sequences\n"
          ]
        }
      ]
    },
    {
      "cell_type": "code",
      "source": [
        "embed_dim = 32  # Embedding size for each token\n",
        "num_heads = 2  # Number of attention heads\n",
        "ff_dim = 32  # Hidden layer size in feed forward network inside transformer\n",
        "vocab_size = 210000\n",
        "\n",
        "inputs = layers.Input(shape=(maxlen,))\n",
        "embedding_layer = TokenAndPositionEmbedding(maxlen, vocab_size, embed_dim)\n",
        "x = embedding_layer(inputs)\n",
        "transformer_block = TransformerBlock(embed_dim, num_heads, ff_dim)\n",
        "x = transformer_block(x)\n",
        "x = layers.GlobalAveragePooling1D()(x)\n",
        "x = layers.Dropout(0.6)(x)\n",
        "x = layers.Dense(20, activation=\"relu\")(x)\n",
        "x = layers.Dropout(0.3)(x)\n",
        "outputs = layers.Dense(2, activation=\"softmax\")(x)\n",
        "\n",
        "model = keras.Model(inputs=inputs, outputs=outputs)"
      ],
      "metadata": {
        "id": "vg-zM3dB66Bx"
      },
      "execution_count": 123,
      "outputs": []
    },
    {
      "cell_type": "code",
      "source": [
        "model.summary()"
      ],
      "metadata": {
        "id": "2g1pJSBmrk1n",
        "outputId": "1bdd97e7-c2d0-480a-c7c2-f18afce3ba2f",
        "colab": {
          "base_uri": "https://localhost:8080/"
        }
      },
      "execution_count": 131,
      "outputs": [
        {
          "output_type": "stream",
          "name": "stdout",
          "text": [
            "Model: \"model_6\"\n",
            "_________________________________________________________________\n",
            " Layer (type)                Output Shape              Param #   \n",
            "=================================================================\n",
            " input_7 (InputLayer)        [(None, 200)]             0         \n",
            "                                                                 \n",
            " token_and_position_embeddin  (None, 200, 32)          6726400   \n",
            " g_6 (TokenAndPositionEmbedd                                     \n",
            " ing)                                                            \n",
            "                                                                 \n",
            " transformer_block_6 (Transf  (None, 200, 32)          10656     \n",
            " ormerBlock)                                                     \n",
            "                                                                 \n",
            " global_average_pooling1d_6   (None, 32)               0         \n",
            " (GlobalAveragePooling1D)                                        \n",
            "                                                                 \n",
            " dropout_26 (Dropout)        (None, 32)                0         \n",
            "                                                                 \n",
            " dense_26 (Dense)            (None, 20)                660       \n",
            "                                                                 \n",
            " dropout_27 (Dropout)        (None, 20)                0         \n",
            "                                                                 \n",
            " dense_27 (Dense)            (None, 2)                 42        \n",
            "                                                                 \n",
            "=================================================================\n",
            "Total params: 6,737,758\n",
            "Trainable params: 6,737,758\n",
            "Non-trainable params: 0\n",
            "_________________________________________________________________\n"
          ]
        }
      ]
    },
    {
      "cell_type": "code",
      "source": [
        "model.compile(optimizer=\"adam\", loss=\"sparse_categorical_crossentropy\", metrics=[\"accuracy\"])\n",
        "history = model.fit(\n",
        "    x_train, y_train, batch_size=32, epochs=20, validation_data=(x_val, y_val)\n",
        ")"
      ],
      "metadata": {
        "colab": {
          "base_uri": "https://localhost:8080/"
        },
        "id": "QRwn6SOW7DMX",
        "outputId": "0d778dd1-6e11-4861-f324-56f3a2cf25a5"
      },
      "execution_count": 124,
      "outputs": [
        {
          "output_type": "stream",
          "name": "stdout",
          "text": [
            "Epoch 1/20\n",
            "347/347 [==============================] - 82s 232ms/step - loss: 0.4547 - accuracy: 0.7702 - val_loss: 0.2429 - val_accuracy: 0.8964\n",
            "Epoch 2/20\n",
            "347/347 [==============================] - 69s 200ms/step - loss: 0.1495 - accuracy: 0.9504 - val_loss: 0.1760 - val_accuracy: 0.9328\n",
            "Epoch 3/20\n",
            "347/347 [==============================] - 68s 196ms/step - loss: 0.0533 - accuracy: 0.9843 - val_loss: 0.3017 - val_accuracy: 0.9206\n",
            "Epoch 4/20\n",
            "347/347 [==============================] - 70s 201ms/step - loss: 0.0271 - accuracy: 0.9940 - val_loss: 0.2794 - val_accuracy: 0.9375\n",
            "Epoch 5/20\n",
            "347/347 [==============================] - 69s 199ms/step - loss: 0.0120 - accuracy: 0.9971 - val_loss: 0.4106 - val_accuracy: 0.9272\n",
            "Epoch 6/20\n",
            "347/347 [==============================] - 68s 197ms/step - loss: 0.0150 - accuracy: 0.9961 - val_loss: 0.3516 - val_accuracy: 0.9349\n",
            "Epoch 7/20\n",
            "347/347 [==============================] - 69s 198ms/step - loss: 0.0144 - accuracy: 0.9964 - val_loss: 0.3140 - val_accuracy: 0.9282\n",
            "Epoch 8/20\n",
            "347/347 [==============================] - 73s 212ms/step - loss: 0.0110 - accuracy: 0.9977 - val_loss: 0.4287 - val_accuracy: 0.9293\n",
            "Epoch 9/20\n",
            "347/347 [==============================] - 70s 202ms/step - loss: 0.0036 - accuracy: 0.9997 - val_loss: 0.5378 - val_accuracy: 0.9272\n",
            "Epoch 10/20\n",
            "347/347 [==============================] - 69s 200ms/step - loss: 0.0032 - accuracy: 0.9996 - val_loss: 0.5619 - val_accuracy: 0.9284\n",
            "Epoch 11/20\n",
            "347/347 [==============================] - 69s 198ms/step - loss: 0.0050 - accuracy: 0.9996 - val_loss: 0.5269 - val_accuracy: 0.9314\n",
            "Epoch 12/20\n",
            "347/347 [==============================] - 71s 205ms/step - loss: 0.0033 - accuracy: 0.9998 - val_loss: 0.5345 - val_accuracy: 0.9293\n",
            "Epoch 13/20\n",
            "347/347 [==============================] - 69s 199ms/step - loss: 0.0064 - accuracy: 0.9989 - val_loss: 0.8229 - val_accuracy: 0.8827\n",
            "Epoch 14/20\n",
            "347/347 [==============================] - 69s 199ms/step - loss: 0.0190 - accuracy: 0.9957 - val_loss: 0.4880 - val_accuracy: 0.9225\n",
            "Epoch 15/20\n",
            "347/347 [==============================] - 71s 205ms/step - loss: 0.0083 - accuracy: 0.9981 - val_loss: 0.4971 - val_accuracy: 0.9194\n",
            "Epoch 16/20\n",
            "347/347 [==============================] - 69s 198ms/step - loss: 0.0107 - accuracy: 0.9969 - val_loss: 0.5651 - val_accuracy: 0.9198\n",
            "Epoch 17/20\n",
            "347/347 [==============================] - 69s 198ms/step - loss: 0.0071 - accuracy: 0.9986 - val_loss: 0.5304 - val_accuracy: 0.9288\n",
            "Epoch 18/20\n",
            "347/347 [==============================] - 71s 205ms/step - loss: 0.0054 - accuracy: 0.9992 - val_loss: 0.6864 - val_accuracy: 0.9265\n",
            "Epoch 19/20\n",
            "347/347 [==============================] - 98s 282ms/step - loss: 0.0070 - accuracy: 0.9991 - val_loss: 0.5778 - val_accuracy: 0.9259\n",
            "Epoch 20/20\n",
            "347/347 [==============================] - 69s 199ms/step - loss: 0.0015 - accuracy: 0.9997 - val_loss: 0.7171 - val_accuracy: 0.9251\n"
          ]
        }
      ]
    },
    {
      "cell_type": "code",
      "source": [
        "savepath = '/content/drive/MyDrive/Challenge2/transformer_weights1.h5'"
      ],
      "metadata": {
        "id": "-mxBf5NuMVho"
      },
      "execution_count": 125,
      "outputs": []
    },
    {
      "cell_type": "code",
      "source": [
        "model.save_weights(savepath)"
      ],
      "metadata": {
        "id": "cThDcdhtMizB"
      },
      "execution_count": 126,
      "outputs": []
    },
    {
      "cell_type": "code",
      "source": [
        "print(\"Accuracy of the model on Training Data is - \" , model.evaluate(x_train,y_train)[1]*100 , \"%\")\n",
        "print(\"Accuracy of the model on Validating Data is - \" , model.evaluate(x_val,y_val)[1]*100 , \"%\")\n",
        "print(\"Accuracy of the model on Testing Data is - \" , model.evaluate(x_test,y_test)[1]*100 , \"%\")"
      ],
      "metadata": {
        "id": "3Kpm2O6XMone",
        "outputId": "888a88ec-19fa-4968-9a77-0da3a600e4e8",
        "colab": {
          "base_uri": "https://localhost:8080/"
        }
      },
      "execution_count": 127,
      "outputs": [
        {
          "output_type": "stream",
          "name": "stdout",
          "text": [
            "347/347 [==============================] - 16s 46ms/step - loss: 0.0020 - accuracy: 0.9997\n",
            "Accuracy of the model on Training Data is -  99.97292160987854 %\n",
            "149/149 [==============================] - 7s 45ms/step - loss: 0.7171 - accuracy: 0.9251\n",
            "Accuracy of the model on Validating Data is -  92.50526428222656 %\n",
            "165/165 [==============================] - 8s 46ms/step - loss: 0.7883 - accuracy: 0.9170\n",
            "Accuracy of the model on Testing Data is -  91.69982671737671 %\n"
          ]
        }
      ]
    },
    {
      "cell_type": "code",
      "source": [
        "epochs = [i for i in range(20)]\n",
        "fig , ax = plt.subplots(1,2)\n",
        "train_acc = history.history['accuracy']\n",
        "train_loss = history.history['loss']\n",
        "val_acc = history.history['val_accuracy']\n",
        "val_loss = history.history['val_loss']\n",
        "fig.set_size_inches(20,10)\n",
        "\n",
        "ax[0].plot(epochs , train_acc , 'go-' , label = 'Training Accuracy')\n",
        "ax[0].plot(epochs , val_acc , 'ro-' , label = 'Testing Accuracy')\n",
        "ax[0].set_title('Training & Testing Accuracy')\n",
        "ax[0].legend()\n",
        "ax[0].set_xlabel(\"Epochs\")\n",
        "ax[0].set_ylabel(\"Accuracy\")\n",
        "\n",
        "ax[1].plot(epochs , train_loss , 'go-' , label = 'Training Loss')\n",
        "ax[1].plot(epochs , val_loss , 'ro-' , label = 'Testing Loss')\n",
        "ax[1].set_title('Training & Testing Loss')\n",
        "ax[1].legend()\n",
        "ax[1].set_xlabel(\"Epochs\")\n",
        "ax[1].set_ylabel(\"Loss\")\n",
        "plt.show()"
      ],
      "metadata": {
        "id": "8GVICGnHMpFE",
        "outputId": "c1764bb1-1df0-411b-e6dd-fcd98c11a2cf",
        "colab": {
          "base_uri": "https://localhost:8080/",
          "height": 621
        }
      },
      "execution_count": 128,
      "outputs": [
        {
          "output_type": "display_data",
          "data": {
            "text/plain": [
              "<Figure size 1440x720 with 2 Axes>"
            ],
            "image/png": "[encoded data removed]"
          },
          "metadata": {
            "needs_background": "light"
          }
        }
      ]
    }
  ]
}